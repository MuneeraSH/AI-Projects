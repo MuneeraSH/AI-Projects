{
 "cells": [
  {
   "cell_type": "code",
   "execution_count": 1,
   "metadata": {},
   "outputs": [],
   "source": [
    "from bs4 import BeautifulSoup\n",
    "import requests\n",
    "import math\n",
    "import pandas as pd\n",
    "import patsy\n",
    "\n",
    "import scipy.stats as stats\n",
    "import statsmodels.api as sm\n",
    "import statsmodels.formula.api as smf\n",
    "from sklearn import preprocessing\n",
    "from sklearn.linear_model import LinearRegression,Ridge\n",
    "from sklearn.model_selection import train_test_split, cross_val_score\n",
    "from sklearn.preprocessing import PolynomialFeatures,StandardScaler\n",
    "from sklearn.pipeline import make_pipeline\n",
    "\n",
    "import numpy as np\n",
    "import pickle\n",
    "import matplotlib.pyplot as plt\n",
    "%matplotlib inline\n",
    "import seaborn as sns\n",
    "sns.set()"
   ]
  },
  {
   "cell_type": "markdown",
   "metadata": {},
   "source": [
    "### Acquiring data \n",
    "\n",
    "Sources we acquired from are www.sa.aqar.fm and www.propertyfinder.sa"
   ]
  },
  {
   "cell_type": "code",
   "execution_count": 3,
   "metadata": {},
   "outputs": [],
   "source": [
    "villas=[]\n",
    "widths1=[]\n",
    "i=1\n",
    "\n",
    "while i<10:\n",
    "    url = f\"https://sa.aqar.fm/%D9%81%D9%84%D9%84-%D9%84%D9%84%D8%A8%D9%8A%D8%B9/{i}\"\n",
    "    res=requests.get(url)\n",
    "    if res.status_code==200:\n",
    "        p=res.text\n",
    "        soup=BeautifulSoup(p,\"lxml\")\n",
    "        i+=1\n",
    "        \n",
    "        houses=soup.find_all(\"div\", {\"class\":\"titleAndDetails\"})\n",
    "        headers = [\"Price\", \"#Bedrooms\", \"#Bathrooms\", \"Size(m²)\",\"District\"]\n",
    "        for house in houses:\n",
    "            price = float(house.find(class_=\"price\").text.replace(\"ريال\", \"\").replace(\",\", \"\").strip())\n",
    "            bed = int(house.find(class_=\"bed\").text.strip())\n",
    "            bath = int(house.find(class_=\"bath\").text.strip())\n",
    "            size = float(house.find(class_=\"size\").text.replace(\"م²\", \"\").strip())\n",
    "            districts = house.find(class_=\"locText\").text.strip()\n",
    "            house_dict = dict(zip(headers, [price, bed, bath, size, districts]))\n",
    "            villas.append(house_dict)\n",
    "            \n",
    "        URL= soup.find_all(\"a\",class_=\"listTitle\")\n",
    "        for h in URL:\n",
    "            pageurl=\"https://sa.aqar.fm\"+h[\"href\"]\n",
    "            resp=requests.get(pageurl)\n",
    "            hpage= resp.text\n",
    "            hsoup=BeautifulSoup(hpage, \"lxml\")\n",
    "            table=hsoup.find(\"table\",class_=\"dc-detailsTable\")\n",
    "            rows=table.find_all(\"tr\")\n",
    "            \n",
    "            for row in rows:\n",
    "                if \"الشارع\" in row.text:\n",
    "                    x=int(row.find_all(\"td\")[0].text.replace(\"م\", \"\").strip())\n",
    "                    widths1.append(x)\n",
    "    else:\n",
    "        break"
   ]
  },
  {
   "cell_type": "code",
   "execution_count": 4,
   "metadata": {},
   "outputs": [
    {
     "data": {
      "text/plain": [
       "180"
      ]
     },
     "execution_count": 4,
     "metadata": {},
     "output_type": "execute_result"
    }
   ],
   "source": [
    "len(villas)"
   ]
  },
  {
   "cell_type": "code",
   "execution_count": 5,
   "metadata": {},
   "outputs": [
    {
     "data": {
      "text/plain": [
       "176"
      ]
     },
     "execution_count": 5,
     "metadata": {},
     "output_type": "execute_result"
    }
   ],
   "source": [
    "len(widths1)"
   ]
  },
  {
   "cell_type": "code",
   "execution_count": 7,
   "metadata": {},
   "outputs": [],
   "source": [
    "from statistics import mean\n",
    "\n",
    "ele=1\n",
    "\n",
    "while ele<(len(villas)-len(widths1)+1):\n",
    "    widths1.append(int(mean(widths1)))\n",
    "    ele+=1"
   ]
  },
  {
   "cell_type": "code",
   "execution_count": 8,
   "metadata": {},
   "outputs": [
    {
     "data": {
      "text/plain": [
       "180"
      ]
     },
     "execution_count": 8,
     "metadata": {},
     "output_type": "execute_result"
    }
   ],
   "source": [
    "len(widths1)"
   ]
  },
  {
   "cell_type": "code",
   "execution_count": 128,
   "metadata": {},
   "outputs": [],
   "source": [
    "villaDF=pd.DataFrame(villas)"
   ]
  },
  {
   "cell_type": "code",
   "execution_count": 129,
   "metadata": {},
   "outputs": [],
   "source": [
    "villaDF[\"StreetWidth\"]=widths1"
   ]
  },
  {
   "cell_type": "code",
   "execution_count": 130,
   "metadata": {},
   "outputs": [
    {
     "data": {
      "text/html": [
       "<div>\n",
       "<style scoped>\n",
       "    .dataframe tbody tr th:only-of-type {\n",
       "        vertical-align: middle;\n",
       "    }\n",
       "\n",
       "    .dataframe tbody tr th {\n",
       "        vertical-align: top;\n",
       "    }\n",
       "\n",
       "    .dataframe thead th {\n",
       "        text-align: right;\n",
       "    }\n",
       "</style>\n",
       "<table border=\"1\" class=\"dataframe\">\n",
       "  <thead>\n",
       "    <tr style=\"text-align: right;\">\n",
       "      <th></th>\n",
       "      <th>Price</th>\n",
       "      <th>#Bedrooms</th>\n",
       "      <th>#Bathrooms</th>\n",
       "      <th>Size(m²)</th>\n",
       "      <th>District</th>\n",
       "      <th>StreetWidth</th>\n",
       "    </tr>\n",
       "  </thead>\n",
       "  <tbody>\n",
       "    <tr>\n",
       "      <th>0</th>\n",
       "      <td>1350000.0</td>\n",
       "      <td>7</td>\n",
       "      <td>5</td>\n",
       "      <td>455.0</td>\n",
       "      <td>حي طويق - المزاحمية</td>\n",
       "      <td>20</td>\n",
       "    </tr>\n",
       "    <tr>\n",
       "      <th>1</th>\n",
       "      <td>1900000.0</td>\n",
       "      <td>5</td>\n",
       "      <td>5</td>\n",
       "      <td>1200.0</td>\n",
       "      <td>حي اللؤلؤ - الخبر</td>\n",
       "      <td>20</td>\n",
       "    </tr>\n",
       "    <tr>\n",
       "      <th>2</th>\n",
       "      <td>1025000.0</td>\n",
       "      <td>7</td>\n",
       "      <td>5</td>\n",
       "      <td>315.0</td>\n",
       "      <td>حي المعمورة - خميس مشيط</td>\n",
       "      <td>15</td>\n",
       "    </tr>\n",
       "    <tr>\n",
       "      <th>3</th>\n",
       "      <td>2400000.0</td>\n",
       "      <td>7</td>\n",
       "      <td>5</td>\n",
       "      <td>750.0</td>\n",
       "      <td>حي الرمال - الرياض</td>\n",
       "      <td>25</td>\n",
       "    </tr>\n",
       "    <tr>\n",
       "      <th>4</th>\n",
       "      <td>1350000.0</td>\n",
       "      <td>7</td>\n",
       "      <td>5</td>\n",
       "      <td>300.0</td>\n",
       "      <td>حي نمار - الرياض</td>\n",
       "      <td>15</td>\n",
       "    </tr>\n",
       "    <tr>\n",
       "      <th>...</th>\n",
       "      <td>...</td>\n",
       "      <td>...</td>\n",
       "      <td>...</td>\n",
       "      <td>...</td>\n",
       "      <td>...</td>\n",
       "      <td>...</td>\n",
       "    </tr>\n",
       "    <tr>\n",
       "      <th>175</th>\n",
       "      <td>950000.0</td>\n",
       "      <td>4</td>\n",
       "      <td>4</td>\n",
       "      <td>300.0</td>\n",
       "      <td>حي طويق - الرياض</td>\n",
       "      <td>25</td>\n",
       "    </tr>\n",
       "    <tr>\n",
       "      <th>176</th>\n",
       "      <td>1850000.0</td>\n",
       "      <td>5</td>\n",
       "      <td>5</td>\n",
       "      <td>320.0</td>\n",
       "      <td>حي النرجس - الرياض</td>\n",
       "      <td>18</td>\n",
       "    </tr>\n",
       "    <tr>\n",
       "      <th>177</th>\n",
       "      <td>1020000.0</td>\n",
       "      <td>5</td>\n",
       "      <td>5</td>\n",
       "      <td>220.0</td>\n",
       "      <td>حي طويق - الرياض</td>\n",
       "      <td>18</td>\n",
       "    </tr>\n",
       "    <tr>\n",
       "      <th>178</th>\n",
       "      <td>6000000.0</td>\n",
       "      <td>5</td>\n",
       "      <td>5</td>\n",
       "      <td>1800.0</td>\n",
       "      <td>حي الفيحاء - الرياض</td>\n",
       "      <td>18</td>\n",
       "    </tr>\n",
       "    <tr>\n",
       "      <th>179</th>\n",
       "      <td>960000.0</td>\n",
       "      <td>5</td>\n",
       "      <td>4</td>\n",
       "      <td>300.0</td>\n",
       "      <td>حي الملك فهد - مكة المكرمة</td>\n",
       "      <td>18</td>\n",
       "    </tr>\n",
       "  </tbody>\n",
       "</table>\n",
       "<p>180 rows × 6 columns</p>\n",
       "</div>"
      ],
      "text/plain": [
       "         Price  #Bedrooms  #Bathrooms  Size(m²)                    District  \\\n",
       "0    1350000.0          7           5     455.0         حي طويق - المزاحمية   \n",
       "1    1900000.0          5           5    1200.0           حي اللؤلؤ - الخبر   \n",
       "2    1025000.0          7           5     315.0     حي المعمورة - خميس مشيط   \n",
       "3    2400000.0          7           5     750.0          حي الرمال - الرياض   \n",
       "4    1350000.0          7           5     300.0            حي نمار - الرياض   \n",
       "..         ...        ...         ...       ...                         ...   \n",
       "175   950000.0          4           4     300.0            حي طويق - الرياض   \n",
       "176  1850000.0          5           5     320.0          حي النرجس - الرياض   \n",
       "177  1020000.0          5           5     220.0            حي طويق - الرياض   \n",
       "178  6000000.0          5           5    1800.0         حي الفيحاء - الرياض   \n",
       "179   960000.0          5           4     300.0  حي الملك فهد - مكة المكرمة   \n",
       "\n",
       "     StreetWidth  \n",
       "0             20  \n",
       "1             20  \n",
       "2             15  \n",
       "3             25  \n",
       "4             15  \n",
       "..           ...  \n",
       "175           25  \n",
       "176           18  \n",
       "177           18  \n",
       "178           18  \n",
       "179           18  \n",
       "\n",
       "[180 rows x 6 columns]"
      ]
     },
     "execution_count": 130,
     "metadata": {},
     "output_type": "execute_result"
    }
   ],
   "source": [
    "villaDF"
   ]
  },
  {
   "cell_type": "code",
   "execution_count": 131,
   "metadata": {},
   "outputs": [
    {
     "data": {
      "text/html": [
       "<div>\n",
       "<style scoped>\n",
       "    .dataframe tbody tr th:only-of-type {\n",
       "        vertical-align: middle;\n",
       "    }\n",
       "\n",
       "    .dataframe tbody tr th {\n",
       "        vertical-align: top;\n",
       "    }\n",
       "\n",
       "    .dataframe thead th {\n",
       "        text-align: right;\n",
       "    }\n",
       "</style>\n",
       "<table border=\"1\" class=\"dataframe\">\n",
       "  <thead>\n",
       "    <tr style=\"text-align: right;\">\n",
       "      <th></th>\n",
       "      <th>Price</th>\n",
       "      <th>#Bedrooms</th>\n",
       "      <th>#Bathrooms</th>\n",
       "      <th>Size(m²)</th>\n",
       "      <th>District</th>\n",
       "      <th>StreetWidth</th>\n",
       "    </tr>\n",
       "  </thead>\n",
       "  <tbody>\n",
       "    <tr>\n",
       "      <th>3</th>\n",
       "      <td>2400000.0</td>\n",
       "      <td>7</td>\n",
       "      <td>5</td>\n",
       "      <td>750.0</td>\n",
       "      <td>حي الرمال - الرياض</td>\n",
       "      <td>25</td>\n",
       "    </tr>\n",
       "    <tr>\n",
       "      <th>4</th>\n",
       "      <td>1350000.0</td>\n",
       "      <td>7</td>\n",
       "      <td>5</td>\n",
       "      <td>300.0</td>\n",
       "      <td>حي نمار - الرياض</td>\n",
       "      <td>15</td>\n",
       "    </tr>\n",
       "    <tr>\n",
       "      <th>5</th>\n",
       "      <td>7500000.0</td>\n",
       "      <td>7</td>\n",
       "      <td>5</td>\n",
       "      <td>1902.0</td>\n",
       "      <td>حي الربوة - الرياض</td>\n",
       "      <td>20</td>\n",
       "    </tr>\n",
       "    <tr>\n",
       "      <th>7</th>\n",
       "      <td>1650000.0</td>\n",
       "      <td>5</td>\n",
       "      <td>3</td>\n",
       "      <td>312.0</td>\n",
       "      <td>حي المونسية - الرياض</td>\n",
       "      <td>20</td>\n",
       "    </tr>\n",
       "    <tr>\n",
       "      <th>9</th>\n",
       "      <td>3000000.0</td>\n",
       "      <td>7</td>\n",
       "      <td>5</td>\n",
       "      <td>676.0</td>\n",
       "      <td>حي المحمدية - الرياض</td>\n",
       "      <td>15</td>\n",
       "    </tr>\n",
       "    <tr>\n",
       "      <th>...</th>\n",
       "      <td>...</td>\n",
       "      <td>...</td>\n",
       "      <td>...</td>\n",
       "      <td>...</td>\n",
       "      <td>...</td>\n",
       "      <td>...</td>\n",
       "    </tr>\n",
       "    <tr>\n",
       "      <th>174</th>\n",
       "      <td>1750000.0</td>\n",
       "      <td>7</td>\n",
       "      <td>5</td>\n",
       "      <td>300.0</td>\n",
       "      <td>حي جامعة الامام محمد بن سعود الاسلامية - الرياض</td>\n",
       "      <td>100</td>\n",
       "    </tr>\n",
       "    <tr>\n",
       "      <th>175</th>\n",
       "      <td>950000.0</td>\n",
       "      <td>4</td>\n",
       "      <td>4</td>\n",
       "      <td>300.0</td>\n",
       "      <td>حي طويق - الرياض</td>\n",
       "      <td>25</td>\n",
       "    </tr>\n",
       "    <tr>\n",
       "      <th>176</th>\n",
       "      <td>1850000.0</td>\n",
       "      <td>5</td>\n",
       "      <td>5</td>\n",
       "      <td>320.0</td>\n",
       "      <td>حي النرجس - الرياض</td>\n",
       "      <td>18</td>\n",
       "    </tr>\n",
       "    <tr>\n",
       "      <th>177</th>\n",
       "      <td>1020000.0</td>\n",
       "      <td>5</td>\n",
       "      <td>5</td>\n",
       "      <td>220.0</td>\n",
       "      <td>حي طويق - الرياض</td>\n",
       "      <td>18</td>\n",
       "    </tr>\n",
       "    <tr>\n",
       "      <th>178</th>\n",
       "      <td>6000000.0</td>\n",
       "      <td>5</td>\n",
       "      <td>5</td>\n",
       "      <td>1800.0</td>\n",
       "      <td>حي الفيحاء - الرياض</td>\n",
       "      <td>18</td>\n",
       "    </tr>\n",
       "  </tbody>\n",
       "</table>\n",
       "<p>107 rows × 6 columns</p>\n",
       "</div>"
      ],
      "text/plain": [
       "         Price  #Bedrooms  #Bathrooms  Size(m²)  \\\n",
       "3    2400000.0          7           5     750.0   \n",
       "4    1350000.0          7           5     300.0   \n",
       "5    7500000.0          7           5    1902.0   \n",
       "7    1650000.0          5           3     312.0   \n",
       "9    3000000.0          7           5     676.0   \n",
       "..         ...        ...         ...       ...   \n",
       "174  1750000.0          7           5     300.0   \n",
       "175   950000.0          4           4     300.0   \n",
       "176  1850000.0          5           5     320.0   \n",
       "177  1020000.0          5           5     220.0   \n",
       "178  6000000.0          5           5    1800.0   \n",
       "\n",
       "                                            District  StreetWidth  \n",
       "3                                 حي الرمال - الرياض           25  \n",
       "4                                   حي نمار - الرياض           15  \n",
       "5                                 حي الربوة - الرياض           20  \n",
       "7                               حي المونسية - الرياض           20  \n",
       "9                               حي المحمدية - الرياض           15  \n",
       "..                                               ...          ...  \n",
       "174  حي جامعة الامام محمد بن سعود الاسلامية - الرياض          100  \n",
       "175                                 حي طويق - الرياض           25  \n",
       "176                               حي النرجس - الرياض           18  \n",
       "177                                 حي طويق - الرياض           18  \n",
       "178                              حي الفيحاء - الرياض           18  \n",
       "\n",
       "[107 rows x 6 columns]"
      ]
     },
     "execution_count": 131,
     "metadata": {},
     "output_type": "execute_result"
    }
   ],
   "source": [
    "villaDF= villaDF[villaDF.District.str.contains(\"الرياض\") == True]\n",
    "villaDF"
   ]
  },
  {
   "cell_type": "code",
   "execution_count": 132,
   "metadata": {},
   "outputs": [
    {
     "data": {
      "text/html": [
       "<div>\n",
       "<style scoped>\n",
       "    .dataframe tbody tr th:only-of-type {\n",
       "        vertical-align: middle;\n",
       "    }\n",
       "\n",
       "    .dataframe tbody tr th {\n",
       "        vertical-align: top;\n",
       "    }\n",
       "\n",
       "    .dataframe thead th {\n",
       "        text-align: right;\n",
       "    }\n",
       "</style>\n",
       "<table border=\"1\" class=\"dataframe\">\n",
       "  <thead>\n",
       "    <tr style=\"text-align: right;\">\n",
       "      <th></th>\n",
       "      <th>Price</th>\n",
       "      <th>#Bedrooms</th>\n",
       "      <th>#Bathrooms</th>\n",
       "      <th>Size(m²)</th>\n",
       "      <th>District</th>\n",
       "      <th>StreetWidth</th>\n",
       "    </tr>\n",
       "  </thead>\n",
       "  <tbody>\n",
       "    <tr>\n",
       "      <th>3</th>\n",
       "      <td>2400000.0</td>\n",
       "      <td>7</td>\n",
       "      <td>5</td>\n",
       "      <td>750.0</td>\n",
       "      <td>حي الرمال - الرياض</td>\n",
       "      <td>25</td>\n",
       "    </tr>\n",
       "    <tr>\n",
       "      <th>4</th>\n",
       "      <td>1350000.0</td>\n",
       "      <td>7</td>\n",
       "      <td>5</td>\n",
       "      <td>300.0</td>\n",
       "      <td>حي نمار - الرياض</td>\n",
       "      <td>15</td>\n",
       "    </tr>\n",
       "    <tr>\n",
       "      <th>5</th>\n",
       "      <td>7500000.0</td>\n",
       "      <td>7</td>\n",
       "      <td>5</td>\n",
       "      <td>1902.0</td>\n",
       "      <td>حي الربوة - الرياض</td>\n",
       "      <td>20</td>\n",
       "    </tr>\n",
       "    <tr>\n",
       "      <th>7</th>\n",
       "      <td>1650000.0</td>\n",
       "      <td>5</td>\n",
       "      <td>3</td>\n",
       "      <td>312.0</td>\n",
       "      <td>حي المونسية - الرياض</td>\n",
       "      <td>20</td>\n",
       "    </tr>\n",
       "    <tr>\n",
       "      <th>9</th>\n",
       "      <td>3000000.0</td>\n",
       "      <td>7</td>\n",
       "      <td>5</td>\n",
       "      <td>676.0</td>\n",
       "      <td>حي المحمدية - الرياض</td>\n",
       "      <td>15</td>\n",
       "    </tr>\n",
       "    <tr>\n",
       "      <th>...</th>\n",
       "      <td>...</td>\n",
       "      <td>...</td>\n",
       "      <td>...</td>\n",
       "      <td>...</td>\n",
       "      <td>...</td>\n",
       "      <td>...</td>\n",
       "    </tr>\n",
       "    <tr>\n",
       "      <th>174</th>\n",
       "      <td>1750000.0</td>\n",
       "      <td>7</td>\n",
       "      <td>5</td>\n",
       "      <td>300.0</td>\n",
       "      <td>حي جامعة الامام محمد بن سعود الاسلامية - الرياض</td>\n",
       "      <td>100</td>\n",
       "    </tr>\n",
       "    <tr>\n",
       "      <th>175</th>\n",
       "      <td>950000.0</td>\n",
       "      <td>4</td>\n",
       "      <td>4</td>\n",
       "      <td>300.0</td>\n",
       "      <td>حي طويق - الرياض</td>\n",
       "      <td>25</td>\n",
       "    </tr>\n",
       "    <tr>\n",
       "      <th>176</th>\n",
       "      <td>1850000.0</td>\n",
       "      <td>5</td>\n",
       "      <td>5</td>\n",
       "      <td>320.0</td>\n",
       "      <td>حي النرجس - الرياض</td>\n",
       "      <td>18</td>\n",
       "    </tr>\n",
       "    <tr>\n",
       "      <th>177</th>\n",
       "      <td>1020000.0</td>\n",
       "      <td>5</td>\n",
       "      <td>5</td>\n",
       "      <td>220.0</td>\n",
       "      <td>حي طويق - الرياض</td>\n",
       "      <td>18</td>\n",
       "    </tr>\n",
       "    <tr>\n",
       "      <th>178</th>\n",
       "      <td>6000000.0</td>\n",
       "      <td>5</td>\n",
       "      <td>5</td>\n",
       "      <td>1800.0</td>\n",
       "      <td>حي الفيحاء - الرياض</td>\n",
       "      <td>18</td>\n",
       "    </tr>\n",
       "  </tbody>\n",
       "</table>\n",
       "<p>103 rows × 6 columns</p>\n",
       "</div>"
      ],
      "text/plain": [
       "         Price  #Bedrooms  #Bathrooms  Size(m²)  \\\n",
       "3    2400000.0          7           5     750.0   \n",
       "4    1350000.0          7           5     300.0   \n",
       "5    7500000.0          7           5    1902.0   \n",
       "7    1650000.0          5           3     312.0   \n",
       "9    3000000.0          7           5     676.0   \n",
       "..         ...        ...         ...       ...   \n",
       "174  1750000.0          7           5     300.0   \n",
       "175   950000.0          4           4     300.0   \n",
       "176  1850000.0          5           5     320.0   \n",
       "177  1020000.0          5           5     220.0   \n",
       "178  6000000.0          5           5    1800.0   \n",
       "\n",
       "                                            District  StreetWidth  \n",
       "3                                 حي الرمال - الرياض           25  \n",
       "4                                   حي نمار - الرياض           15  \n",
       "5                                 حي الربوة - الرياض           20  \n",
       "7                               حي المونسية - الرياض           20  \n",
       "9                               حي المحمدية - الرياض           15  \n",
       "..                                               ...          ...  \n",
       "174  حي جامعة الامام محمد بن سعود الاسلامية - الرياض          100  \n",
       "175                                 حي طويق - الرياض           25  \n",
       "176                               حي النرجس - الرياض           18  \n",
       "177                                 حي طويق - الرياض           18  \n",
       "178                              حي الفيحاء - الرياض           18  \n",
       "\n",
       "[103 rows x 6 columns]"
      ]
     },
     "execution_count": 132,
     "metadata": {},
     "output_type": "execute_result"
    }
   ],
   "source": [
    "villaDF= villaDF[villaDF.District.str.contains(\"حي الرياض - جدة\") == False]\n",
    "villaDF"
   ]
  },
  {
   "cell_type": "code",
   "execution_count": 9,
   "metadata": {},
   "outputs": [],
   "source": [
    "houses_list = []\n",
    "widths=[]\n",
    "\n",
    "i = 1\n",
    "while i < 50:\n",
    "    url = f\"https://sa.aqar.fm/%D8%A8%D9%8A%D8%AA-%D9%84%D9%84%D8%A8%D9%8A%D8%B9/%D8%A7%D9%84%D8%B1%D9%8A%D8%A7%D8%B6/{i}\" \n",
    "    response = requests.get(url)\n",
    "    if response.status_code == 200:\n",
    "        page = response.text\n",
    "        soup = BeautifulSoup(page, \"lxml\")\n",
    "        i += 1\n",
    "        houses=soup.find_all(\"div\", {\"class\":\"titleAndDetails\"})\n",
    "        headers = [\"Price\", \"#Bedrooms\", \"#Bathrooms\", \"Size(m²)\",\"District\"]\n",
    "        for house in houses:\n",
    "            price = float(house.find(class_=\"price\").text.replace(\"ريال\", \"\").replace(\",\", \"\").strip())\n",
    "            bed = int(house.find(class_=\"bed\").text.strip())\n",
    "            bath = int(house.find(class_=\"bath\").text.strip())\n",
    "            size = float(house.find(class_=\"size\").text.replace(\"م²\", \"\").strip())\n",
    "            districts = house.find(class_=\"locText\").text.strip()\n",
    "            house_dict = dict(zip(headers, [price, bed, bath, size, districts]))\n",
    "            houses_list.append(house_dict)\n",
    "            \n",
    "        URL= soup.find_all(\"a\",class_=\"listTitle\")\n",
    "        for h in URL:\n",
    "            pageurl=\"https://sa.aqar.fm\"+h[\"href\"]\n",
    "            resp=requests.get(pageurl)\n",
    "            hpage= resp.text\n",
    "            hsoup=BeautifulSoup(hpage, \"lxml\")\n",
    "            table=hsoup.find(\"table\",class_=\"dc-detailsTable\")\n",
    "            rows=table.find_all(\"tr\")\n",
    "            \n",
    "            for row in rows:\n",
    "                if \"الشارع\" in row.text:\n",
    "                    x=int(row.find_all(\"td\")[0].text.replace(\"م\", \"\").strip())\n",
    "                    widths.append(x)\n",
    "    else:\n",
    "        break"
   ]
  },
  {
   "cell_type": "code",
   "execution_count": 10,
   "metadata": {},
   "outputs": [
    {
     "data": {
      "text/plain": [
       "977"
      ]
     },
     "execution_count": 10,
     "metadata": {},
     "output_type": "execute_result"
    }
   ],
   "source": [
    "len(houses_list)"
   ]
  },
  {
   "cell_type": "code",
   "execution_count": 11,
   "metadata": {},
   "outputs": [
    {
     "data": {
      "text/plain": [
       "899"
      ]
     },
     "execution_count": 11,
     "metadata": {},
     "output_type": "execute_result"
    }
   ],
   "source": [
    "len(widths)"
   ]
  },
  {
   "cell_type": "code",
   "execution_count": 13,
   "metadata": {},
   "outputs": [],
   "source": [
    "\n",
    "e=1\n",
    "\n",
    "while e < (len(houses_list)-len(widths)+1):\n",
    "    widths.append(int(mean(widths)))\n",
    "    e+=1"
   ]
  },
  {
   "cell_type": "code",
   "execution_count": 14,
   "metadata": {},
   "outputs": [
    {
     "data": {
      "text/plain": [
       "977"
      ]
     },
     "execution_count": 14,
     "metadata": {},
     "output_type": "execute_result"
    }
   ],
   "source": [
    "len(widths)"
   ]
  },
  {
   "cell_type": "code",
   "execution_count": 133,
   "metadata": {},
   "outputs": [
    {
     "data": {
      "text/html": [
       "<div>\n",
       "<style scoped>\n",
       "    .dataframe tbody tr th:only-of-type {\n",
       "        vertical-align: middle;\n",
       "    }\n",
       "\n",
       "    .dataframe tbody tr th {\n",
       "        vertical-align: top;\n",
       "    }\n",
       "\n",
       "    .dataframe thead th {\n",
       "        text-align: right;\n",
       "    }\n",
       "</style>\n",
       "<table border=\"1\" class=\"dataframe\">\n",
       "  <thead>\n",
       "    <tr style=\"text-align: right;\">\n",
       "      <th></th>\n",
       "      <th>Price</th>\n",
       "      <th>#Bedrooms</th>\n",
       "      <th>#Bathrooms</th>\n",
       "      <th>Size(m²)</th>\n",
       "      <th>District</th>\n",
       "    </tr>\n",
       "  </thead>\n",
       "  <tbody>\n",
       "    <tr>\n",
       "      <th>0</th>\n",
       "      <td>580000.0</td>\n",
       "      <td>5</td>\n",
       "      <td>5</td>\n",
       "      <td>250.0</td>\n",
       "      <td>حي العزيزية - الرياض</td>\n",
       "    </tr>\n",
       "    <tr>\n",
       "      <th>1</th>\n",
       "      <td>400000.0</td>\n",
       "      <td>5</td>\n",
       "      <td>5</td>\n",
       "      <td>600.0</td>\n",
       "      <td>حي المناخ - الرياض</td>\n",
       "    </tr>\n",
       "    <tr>\n",
       "      <th>2</th>\n",
       "      <td>1450000.0</td>\n",
       "      <td>5</td>\n",
       "      <td>4</td>\n",
       "      <td>480.0</td>\n",
       "      <td>حي طويق - الرياض</td>\n",
       "    </tr>\n",
       "    <tr>\n",
       "      <th>3</th>\n",
       "      <td>300000.0</td>\n",
       "      <td>5</td>\n",
       "      <td>5</td>\n",
       "      <td>213.0</td>\n",
       "      <td>حي الصالحية - الرياض</td>\n",
       "    </tr>\n",
       "    <tr>\n",
       "      <th>4</th>\n",
       "      <td>900000.0</td>\n",
       "      <td>5</td>\n",
       "      <td>5</td>\n",
       "      <td>375.0</td>\n",
       "      <td>حي الدار البيضاء - الرياض</td>\n",
       "    </tr>\n",
       "  </tbody>\n",
       "</table>\n",
       "</div>"
      ],
      "text/plain": [
       "       Price  #Bedrooms  #Bathrooms  Size(m²)                   District\n",
       "0   580000.0          5           5     250.0       حي العزيزية - الرياض\n",
       "1   400000.0          5           5     600.0         حي المناخ - الرياض\n",
       "2  1450000.0          5           4     480.0           حي طويق - الرياض\n",
       "3   300000.0          5           5     213.0       حي الصالحية - الرياض\n",
       "4   900000.0          5           5     375.0  حي الدار البيضاء - الرياض"
      ]
     },
     "execution_count": 133,
     "metadata": {},
     "output_type": "execute_result"
    }
   ],
   "source": [
    "df = pd.DataFrame(houses_list)\n",
    "df.head()"
   ]
  },
  {
   "cell_type": "code",
   "execution_count": 134,
   "metadata": {},
   "outputs": [
    {
     "data": {
      "text/html": [
       "<div>\n",
       "<style scoped>\n",
       "    .dataframe tbody tr th:only-of-type {\n",
       "        vertical-align: middle;\n",
       "    }\n",
       "\n",
       "    .dataframe tbody tr th {\n",
       "        vertical-align: top;\n",
       "    }\n",
       "\n",
       "    .dataframe thead th {\n",
       "        text-align: right;\n",
       "    }\n",
       "</style>\n",
       "<table border=\"1\" class=\"dataframe\">\n",
       "  <thead>\n",
       "    <tr style=\"text-align: right;\">\n",
       "      <th></th>\n",
       "      <th>Price</th>\n",
       "      <th>#Bedrooms</th>\n",
       "      <th>#Bathrooms</th>\n",
       "      <th>Size(m²)</th>\n",
       "      <th>District</th>\n",
       "      <th>StreetWidth</th>\n",
       "    </tr>\n",
       "  </thead>\n",
       "  <tbody>\n",
       "    <tr>\n",
       "      <th>0</th>\n",
       "      <td>580000.0</td>\n",
       "      <td>5</td>\n",
       "      <td>5</td>\n",
       "      <td>250.0</td>\n",
       "      <td>حي العزيزية - الرياض</td>\n",
       "      <td>15</td>\n",
       "    </tr>\n",
       "    <tr>\n",
       "      <th>1</th>\n",
       "      <td>400000.0</td>\n",
       "      <td>5</td>\n",
       "      <td>5</td>\n",
       "      <td>600.0</td>\n",
       "      <td>حي المناخ - الرياض</td>\n",
       "      <td>20</td>\n",
       "    </tr>\n",
       "    <tr>\n",
       "      <th>2</th>\n",
       "      <td>1450000.0</td>\n",
       "      <td>5</td>\n",
       "      <td>4</td>\n",
       "      <td>480.0</td>\n",
       "      <td>حي طويق - الرياض</td>\n",
       "      <td>15</td>\n",
       "    </tr>\n",
       "    <tr>\n",
       "      <th>3</th>\n",
       "      <td>300000.0</td>\n",
       "      <td>5</td>\n",
       "      <td>5</td>\n",
       "      <td>213.0</td>\n",
       "      <td>حي الصالحية - الرياض</td>\n",
       "      <td>8</td>\n",
       "    </tr>\n",
       "    <tr>\n",
       "      <th>4</th>\n",
       "      <td>900000.0</td>\n",
       "      <td>5</td>\n",
       "      <td>5</td>\n",
       "      <td>375.0</td>\n",
       "      <td>حي الدار البيضاء - الرياض</td>\n",
       "      <td>5</td>\n",
       "    </tr>\n",
       "    <tr>\n",
       "      <th>...</th>\n",
       "      <td>...</td>\n",
       "      <td>...</td>\n",
       "      <td>...</td>\n",
       "      <td>...</td>\n",
       "      <td>...</td>\n",
       "      <td>...</td>\n",
       "    </tr>\n",
       "    <tr>\n",
       "      <th>972</th>\n",
       "      <td>750000.0</td>\n",
       "      <td>5</td>\n",
       "      <td>5</td>\n",
       "      <td>400.0</td>\n",
       "      <td>حي العريجاء الغربية - الرياض</td>\n",
       "      <td>16</td>\n",
       "    </tr>\n",
       "    <tr>\n",
       "      <th>973</th>\n",
       "      <td>2500000.0</td>\n",
       "      <td>5</td>\n",
       "      <td>5</td>\n",
       "      <td>816.0</td>\n",
       "      <td>حي الخليج - الرياض</td>\n",
       "      <td>16</td>\n",
       "    </tr>\n",
       "    <tr>\n",
       "      <th>974</th>\n",
       "      <td>1150000.0</td>\n",
       "      <td>5</td>\n",
       "      <td>4</td>\n",
       "      <td>390.0</td>\n",
       "      <td>حي طويق - الرياض</td>\n",
       "      <td>16</td>\n",
       "    </tr>\n",
       "    <tr>\n",
       "      <th>975</th>\n",
       "      <td>500000.0</td>\n",
       "      <td>5</td>\n",
       "      <td>2</td>\n",
       "      <td>140.0</td>\n",
       "      <td>حي السويدي - الرياض</td>\n",
       "      <td>16</td>\n",
       "    </tr>\n",
       "    <tr>\n",
       "      <th>976</th>\n",
       "      <td>1680000.0</td>\n",
       "      <td>5</td>\n",
       "      <td>5</td>\n",
       "      <td>362.0</td>\n",
       "      <td>حي القادسية - الرياض</td>\n",
       "      <td>16</td>\n",
       "    </tr>\n",
       "  </tbody>\n",
       "</table>\n",
       "<p>977 rows × 6 columns</p>\n",
       "</div>"
      ],
      "text/plain": [
       "         Price  #Bedrooms  #Bathrooms  Size(m²)                      District  \\\n",
       "0     580000.0          5           5     250.0          حي العزيزية - الرياض   \n",
       "1     400000.0          5           5     600.0            حي المناخ - الرياض   \n",
       "2    1450000.0          5           4     480.0              حي طويق - الرياض   \n",
       "3     300000.0          5           5     213.0          حي الصالحية - الرياض   \n",
       "4     900000.0          5           5     375.0     حي الدار البيضاء - الرياض   \n",
       "..         ...        ...         ...       ...                           ...   \n",
       "972   750000.0          5           5     400.0  حي العريجاء الغربية - الرياض   \n",
       "973  2500000.0          5           5     816.0            حي الخليج - الرياض   \n",
       "974  1150000.0          5           4     390.0              حي طويق - الرياض   \n",
       "975   500000.0          5           2     140.0           حي السويدي - الرياض   \n",
       "976  1680000.0          5           5     362.0          حي القادسية - الرياض   \n",
       "\n",
       "     StreetWidth  \n",
       "0             15  \n",
       "1             20  \n",
       "2             15  \n",
       "3              8  \n",
       "4              5  \n",
       "..           ...  \n",
       "972           16  \n",
       "973           16  \n",
       "974           16  \n",
       "975           16  \n",
       "976           16  \n",
       "\n",
       "[977 rows x 6 columns]"
      ]
     },
     "execution_count": 134,
     "metadata": {},
     "output_type": "execute_result"
    }
   ],
   "source": [
    "df[\"StreetWidth\"]=widths\n",
    "df"
   ]
  },
  {
   "cell_type": "code",
   "execution_count": 22,
   "metadata": {},
   "outputs": [],
   "source": [
    "houses_list2 = []\n",
    "i = 1\n",
    "while i < 56:\n",
    "    url_2 = f\"https://www.propertyfinder.sa/ar/search?bf=1&btf=1&c=1&l=4&ob=mr&page={i}&t=35\" \n",
    "    response2 = requests.get(url_2)\n",
    "    if response2.status_code == 200:\n",
    "        page2 = response2.text\n",
    "        soup2 = BeautifulSoup(page2, \"lxml\")\n",
    "        i += 1\n",
    "        houses2=soup2.find_all(\"div\", {\"class\":\"card-list__item\"})\n",
    "        headers2 = [\"Price\", \"#Bedrooms\", \"#Bathrooms\", \"Size(m²)\",\"District\"]\n",
    "        for house in houses2:\n",
    "            price = float(house.find(class_=\"card__price-value\").text.replace(\"ريال\", \"\").replace(\",\", \"\").strip())\n",
    "            bed = house.find(class_=\"card__property-amenity card__property-amenity--bedrooms\").text.replace(\"+\", \"\").replace(\"عدد الغرف\",\"\").strip()\n",
    "            bath = house.find(class_=\"card__property-amenity card__property-amenity--bathrooms\").text.replace(\"+\", \"\").replace(\"حمامات\",\"\").strip()\n",
    "            size = float(house.find(class_=\"card__property-amenity card__property-amenity--area\").text.replace(\"متر مربع\", \"\").replace(\",\", \"\").strip())\n",
    "            districts = house.find(class_=\"card__location-text\").text.replace(\"حي الملقا\",\"الملقا\").strip()\n",
    "            house_dict = dict(zip(headers, [price, bed, bath, size, districts]))\n",
    "            houses_list2.append(house_dict)\n",
    "    else:\n",
    "        break"
   ]
  },
  {
   "cell_type": "code",
   "execution_count": 23,
   "metadata": {},
   "outputs": [
    {
     "data": {
      "text/plain": [
       "1362"
      ]
     },
     "execution_count": 23,
     "metadata": {},
     "output_type": "execute_result"
    }
   ],
   "source": [
    "len(houses_list2)"
   ]
  },
  {
   "cell_type": "code",
   "execution_count": 135,
   "metadata": {},
   "outputs": [],
   "source": [
    "df2 = pd.DataFrame(houses_list2)"
   ]
  },
  {
   "cell_type": "code",
   "execution_count": 136,
   "metadata": {},
   "outputs": [
    {
     "data": {
      "text/html": [
       "<div>\n",
       "<style scoped>\n",
       "    .dataframe tbody tr th:only-of-type {\n",
       "        vertical-align: middle;\n",
       "    }\n",
       "\n",
       "    .dataframe tbody tr th {\n",
       "        vertical-align: top;\n",
       "    }\n",
       "\n",
       "    .dataframe thead th {\n",
       "        text-align: right;\n",
       "    }\n",
       "</style>\n",
       "<table border=\"1\" class=\"dataframe\">\n",
       "  <thead>\n",
       "    <tr style=\"text-align: right;\">\n",
       "      <th></th>\n",
       "      <th>Price</th>\n",
       "      <th>#Bedrooms</th>\n",
       "      <th>#Bathrooms</th>\n",
       "      <th>Size(m²)</th>\n",
       "      <th>District</th>\n",
       "      <th>StreetWidth</th>\n",
       "    </tr>\n",
       "  </thead>\n",
       "  <tbody>\n",
       "    <tr>\n",
       "      <th>0</th>\n",
       "      <td>580000.0</td>\n",
       "      <td>5</td>\n",
       "      <td>5</td>\n",
       "      <td>250.0</td>\n",
       "      <td>حي العزيزية - الرياض</td>\n",
       "      <td>15.0</td>\n",
       "    </tr>\n",
       "    <tr>\n",
       "      <th>1</th>\n",
       "      <td>400000.0</td>\n",
       "      <td>5</td>\n",
       "      <td>5</td>\n",
       "      <td>600.0</td>\n",
       "      <td>حي المناخ - الرياض</td>\n",
       "      <td>20.0</td>\n",
       "    </tr>\n",
       "    <tr>\n",
       "      <th>2</th>\n",
       "      <td>1450000.0</td>\n",
       "      <td>5</td>\n",
       "      <td>4</td>\n",
       "      <td>480.0</td>\n",
       "      <td>حي طويق - الرياض</td>\n",
       "      <td>15.0</td>\n",
       "    </tr>\n",
       "    <tr>\n",
       "      <th>3</th>\n",
       "      <td>300000.0</td>\n",
       "      <td>5</td>\n",
       "      <td>5</td>\n",
       "      <td>213.0</td>\n",
       "      <td>حي الصالحية - الرياض</td>\n",
       "      <td>8.0</td>\n",
       "    </tr>\n",
       "    <tr>\n",
       "      <th>4</th>\n",
       "      <td>900000.0</td>\n",
       "      <td>5</td>\n",
       "      <td>5</td>\n",
       "      <td>375.0</td>\n",
       "      <td>حي الدار البيضاء - الرياض</td>\n",
       "      <td>5.0</td>\n",
       "    </tr>\n",
       "    <tr>\n",
       "      <th>...</th>\n",
       "      <td>...</td>\n",
       "      <td>...</td>\n",
       "      <td>...</td>\n",
       "      <td>...</td>\n",
       "      <td>...</td>\n",
       "      <td>...</td>\n",
       "    </tr>\n",
       "    <tr>\n",
       "      <th>174</th>\n",
       "      <td>1750000.0</td>\n",
       "      <td>7</td>\n",
       "      <td>5</td>\n",
       "      <td>300.0</td>\n",
       "      <td>حي جامعة الامام محمد بن سعود الاسلامية - الرياض</td>\n",
       "      <td>100.0</td>\n",
       "    </tr>\n",
       "    <tr>\n",
       "      <th>175</th>\n",
       "      <td>950000.0</td>\n",
       "      <td>4</td>\n",
       "      <td>4</td>\n",
       "      <td>300.0</td>\n",
       "      <td>حي طويق - الرياض</td>\n",
       "      <td>25.0</td>\n",
       "    </tr>\n",
       "    <tr>\n",
       "      <th>176</th>\n",
       "      <td>1850000.0</td>\n",
       "      <td>5</td>\n",
       "      <td>5</td>\n",
       "      <td>320.0</td>\n",
       "      <td>حي النرجس - الرياض</td>\n",
       "      <td>18.0</td>\n",
       "    </tr>\n",
       "    <tr>\n",
       "      <th>177</th>\n",
       "      <td>1020000.0</td>\n",
       "      <td>5</td>\n",
       "      <td>5</td>\n",
       "      <td>220.0</td>\n",
       "      <td>حي طويق - الرياض</td>\n",
       "      <td>18.0</td>\n",
       "    </tr>\n",
       "    <tr>\n",
       "      <th>178</th>\n",
       "      <td>6000000.0</td>\n",
       "      <td>5</td>\n",
       "      <td>5</td>\n",
       "      <td>1800.0</td>\n",
       "      <td>حي الفيحاء - الرياض</td>\n",
       "      <td>18.0</td>\n",
       "    </tr>\n",
       "  </tbody>\n",
       "</table>\n",
       "<p>2442 rows × 6 columns</p>\n",
       "</div>"
      ],
      "text/plain": [
       "         Price #Bedrooms #Bathrooms  Size(m²)  \\\n",
       "0     580000.0         5          5     250.0   \n",
       "1     400000.0         5          5     600.0   \n",
       "2    1450000.0         5          4     480.0   \n",
       "3     300000.0         5          5     213.0   \n",
       "4     900000.0         5          5     375.0   \n",
       "..         ...       ...        ...       ...   \n",
       "174  1750000.0         7          5     300.0   \n",
       "175   950000.0         4          4     300.0   \n",
       "176  1850000.0         5          5     320.0   \n",
       "177  1020000.0         5          5     220.0   \n",
       "178  6000000.0         5          5    1800.0   \n",
       "\n",
       "                                            District  StreetWidth  \n",
       "0                               حي العزيزية - الرياض         15.0  \n",
       "1                                 حي المناخ - الرياض         20.0  \n",
       "2                                   حي طويق - الرياض         15.0  \n",
       "3                               حي الصالحية - الرياض          8.0  \n",
       "4                          حي الدار البيضاء - الرياض          5.0  \n",
       "..                                               ...          ...  \n",
       "174  حي جامعة الامام محمد بن سعود الاسلامية - الرياض        100.0  \n",
       "175                                 حي طويق - الرياض         25.0  \n",
       "176                               حي النرجس - الرياض         18.0  \n",
       "177                                 حي طويق - الرياض         18.0  \n",
       "178                              حي الفيحاء - الرياض         18.0  \n",
       "\n",
       "[2442 rows x 6 columns]"
      ]
     },
     "execution_count": 136,
     "metadata": {},
     "output_type": "execute_result"
    }
   ],
   "source": [
    "df3 = pd.concat([df, df2,villaDF])\n",
    "df3"
   ]
  },
  {
   "cell_type": "markdown",
   "metadata": {},
   "source": [
    "### Data Pre Processing \n",
    "(EDA, Cleaning)"
   ]
  },
  {
   "cell_type": "code",
   "execution_count": 138,
   "metadata": {},
   "outputs": [
    {
     "data": {
      "text/plain": [
       "Price             0\n",
       "#Bedrooms         0\n",
       "#Bathrooms        0\n",
       "Size(m²)          0\n",
       "District          0\n",
       "StreetWidth    1362\n",
       "dtype: int64"
      ]
     },
     "execution_count": 138,
     "metadata": {},
     "output_type": "execute_result"
    }
   ],
   "source": [
    "df3.isna().sum()"
   ]
  },
  {
   "cell_type": "code",
   "execution_count": 139,
   "metadata": {},
   "outputs": [],
   "source": [
    "df3[\"StreetWidth\"].fillna(df3[\"StreetWidth\"].median(), inplace = True)"
   ]
  },
  {
   "cell_type": "code",
   "execution_count": 140,
   "metadata": {},
   "outputs": [
    {
     "data": {
      "text/plain": [
       "Price          0\n",
       "#Bedrooms      0\n",
       "#Bathrooms     0\n",
       "Size(m²)       0\n",
       "District       0\n",
       "StreetWidth    0\n",
       "dtype: int64"
      ]
     },
     "execution_count": 140,
     "metadata": {},
     "output_type": "execute_result"
    }
   ],
   "source": [
    "df3.isna().sum()"
   ]
  },
  {
   "cell_type": "code",
   "execution_count": 141,
   "metadata": {},
   "outputs": [
    {
     "data": {
      "text/plain": [
       "0"
      ]
     },
     "execution_count": 141,
     "metadata": {},
     "output_type": "execute_result"
    }
   ],
   "source": [
    "df3[\"StreetWidth\"].isna().sum()"
   ]
  },
  {
   "cell_type": "code",
   "execution_count": 142,
   "metadata": {},
   "outputs": [
    {
     "data": {
      "text/html": [
       "<div>\n",
       "<style scoped>\n",
       "    .dataframe tbody tr th:only-of-type {\n",
       "        vertical-align: middle;\n",
       "    }\n",
       "\n",
       "    .dataframe tbody tr th {\n",
       "        vertical-align: top;\n",
       "    }\n",
       "\n",
       "    .dataframe thead th {\n",
       "        text-align: right;\n",
       "    }\n",
       "</style>\n",
       "<table border=\"1\" class=\"dataframe\">\n",
       "  <thead>\n",
       "    <tr style=\"text-align: right;\">\n",
       "      <th></th>\n",
       "      <th>Price</th>\n",
       "      <th>#Bedrooms</th>\n",
       "      <th>#Bathrooms</th>\n",
       "      <th>Size(m²)</th>\n",
       "      <th>District</th>\n",
       "      <th>StreetWidth</th>\n",
       "    </tr>\n",
       "  </thead>\n",
       "  <tbody>\n",
       "    <tr>\n",
       "      <th>0</th>\n",
       "      <td>580000.0</td>\n",
       "      <td>5</td>\n",
       "      <td>5</td>\n",
       "      <td>250.0</td>\n",
       "      <td>حي العزيزية - الرياض</td>\n",
       "      <td>15.0</td>\n",
       "    </tr>\n",
       "    <tr>\n",
       "      <th>1</th>\n",
       "      <td>400000.0</td>\n",
       "      <td>5</td>\n",
       "      <td>5</td>\n",
       "      <td>600.0</td>\n",
       "      <td>حي المناخ - الرياض</td>\n",
       "      <td>20.0</td>\n",
       "    </tr>\n",
       "    <tr>\n",
       "      <th>2</th>\n",
       "      <td>1450000.0</td>\n",
       "      <td>5</td>\n",
       "      <td>4</td>\n",
       "      <td>480.0</td>\n",
       "      <td>حي طويق - الرياض</td>\n",
       "      <td>15.0</td>\n",
       "    </tr>\n",
       "    <tr>\n",
       "      <th>3</th>\n",
       "      <td>300000.0</td>\n",
       "      <td>5</td>\n",
       "      <td>5</td>\n",
       "      <td>213.0</td>\n",
       "      <td>حي الصالحية - الرياض</td>\n",
       "      <td>8.0</td>\n",
       "    </tr>\n",
       "    <tr>\n",
       "      <th>4</th>\n",
       "      <td>900000.0</td>\n",
       "      <td>5</td>\n",
       "      <td>5</td>\n",
       "      <td>375.0</td>\n",
       "      <td>حي الدار البيضاء - الرياض</td>\n",
       "      <td>5.0</td>\n",
       "    </tr>\n",
       "  </tbody>\n",
       "</table>\n",
       "</div>"
      ],
      "text/plain": [
       "       Price #Bedrooms #Bathrooms  Size(m²)                   District  \\\n",
       "0   580000.0         5          5     250.0       حي العزيزية - الرياض   \n",
       "1   400000.0         5          5     600.0         حي المناخ - الرياض   \n",
       "2  1450000.0         5          4     480.0           حي طويق - الرياض   \n",
       "3   300000.0         5          5     213.0       حي الصالحية - الرياض   \n",
       "4   900000.0         5          5     375.0  حي الدار البيضاء - الرياض   \n",
       "\n",
       "   StreetWidth  \n",
       "0         15.0  \n",
       "1         20.0  \n",
       "2         15.0  \n",
       "3          8.0  \n",
       "4          5.0  "
      ]
     },
     "execution_count": 142,
     "metadata": {},
     "output_type": "execute_result"
    }
   ],
   "source": [
    "df3.head()"
   ]
  },
  {
   "cell_type": "code",
   "execution_count": 143,
   "metadata": {},
   "outputs": [
    {
     "data": {
      "text/html": [
       "<div>\n",
       "<style scoped>\n",
       "    .dataframe tbody tr th:only-of-type {\n",
       "        vertical-align: middle;\n",
       "    }\n",
       "\n",
       "    .dataframe tbody tr th {\n",
       "        vertical-align: top;\n",
       "    }\n",
       "\n",
       "    .dataframe thead th {\n",
       "        text-align: right;\n",
       "    }\n",
       "</style>\n",
       "<table border=\"1\" class=\"dataframe\">\n",
       "  <thead>\n",
       "    <tr style=\"text-align: right;\">\n",
       "      <th></th>\n",
       "      <th>Price</th>\n",
       "      <th>#Bedrooms</th>\n",
       "      <th>#Bathrooms</th>\n",
       "      <th>Size(m²)</th>\n",
       "      <th>District</th>\n",
       "      <th>StreetWidth</th>\n",
       "    </tr>\n",
       "  </thead>\n",
       "  <tbody>\n",
       "    <tr>\n",
       "      <th>0</th>\n",
       "      <td>580000.0</td>\n",
       "      <td>5</td>\n",
       "      <td>5</td>\n",
       "      <td>250.0</td>\n",
       "      <td>حي العزيزية</td>\n",
       "      <td>15.0</td>\n",
       "    </tr>\n",
       "    <tr>\n",
       "      <th>1</th>\n",
       "      <td>400000.0</td>\n",
       "      <td>5</td>\n",
       "      <td>5</td>\n",
       "      <td>600.0</td>\n",
       "      <td>حي المناخ</td>\n",
       "      <td>20.0</td>\n",
       "    </tr>\n",
       "    <tr>\n",
       "      <th>2</th>\n",
       "      <td>1450000.0</td>\n",
       "      <td>5</td>\n",
       "      <td>4</td>\n",
       "      <td>480.0</td>\n",
       "      <td>حي طويق</td>\n",
       "      <td>15.0</td>\n",
       "    </tr>\n",
       "    <tr>\n",
       "      <th>3</th>\n",
       "      <td>300000.0</td>\n",
       "      <td>5</td>\n",
       "      <td>5</td>\n",
       "      <td>213.0</td>\n",
       "      <td>حي الصالحية</td>\n",
       "      <td>8.0</td>\n",
       "    </tr>\n",
       "    <tr>\n",
       "      <th>4</th>\n",
       "      <td>900000.0</td>\n",
       "      <td>5</td>\n",
       "      <td>5</td>\n",
       "      <td>375.0</td>\n",
       "      <td>حي الدار البيضاء</td>\n",
       "      <td>5.0</td>\n",
       "    </tr>\n",
       "    <tr>\n",
       "      <th>...</th>\n",
       "      <td>...</td>\n",
       "      <td>...</td>\n",
       "      <td>...</td>\n",
       "      <td>...</td>\n",
       "      <td>...</td>\n",
       "      <td>...</td>\n",
       "    </tr>\n",
       "    <tr>\n",
       "      <th>174</th>\n",
       "      <td>1750000.0</td>\n",
       "      <td>7</td>\n",
       "      <td>5</td>\n",
       "      <td>300.0</td>\n",
       "      <td>حي جامعة الامام محمد بن سعود الاسلامية</td>\n",
       "      <td>100.0</td>\n",
       "    </tr>\n",
       "    <tr>\n",
       "      <th>175</th>\n",
       "      <td>950000.0</td>\n",
       "      <td>4</td>\n",
       "      <td>4</td>\n",
       "      <td>300.0</td>\n",
       "      <td>حي طويق</td>\n",
       "      <td>25.0</td>\n",
       "    </tr>\n",
       "    <tr>\n",
       "      <th>176</th>\n",
       "      <td>1850000.0</td>\n",
       "      <td>5</td>\n",
       "      <td>5</td>\n",
       "      <td>320.0</td>\n",
       "      <td>حي النرجس</td>\n",
       "      <td>18.0</td>\n",
       "    </tr>\n",
       "    <tr>\n",
       "      <th>177</th>\n",
       "      <td>1020000.0</td>\n",
       "      <td>5</td>\n",
       "      <td>5</td>\n",
       "      <td>220.0</td>\n",
       "      <td>حي طويق</td>\n",
       "      <td>18.0</td>\n",
       "    </tr>\n",
       "    <tr>\n",
       "      <th>178</th>\n",
       "      <td>6000000.0</td>\n",
       "      <td>5</td>\n",
       "      <td>5</td>\n",
       "      <td>1800.0</td>\n",
       "      <td>حي الفيحاء</td>\n",
       "      <td>18.0</td>\n",
       "    </tr>\n",
       "  </tbody>\n",
       "</table>\n",
       "<p>2442 rows × 6 columns</p>\n",
       "</div>"
      ],
      "text/plain": [
       "         Price #Bedrooms #Bathrooms  Size(m²)  \\\n",
       "0     580000.0         5          5     250.0   \n",
       "1     400000.0         5          5     600.0   \n",
       "2    1450000.0         5          4     480.0   \n",
       "3     300000.0         5          5     213.0   \n",
       "4     900000.0         5          5     375.0   \n",
       "..         ...       ...        ...       ...   \n",
       "174  1750000.0         7          5     300.0   \n",
       "175   950000.0         4          4     300.0   \n",
       "176  1850000.0         5          5     320.0   \n",
       "177  1020000.0         5          5     220.0   \n",
       "178  6000000.0         5          5    1800.0   \n",
       "\n",
       "                                   District  StreetWidth  \n",
       "0                               حي العزيزية         15.0  \n",
       "1                                 حي المناخ         20.0  \n",
       "2                                   حي طويق         15.0  \n",
       "3                               حي الصالحية          8.0  \n",
       "4                          حي الدار البيضاء          5.0  \n",
       "..                                      ...          ...  \n",
       "174  حي جامعة الامام محمد بن سعود الاسلامية        100.0  \n",
       "175                                 حي طويق         25.0  \n",
       "176                               حي النرجس         18.0  \n",
       "177                                 حي طويق         18.0  \n",
       "178                              حي الفيحاء         18.0  \n",
       "\n",
       "[2442 rows x 6 columns]"
      ]
     },
     "execution_count": 143,
     "metadata": {},
     "output_type": "execute_result"
    }
   ],
   "source": [
    "df3['District'] = df3['District'].str.split(\" - \", n = 1, expand = True)\n",
    "df3"
   ]
  },
  {
   "cell_type": "code",
   "execution_count": 144,
   "metadata": {},
   "outputs": [
    {
     "data": {
      "text/html": [
       "<div>\n",
       "<style scoped>\n",
       "    .dataframe tbody tr th:only-of-type {\n",
       "        vertical-align: middle;\n",
       "    }\n",
       "\n",
       "    .dataframe tbody tr th {\n",
       "        vertical-align: top;\n",
       "    }\n",
       "\n",
       "    .dataframe thead th {\n",
       "        text-align: right;\n",
       "    }\n",
       "</style>\n",
       "<table border=\"1\" class=\"dataframe\">\n",
       "  <thead>\n",
       "    <tr style=\"text-align: right;\">\n",
       "      <th></th>\n",
       "      <th>Price</th>\n",
       "      <th>#Bedrooms</th>\n",
       "      <th>#Bathrooms</th>\n",
       "      <th>Size(m²)</th>\n",
       "      <th>District</th>\n",
       "      <th>StreetWidth</th>\n",
       "    </tr>\n",
       "  </thead>\n",
       "  <tbody>\n",
       "    <tr>\n",
       "      <th>0</th>\n",
       "      <td>580000.0</td>\n",
       "      <td>5</td>\n",
       "      <td>5</td>\n",
       "      <td>250.0</td>\n",
       "      <td>حي العزيزية</td>\n",
       "      <td>15.0</td>\n",
       "    </tr>\n",
       "    <tr>\n",
       "      <th>1</th>\n",
       "      <td>400000.0</td>\n",
       "      <td>5</td>\n",
       "      <td>5</td>\n",
       "      <td>600.0</td>\n",
       "      <td>حي المناخ</td>\n",
       "      <td>20.0</td>\n",
       "    </tr>\n",
       "    <tr>\n",
       "      <th>2</th>\n",
       "      <td>1450000.0</td>\n",
       "      <td>5</td>\n",
       "      <td>4</td>\n",
       "      <td>480.0</td>\n",
       "      <td>حي طويق</td>\n",
       "      <td>15.0</td>\n",
       "    </tr>\n",
       "    <tr>\n",
       "      <th>3</th>\n",
       "      <td>300000.0</td>\n",
       "      <td>5</td>\n",
       "      <td>5</td>\n",
       "      <td>213.0</td>\n",
       "      <td>حي الصالحية</td>\n",
       "      <td>8.0</td>\n",
       "    </tr>\n",
       "    <tr>\n",
       "      <th>4</th>\n",
       "      <td>900000.0</td>\n",
       "      <td>5</td>\n",
       "      <td>5</td>\n",
       "      <td>375.0</td>\n",
       "      <td>حي الدار البيضاء</td>\n",
       "      <td>5.0</td>\n",
       "    </tr>\n",
       "    <tr>\n",
       "      <th>...</th>\n",
       "      <td>...</td>\n",
       "      <td>...</td>\n",
       "      <td>...</td>\n",
       "      <td>...</td>\n",
       "      <td>...</td>\n",
       "      <td>...</td>\n",
       "    </tr>\n",
       "    <tr>\n",
       "      <th>174</th>\n",
       "      <td>1750000.0</td>\n",
       "      <td>7</td>\n",
       "      <td>5</td>\n",
       "      <td>300.0</td>\n",
       "      <td>حي جامعة الامام محمد بن سعود الاسلامية</td>\n",
       "      <td>100.0</td>\n",
       "    </tr>\n",
       "    <tr>\n",
       "      <th>175</th>\n",
       "      <td>950000.0</td>\n",
       "      <td>4</td>\n",
       "      <td>4</td>\n",
       "      <td>300.0</td>\n",
       "      <td>حي طويق</td>\n",
       "      <td>25.0</td>\n",
       "    </tr>\n",
       "    <tr>\n",
       "      <th>176</th>\n",
       "      <td>1850000.0</td>\n",
       "      <td>5</td>\n",
       "      <td>5</td>\n",
       "      <td>320.0</td>\n",
       "      <td>حي النرجس</td>\n",
       "      <td>18.0</td>\n",
       "    </tr>\n",
       "    <tr>\n",
       "      <th>177</th>\n",
       "      <td>1020000.0</td>\n",
       "      <td>5</td>\n",
       "      <td>5</td>\n",
       "      <td>220.0</td>\n",
       "      <td>حي طويق</td>\n",
       "      <td>18.0</td>\n",
       "    </tr>\n",
       "    <tr>\n",
       "      <th>178</th>\n",
       "      <td>6000000.0</td>\n",
       "      <td>5</td>\n",
       "      <td>5</td>\n",
       "      <td>1800.0</td>\n",
       "      <td>حي الفيحاء</td>\n",
       "      <td>18.0</td>\n",
       "    </tr>\n",
       "  </tbody>\n",
       "</table>\n",
       "<p>2442 rows × 6 columns</p>\n",
       "</div>"
      ],
      "text/plain": [
       "         Price #Bedrooms #Bathrooms  Size(m²)  \\\n",
       "0     580000.0         5          5     250.0   \n",
       "1     400000.0         5          5     600.0   \n",
       "2    1450000.0         5          4     480.0   \n",
       "3     300000.0         5          5     213.0   \n",
       "4     900000.0         5          5     375.0   \n",
       "..         ...       ...        ...       ...   \n",
       "174  1750000.0         7          5     300.0   \n",
       "175   950000.0         4          4     300.0   \n",
       "176  1850000.0         5          5     320.0   \n",
       "177  1020000.0         5          5     220.0   \n",
       "178  6000000.0         5          5    1800.0   \n",
       "\n",
       "                                   District  StreetWidth  \n",
       "0                               حي العزيزية         15.0  \n",
       "1                                 حي المناخ         20.0  \n",
       "2                                   حي طويق         15.0  \n",
       "3                               حي الصالحية          8.0  \n",
       "4                          حي الدار البيضاء          5.0  \n",
       "..                                      ...          ...  \n",
       "174  حي جامعة الامام محمد بن سعود الاسلامية        100.0  \n",
       "175                                 حي طويق         25.0  \n",
       "176                               حي النرجس         18.0  \n",
       "177                                 حي طويق         18.0  \n",
       "178                              حي الفيحاء         18.0  \n",
       "\n",
       "[2442 rows x 6 columns]"
      ]
     },
     "execution_count": 144,
     "metadata": {},
     "output_type": "execute_result"
    }
   ],
   "source": [
    "df3['District'] = df3['District'].str.split(\", \", n = 1, expand = True)\n",
    "df3"
   ]
  },
  {
   "cell_type": "code",
   "execution_count": 145,
   "metadata": {},
   "outputs": [
    {
     "data": {
      "text/html": [
       "<div>\n",
       "<style scoped>\n",
       "    .dataframe tbody tr th:only-of-type {\n",
       "        vertical-align: middle;\n",
       "    }\n",
       "\n",
       "    .dataframe tbody tr th {\n",
       "        vertical-align: top;\n",
       "    }\n",
       "\n",
       "    .dataframe thead th {\n",
       "        text-align: right;\n",
       "    }\n",
       "</style>\n",
       "<table border=\"1\" class=\"dataframe\">\n",
       "  <thead>\n",
       "    <tr style=\"text-align: right;\">\n",
       "      <th></th>\n",
       "      <th>Price</th>\n",
       "      <th>#Bedrooms</th>\n",
       "      <th>#Bathrooms</th>\n",
       "      <th>Size(m²)</th>\n",
       "      <th>District</th>\n",
       "      <th>StreetWidth</th>\n",
       "    </tr>\n",
       "  </thead>\n",
       "  <tbody>\n",
       "    <tr>\n",
       "      <th>0</th>\n",
       "      <td>580000.0</td>\n",
       "      <td>5</td>\n",
       "      <td>5</td>\n",
       "      <td>250.0</td>\n",
       "      <td>العزيزية</td>\n",
       "      <td>15.0</td>\n",
       "    </tr>\n",
       "    <tr>\n",
       "      <th>1</th>\n",
       "      <td>400000.0</td>\n",
       "      <td>5</td>\n",
       "      <td>5</td>\n",
       "      <td>600.0</td>\n",
       "      <td>المناخ</td>\n",
       "      <td>20.0</td>\n",
       "    </tr>\n",
       "    <tr>\n",
       "      <th>2</th>\n",
       "      <td>1450000.0</td>\n",
       "      <td>5</td>\n",
       "      <td>4</td>\n",
       "      <td>480.0</td>\n",
       "      <td>طويق</td>\n",
       "      <td>15.0</td>\n",
       "    </tr>\n",
       "    <tr>\n",
       "      <th>3</th>\n",
       "      <td>300000.0</td>\n",
       "      <td>5</td>\n",
       "      <td>5</td>\n",
       "      <td>213.0</td>\n",
       "      <td>الصالحية</td>\n",
       "      <td>8.0</td>\n",
       "    </tr>\n",
       "    <tr>\n",
       "      <th>4</th>\n",
       "      <td>900000.0</td>\n",
       "      <td>5</td>\n",
       "      <td>5</td>\n",
       "      <td>375.0</td>\n",
       "      <td>الدار البيضاء</td>\n",
       "      <td>5.0</td>\n",
       "    </tr>\n",
       "    <tr>\n",
       "      <th>...</th>\n",
       "      <td>...</td>\n",
       "      <td>...</td>\n",
       "      <td>...</td>\n",
       "      <td>...</td>\n",
       "      <td>...</td>\n",
       "      <td>...</td>\n",
       "    </tr>\n",
       "    <tr>\n",
       "      <th>174</th>\n",
       "      <td>1750000.0</td>\n",
       "      <td>7</td>\n",
       "      <td>5</td>\n",
       "      <td>300.0</td>\n",
       "      <td>جامعة الامام محمد بن سعود الاسلامية</td>\n",
       "      <td>100.0</td>\n",
       "    </tr>\n",
       "    <tr>\n",
       "      <th>175</th>\n",
       "      <td>950000.0</td>\n",
       "      <td>4</td>\n",
       "      <td>4</td>\n",
       "      <td>300.0</td>\n",
       "      <td>طويق</td>\n",
       "      <td>25.0</td>\n",
       "    </tr>\n",
       "    <tr>\n",
       "      <th>176</th>\n",
       "      <td>1850000.0</td>\n",
       "      <td>5</td>\n",
       "      <td>5</td>\n",
       "      <td>320.0</td>\n",
       "      <td>النرجس</td>\n",
       "      <td>18.0</td>\n",
       "    </tr>\n",
       "    <tr>\n",
       "      <th>177</th>\n",
       "      <td>1020000.0</td>\n",
       "      <td>5</td>\n",
       "      <td>5</td>\n",
       "      <td>220.0</td>\n",
       "      <td>طويق</td>\n",
       "      <td>18.0</td>\n",
       "    </tr>\n",
       "    <tr>\n",
       "      <th>178</th>\n",
       "      <td>6000000.0</td>\n",
       "      <td>5</td>\n",
       "      <td>5</td>\n",
       "      <td>1800.0</td>\n",
       "      <td>الفيحاء</td>\n",
       "      <td>18.0</td>\n",
       "    </tr>\n",
       "  </tbody>\n",
       "</table>\n",
       "<p>2442 rows × 6 columns</p>\n",
       "</div>"
      ],
      "text/plain": [
       "         Price #Bedrooms #Bathrooms  Size(m²)  \\\n",
       "0     580000.0         5          5     250.0   \n",
       "1     400000.0         5          5     600.0   \n",
       "2    1450000.0         5          4     480.0   \n",
       "3     300000.0         5          5     213.0   \n",
       "4     900000.0         5          5     375.0   \n",
       "..         ...       ...        ...       ...   \n",
       "174  1750000.0         7          5     300.0   \n",
       "175   950000.0         4          4     300.0   \n",
       "176  1850000.0         5          5     320.0   \n",
       "177  1020000.0         5          5     220.0   \n",
       "178  6000000.0         5          5    1800.0   \n",
       "\n",
       "                                District  StreetWidth  \n",
       "0                               العزيزية         15.0  \n",
       "1                                 المناخ         20.0  \n",
       "2                                   طويق         15.0  \n",
       "3                               الصالحية          8.0  \n",
       "4                          الدار البيضاء          5.0  \n",
       "..                                   ...          ...  \n",
       "174  جامعة الامام محمد بن سعود الاسلامية        100.0  \n",
       "175                                 طويق         25.0  \n",
       "176                               النرجس         18.0  \n",
       "177                                 طويق         18.0  \n",
       "178                              الفيحاء         18.0  \n",
       "\n",
       "[2442 rows x 6 columns]"
      ]
     },
     "execution_count": 145,
     "metadata": {},
     "output_type": "execute_result"
    }
   ],
   "source": [
    "df3['District'] = df3['District'].str.replace(\"حي \", \"\")\n",
    "df3"
   ]
  },
  {
   "cell_type": "code",
   "execution_count": 146,
   "metadata": {},
   "outputs": [
    {
     "name": "stdout",
     "output_type": "stream",
     "text": [
      "<class 'pandas.core.frame.DataFrame'>\n",
      "Int64Index: 2442 entries, 0 to 178\n",
      "Data columns (total 6 columns):\n",
      " #   Column       Non-Null Count  Dtype  \n",
      "---  ------       --------------  -----  \n",
      " 0   Price        2442 non-null   float64\n",
      " 1   #Bedrooms    2442 non-null   object \n",
      " 2   #Bathrooms   2442 non-null   object \n",
      " 3   Size(m²)     2442 non-null   float64\n",
      " 4   District     2442 non-null   object \n",
      " 5   StreetWidth  2442 non-null   float64\n",
      "dtypes: float64(3), object(3)\n",
      "memory usage: 133.5+ KB\n"
     ]
    }
   ],
   "source": [
    "df3.info()"
   ]
  },
  {
   "cell_type": "code",
   "execution_count": 147,
   "metadata": {},
   "outputs": [
    {
     "data": {
      "text/plain": [
       "(2442, 6)"
      ]
     },
     "execution_count": 147,
     "metadata": {},
     "output_type": "execute_result"
    }
   ],
   "source": [
    "df3.shape"
   ]
  },
  {
   "cell_type": "code",
   "execution_count": 148,
   "metadata": {},
   "outputs": [
    {
     "data": {
      "text/html": [
       "<div>\n",
       "<style scoped>\n",
       "    .dataframe tbody tr th:only-of-type {\n",
       "        vertical-align: middle;\n",
       "    }\n",
       "\n",
       "    .dataframe tbody tr th {\n",
       "        vertical-align: top;\n",
       "    }\n",
       "\n",
       "    .dataframe thead th {\n",
       "        text-align: right;\n",
       "    }\n",
       "</style>\n",
       "<table border=\"1\" class=\"dataframe\">\n",
       "  <thead>\n",
       "    <tr style=\"text-align: right;\">\n",
       "      <th></th>\n",
       "      <th>Price</th>\n",
       "      <th>#Bedrooms</th>\n",
       "      <th>#Bathrooms</th>\n",
       "      <th>Size(m²)</th>\n",
       "      <th>District</th>\n",
       "      <th>StreetWidth</th>\n",
       "    </tr>\n",
       "  </thead>\n",
       "  <tbody>\n",
       "    <tr>\n",
       "      <th>901</th>\n",
       "      <td>1850000.0</td>\n",
       "      <td>5</td>\n",
       "      <td>6</td>\n",
       "      <td>360.0</td>\n",
       "      <td>الرمال</td>\n",
       "      <td>15.0</td>\n",
       "    </tr>\n",
       "    <tr>\n",
       "      <th>778</th>\n",
       "      <td>1350000.0</td>\n",
       "      <td>3</td>\n",
       "      <td>5</td>\n",
       "      <td>360.0</td>\n",
       "      <td>المهدية</td>\n",
       "      <td>15.0</td>\n",
       "    </tr>\n",
       "    <tr>\n",
       "      <th>109</th>\n",
       "      <td>6000000.0</td>\n",
       "      <td>5</td>\n",
       "      <td>7</td>\n",
       "      <td>625.0</td>\n",
       "      <td>الملقا</td>\n",
       "      <td>15.0</td>\n",
       "    </tr>\n",
       "    <tr>\n",
       "      <th>154</th>\n",
       "      <td>1400000.0</td>\n",
       "      <td>5</td>\n",
       "      <td>5</td>\n",
       "      <td>360.0</td>\n",
       "      <td>طويق</td>\n",
       "      <td>15.0</td>\n",
       "    </tr>\n",
       "  </tbody>\n",
       "</table>\n",
       "</div>"
      ],
      "text/plain": [
       "         Price #Bedrooms #Bathrooms  Size(m²) District  StreetWidth\n",
       "901  1850000.0         5          6     360.0   الرمال         15.0\n",
       "778  1350000.0         3          5     360.0  المهدية         15.0\n",
       "109  6000000.0         5          7     625.0   الملقا         15.0\n",
       "154  1400000.0         5          5     360.0     طويق         15.0"
      ]
     },
     "execution_count": 148,
     "metadata": {},
     "output_type": "execute_result"
    }
   ],
   "source": [
    "df3.sample(4)"
   ]
  },
  {
   "cell_type": "code",
   "execution_count": 149,
   "metadata": {},
   "outputs": [
    {
     "name": "stdout",
     "output_type": "stream",
     "text": [
      "<class 'pandas.core.frame.DataFrame'>\n",
      "Int64Index: 2442 entries, 0 to 178\n",
      "Data columns (total 6 columns):\n",
      " #   Column       Non-Null Count  Dtype  \n",
      "---  ------       --------------  -----  \n",
      " 0   Price        2442 non-null   float64\n",
      " 1   #Bedrooms    2442 non-null   float64\n",
      " 2   #Bathrooms   2442 non-null   float64\n",
      " 3   Size(m²)     2442 non-null   float64\n",
      " 4   District     2442 non-null   object \n",
      " 5   StreetWidth  2442 non-null   float64\n",
      "dtypes: float64(5), object(1)\n",
      "memory usage: 133.5+ KB\n"
     ]
    }
   ],
   "source": [
    "df3['#Bedrooms'] = df3['#Bedrooms'].astype(float, errors = 'raise')\n",
    "df3['#Bathrooms'] = df3['#Bathrooms'].astype(float, errors = 'raise')\n",
    "df3.info()"
   ]
  },
  {
   "cell_type": "code",
   "execution_count": 150,
   "metadata": {},
   "outputs": [
    {
     "data": {
      "text/plain": [
       "الرمال           349\n",
       "طويق             275\n",
       "المونسية         201\n",
       "القادسية         124\n",
       "الملقا            86\n",
       "اليرموك           80\n",
       "الدار البيضاء     62\n",
       "بدر               55\n",
       "النرجس            54\n",
       "النظيم            52\n",
       "Name: District, dtype: int64"
      ]
     },
     "execution_count": 150,
     "metadata": {},
     "output_type": "execute_result"
    }
   ],
   "source": [
    "df3['District'].value_counts().head(10)"
   ]
  },
  {
   "cell_type": "code",
   "execution_count": 151,
   "metadata": {},
   "outputs": [
    {
     "data": {
      "image/png": "[encoded data removed]",
      "text/plain": [
       "<Figure size 432x288 with 1 Axes>"
      ]
     },
     "metadata": {},
     "output_type": "display_data"
    }
   ],
   "source": [
    "df3['District'].value_counts()[:10].plot(kind='barh');"
   ]
  },
  {
   "cell_type": "code",
   "execution_count": 152,
   "metadata": {},
   "outputs": [
    {
     "data": {
      "text/html": [
       "<div>\n",
       "<style scoped>\n",
       "    .dataframe tbody tr th:only-of-type {\n",
       "        vertical-align: middle;\n",
       "    }\n",
       "\n",
       "    .dataframe tbody tr th {\n",
       "        vertical-align: top;\n",
       "    }\n",
       "\n",
       "    .dataframe thead th {\n",
       "        text-align: right;\n",
       "    }\n",
       "</style>\n",
       "<table border=\"1\" class=\"dataframe\">\n",
       "  <thead>\n",
       "    <tr style=\"text-align: right;\">\n",
       "      <th></th>\n",
       "      <th>District</th>\n",
       "      <th>Price</th>\n",
       "    </tr>\n",
       "  </thead>\n",
       "  <tbody>\n",
       "    <tr>\n",
       "      <th>16</th>\n",
       "      <td>الخزامى</td>\n",
       "      <td>1.400000e+07</td>\n",
       "    </tr>\n",
       "    <tr>\n",
       "      <th>125</th>\n",
       "      <td>مركز الملك عبدالله للدراسات والبحوث</td>\n",
       "      <td>1.000000e+07</td>\n",
       "    </tr>\n",
       "    <tr>\n",
       "      <th>119</th>\n",
       "      <td>عرقة</td>\n",
       "      <td>8.330000e+06</td>\n",
       "    </tr>\n",
       "    <tr>\n",
       "      <th>20</th>\n",
       "      <td>الرائد</td>\n",
       "      <td>6.000000e+06</td>\n",
       "    </tr>\n",
       "    <tr>\n",
       "      <th>71</th>\n",
       "      <td>الملقا</td>\n",
       "      <td>5.981977e+06</td>\n",
       "    </tr>\n",
       "    <tr>\n",
       "      <th>47</th>\n",
       "      <td>العليا</td>\n",
       "      <td>5.823077e+06</td>\n",
       "    </tr>\n",
       "    <tr>\n",
       "      <th>50</th>\n",
       "      <td>الغدير</td>\n",
       "      <td>5.750000e+06</td>\n",
       "    </tr>\n",
       "    <tr>\n",
       "      <th>91</th>\n",
       "      <td>الواحة</td>\n",
       "      <td>5.750000e+06</td>\n",
       "    </tr>\n",
       "    <tr>\n",
       "      <th>108</th>\n",
       "      <td>حطين</td>\n",
       "      <td>5.698333e+06</td>\n",
       "    </tr>\n",
       "    <tr>\n",
       "      <th>105</th>\n",
       "      <td>جامعة الملك سعود</td>\n",
       "      <td>5.500000e+06</td>\n",
       "    </tr>\n",
       "  </tbody>\n",
       "</table>\n",
       "</div>"
      ],
      "text/plain": [
       "                                District         Price\n",
       "16                               الخزامى  1.400000e+07\n",
       "125  مركز الملك عبدالله للدراسات والبحوث  1.000000e+07\n",
       "119                                 عرقة  8.330000e+06\n",
       "20                                الرائد  6.000000e+06\n",
       "71                                الملقا  5.981977e+06\n",
       "47                                العليا  5.823077e+06\n",
       "50                                الغدير  5.750000e+06\n",
       "91                                الواحة  5.750000e+06\n",
       "108                                 حطين  5.698333e+06\n",
       "105                     جامعة الملك سعود  5.500000e+06"
      ]
     },
     "execution_count": 152,
     "metadata": {},
     "output_type": "execute_result"
    }
   ],
   "source": [
    "top_Dis =df3[['District' ,'Price']].groupby('District').mean().reset_index().sort_values(by = 'Price', ascending = False)\n",
    "top_Dis.head(10)"
   ]
  },
  {
   "cell_type": "code",
   "execution_count": 153,
   "metadata": {},
   "outputs": [
    {
     "data": {
      "image/png": "[encoded data removed]",
      "text/plain": [
       "<Figure size 432x288 with 1 Axes>"
      ]
     },
     "metadata": {},
     "output_type": "display_data"
    }
   ],
   "source": [
    "sns.barplot(data=top_Dis.head(10), x='Price',y='District', palette = 'deep');"
   ]
  },
  {
   "cell_type": "code",
   "execution_count": 154,
   "metadata": {},
   "outputs": [
    {
     "name": "stderr",
     "output_type": "stream",
     "text": [
      "C:\\Users\\hp\\anaconda3\\lib\\site-packages\\seaborn\\distributions.py:2619: FutureWarning: `distplot` is a deprecated function and will be removed in a future version. Please adapt your code to use either `displot` (a figure-level function with similar flexibility) or `histplot` (an axes-level function for histograms).\n",
      "  warnings.warn(msg, FutureWarning)\n"
     ]
    },
    {
     "name": "stdout",
     "output_type": "stream",
     "text": [
      "Skewness: 5.894588\n",
      "Kurtosis: 62.427960\n"
     ]
    },
    {
     "data": {
      "image/png": "[encoded data removed]",
      "text/plain": [
       "<Figure size 432x288 with 1 Axes>"
      ]
     },
     "metadata": {},
     "output_type": "display_data"
    }
   ],
   "source": [
    "sns.distplot(df3['Price']);\n",
    "#skewness and kurtosis\n",
    "print(\"Skewness: %f\" % df3['Price'].skew())\n",
    "print(\"Kurtosis: %f\" % df3['Price'].kurt())"
   ]
  },
  {
   "cell_type": "code",
   "execution_count": 156,
   "metadata": {},
   "outputs": [
    {
     "name": "stderr",
     "output_type": "stream",
     "text": [
      "C:\\Users\\hp\\anaconda3\\lib\\site-packages\\seaborn\\distributions.py:2619: FutureWarning: `distplot` is a deprecated function and will be removed in a future version. Please adapt your code to use either `displot` (a figure-level function with similar flexibility) or `histplot` (an axes-level function for histograms).\n",
      "  warnings.warn(msg, FutureWarning)\n"
     ]
    },
    {
     "data": {
      "image/png": "[encoded data removed]",
      "text/plain": [
       "<Figure size 432x288 with 1 Axes>"
      ]
     },
     "metadata": {},
     "output_type": "display_data"
    }
   ],
   "source": [
    "sns.distplot(df3['Size(m²)']);"
   ]
  },
  {
   "cell_type": "code",
   "execution_count": 157,
   "metadata": {},
   "outputs": [
    {
     "name": "stderr",
     "output_type": "stream",
     "text": [
      "C:\\Users\\hp\\anaconda3\\lib\\site-packages\\seaborn\\distributions.py:2619: FutureWarning: `distplot` is a deprecated function and will be removed in a future version. Please adapt your code to use either `displot` (a figure-level function with similar flexibility) or `histplot` (an axes-level function for histograms).\n",
      "  warnings.warn(msg, FutureWarning)\n"
     ]
    },
    {
     "data": {
      "image/png": "[encoded data removed]",
      "text/plain": [
       "<Figure size 432x288 with 1 Axes>"
      ]
     },
     "metadata": {},
     "output_type": "display_data"
    }
   ],
   "source": [
    "sns.distplot(df3['StreetWidth']);"
   ]
  },
  {
   "cell_type": "code",
   "execution_count": 158,
   "metadata": {},
   "outputs": [
    {
     "name": "stderr",
     "output_type": "stream",
     "text": [
      "C:\\Users\\hp\\anaconda3\\lib\\site-packages\\seaborn\\distributions.py:2619: FutureWarning: `distplot` is a deprecated function and will be removed in a future version. Please adapt your code to use either `displot` (a figure-level function with similar flexibility) or `histplot` (an axes-level function for histograms).\n",
      "  warnings.warn(msg, FutureWarning)\n"
     ]
    },
    {
     "data": {
      "image/png": "[encoded data removed]",
      "text/plain": [
       "<Figure size 432x288 with 1 Axes>"
      ]
     },
     "metadata": {},
     "output_type": "display_data"
    }
   ],
   "source": [
    "sns.distplot(df3['#Bathrooms']);"
   ]
  },
  {
   "cell_type": "code",
   "execution_count": 159,
   "metadata": {},
   "outputs": [
    {
     "name": "stderr",
     "output_type": "stream",
     "text": [
      "C:\\Users\\hp\\anaconda3\\lib\\site-packages\\seaborn\\distributions.py:2619: FutureWarning: `distplot` is a deprecated function and will be removed in a future version. Please adapt your code to use either `displot` (a figure-level function with similar flexibility) or `histplot` (an axes-level function for histograms).\n",
      "  warnings.warn(msg, FutureWarning)\n"
     ]
    },
    {
     "data": {
      "image/png": "[encoded data removed]",
      "text/plain": [
       "<Figure size 432x288 with 1 Axes>"
      ]
     },
     "metadata": {},
     "output_type": "display_data"
    }
   ],
   "source": [
    "sns.distplot(df3['#Bedrooms']);"
   ]
  },
  {
   "cell_type": "code",
   "execution_count": 160,
   "metadata": {},
   "outputs": [
    {
     "data": {
      "text/html": [
       "<div>\n",
       "<style scoped>\n",
       "    .dataframe tbody tr th:only-of-type {\n",
       "        vertical-align: middle;\n",
       "    }\n",
       "\n",
       "    .dataframe tbody tr th {\n",
       "        vertical-align: top;\n",
       "    }\n",
       "\n",
       "    .dataframe thead th {\n",
       "        text-align: right;\n",
       "    }\n",
       "</style>\n",
       "<table border=\"1\" class=\"dataframe\">\n",
       "  <thead>\n",
       "    <tr style=\"text-align: right;\">\n",
       "      <th></th>\n",
       "      <th>Price</th>\n",
       "      <th>#Bedrooms</th>\n",
       "      <th>#Bathrooms</th>\n",
       "      <th>Size(m²)</th>\n",
       "      <th>StreetWidth</th>\n",
       "    </tr>\n",
       "  </thead>\n",
       "  <tbody>\n",
       "    <tr>\n",
       "      <th>count</th>\n",
       "      <td>2.442000e+03</td>\n",
       "      <td>2442.000000</td>\n",
       "      <td>2442.000000</td>\n",
       "      <td>2442.000000</td>\n",
       "      <td>2442.000000</td>\n",
       "    </tr>\n",
       "    <tr>\n",
       "      <th>mean</th>\n",
       "      <td>1.736941e+06</td>\n",
       "      <td>4.690827</td>\n",
       "      <td>4.739967</td>\n",
       "      <td>406.224406</td>\n",
       "      <td>15.580262</td>\n",
       "    </tr>\n",
       "    <tr>\n",
       "      <th>std</th>\n",
       "      <td>1.759264e+06</td>\n",
       "      <td>1.046555</td>\n",
       "      <td>1.387585</td>\n",
       "      <td>339.859018</td>\n",
       "      <td>5.216680</td>\n",
       "    </tr>\n",
       "    <tr>\n",
       "      <th>min</th>\n",
       "      <td>3.750000e+02</td>\n",
       "      <td>1.000000</td>\n",
       "      <td>1.000000</td>\n",
       "      <td>50.000000</td>\n",
       "      <td>1.000000</td>\n",
       "    </tr>\n",
       "    <tr>\n",
       "      <th>25%</th>\n",
       "      <td>9.500000e+05</td>\n",
       "      <td>4.000000</td>\n",
       "      <td>4.000000</td>\n",
       "      <td>260.000000</td>\n",
       "      <td>15.000000</td>\n",
       "    </tr>\n",
       "    <tr>\n",
       "      <th>50%</th>\n",
       "      <td>1.350000e+06</td>\n",
       "      <td>5.000000</td>\n",
       "      <td>5.000000</td>\n",
       "      <td>350.000000</td>\n",
       "      <td>15.000000</td>\n",
       "    </tr>\n",
       "    <tr>\n",
       "      <th>75%</th>\n",
       "      <td>1.850000e+06</td>\n",
       "      <td>5.000000</td>\n",
       "      <td>5.000000</td>\n",
       "      <td>420.000000</td>\n",
       "      <td>15.000000</td>\n",
       "    </tr>\n",
       "    <tr>\n",
       "      <th>max</th>\n",
       "      <td>3.000000e+07</td>\n",
       "      <td>7.000000</td>\n",
       "      <td>7.000000</td>\n",
       "      <td>4900.000000</td>\n",
       "      <td>100.000000</td>\n",
       "    </tr>\n",
       "  </tbody>\n",
       "</table>\n",
       "</div>"
      ],
      "text/plain": [
       "              Price    #Bedrooms   #Bathrooms     Size(m²)  StreetWidth\n",
       "count  2.442000e+03  2442.000000  2442.000000  2442.000000  2442.000000\n",
       "mean   1.736941e+06     4.690827     4.739967   406.224406    15.580262\n",
       "std    1.759264e+06     1.046555     1.387585   339.859018     5.216680\n",
       "min    3.750000e+02     1.000000     1.000000    50.000000     1.000000\n",
       "25%    9.500000e+05     4.000000     4.000000   260.000000    15.000000\n",
       "50%    1.350000e+06     5.000000     5.000000   350.000000    15.000000\n",
       "75%    1.850000e+06     5.000000     5.000000   420.000000    15.000000\n",
       "max    3.000000e+07     7.000000     7.000000  4900.000000   100.000000"
      ]
     },
     "execution_count": 160,
     "metadata": {},
     "output_type": "execute_result"
    }
   ],
   "source": [
    "df3.describe()"
   ]
  },
  {
   "cell_type": "code",
   "execution_count": 161,
   "metadata": {
    "scrolled": true
   },
   "outputs": [
    {
     "data": {
      "image/png": "[encoded data removed]",
      "text/plain": [
       "<Figure size 648x360 with 1 Axes>"
      ]
     },
     "metadata": {},
     "output_type": "display_data"
    }
   ],
   "source": [
    "fig, ax = plt.subplots(figsize=(9,5))\n",
    "sns.heatmap(df3.isnull(), cbar=False, cmap=\"YlGnBu_r\")#check if there is any null values\n",
    "plt.show()"
   ]
  },
  {
   "cell_type": "markdown",
   "metadata": {},
   "source": [
    "Insight: No nulls"
   ]
  },
  {
   "cell_type": "code",
   "execution_count": 258,
   "metadata": {},
   "outputs": [
    {
     "data": {
      "text/html": [
       "<div>\n",
       "<style scoped>\n",
       "    .dataframe tbody tr th:only-of-type {\n",
       "        vertical-align: middle;\n",
       "    }\n",
       "\n",
       "    .dataframe tbody tr th {\n",
       "        vertical-align: top;\n",
       "    }\n",
       "\n",
       "    .dataframe thead th {\n",
       "        text-align: right;\n",
       "    }\n",
       "</style>\n",
       "<table border=\"1\" class=\"dataframe\">\n",
       "  <thead>\n",
       "    <tr style=\"text-align: right;\">\n",
       "      <th></th>\n",
       "      <th>Price</th>\n",
       "      <th>#Bedrooms</th>\n",
       "      <th>#Bathrooms</th>\n",
       "      <th>Size(m²)</th>\n",
       "      <th>StreetWidth</th>\n",
       "    </tr>\n",
       "  </thead>\n",
       "  <tbody>\n",
       "    <tr>\n",
       "      <th>Price</th>\n",
       "      <td>1.000000</td>\n",
       "      <td>0.103925</td>\n",
       "      <td>0.422856</td>\n",
       "      <td>0.409663</td>\n",
       "      <td>0.022888</td>\n",
       "    </tr>\n",
       "    <tr>\n",
       "      <th>#Bedrooms</th>\n",
       "      <td>0.103925</td>\n",
       "      <td>1.000000</td>\n",
       "      <td>0.383695</td>\n",
       "      <td>0.054567</td>\n",
       "      <td>0.021604</td>\n",
       "    </tr>\n",
       "    <tr>\n",
       "      <th>#Bathrooms</th>\n",
       "      <td>0.422856</td>\n",
       "      <td>0.383695</td>\n",
       "      <td>1.000000</td>\n",
       "      <td>0.243299</td>\n",
       "      <td>0.043465</td>\n",
       "    </tr>\n",
       "    <tr>\n",
       "      <th>Size(m²)</th>\n",
       "      <td>0.409663</td>\n",
       "      <td>0.054567</td>\n",
       "      <td>0.243299</td>\n",
       "      <td>1.000000</td>\n",
       "      <td>0.044212</td>\n",
       "    </tr>\n",
       "    <tr>\n",
       "      <th>StreetWidth</th>\n",
       "      <td>0.022888</td>\n",
       "      <td>0.021604</td>\n",
       "      <td>0.043465</td>\n",
       "      <td>0.044212</td>\n",
       "      <td>1.000000</td>\n",
       "    </tr>\n",
       "  </tbody>\n",
       "</table>\n",
       "</div>"
      ],
      "text/plain": [
       "                Price  #Bedrooms  #Bathrooms  Size(m²)  StreetWidth\n",
       "Price        1.000000   0.103925    0.422856  0.409663     0.022888\n",
       "#Bedrooms    0.103925   1.000000    0.383695  0.054567     0.021604\n",
       "#Bathrooms   0.422856   0.383695    1.000000  0.243299     0.043465\n",
       "Size(m²)     0.409663   0.054567    0.243299  1.000000     0.044212\n",
       "StreetWidth  0.022888   0.021604    0.043465  0.044212     1.000000"
      ]
     },
     "execution_count": 258,
     "metadata": {},
     "output_type": "execute_result"
    }
   ],
   "source": [
    "df3.corr()"
   ]
  },
  {
   "cell_type": "code",
   "execution_count": 163,
   "metadata": {},
   "outputs": [
    {
     "data": {
      "text/html": [
       "<div>\n",
       "<style scoped>\n",
       "    .dataframe tbody tr th:only-of-type {\n",
       "        vertical-align: middle;\n",
       "    }\n",
       "\n",
       "    .dataframe tbody tr th {\n",
       "        vertical-align: top;\n",
       "    }\n",
       "\n",
       "    .dataframe thead th {\n",
       "        text-align: right;\n",
       "    }\n",
       "</style>\n",
       "<table border=\"1\" class=\"dataframe\">\n",
       "  <thead>\n",
       "    <tr style=\"text-align: right;\">\n",
       "      <th></th>\n",
       "      <th>Price</th>\n",
       "      <th>#Bedrooms</th>\n",
       "      <th>#Bathrooms</th>\n",
       "      <th>Size(m²)</th>\n",
       "      <th>StreetWidth</th>\n",
       "    </tr>\n",
       "  </thead>\n",
       "  <tbody>\n",
       "    <tr>\n",
       "      <th>Price</th>\n",
       "      <td>3.095008e+12</td>\n",
       "      <td>344165.126555</td>\n",
       "      <td>794877.574569</td>\n",
       "      <td>3.087576e+08</td>\n",
       "      <td>110701.087799</td>\n",
       "    </tr>\n",
       "    <tr>\n",
       "      <th>#Bedrooms</th>\n",
       "      <td>3.441651e+05</td>\n",
       "      <td>1.095278</td>\n",
       "      <td>0.716786</td>\n",
       "      <td>4.138936e+01</td>\n",
       "      <td>0.111470</td>\n",
       "    </tr>\n",
       "    <tr>\n",
       "      <th>#Bathrooms</th>\n",
       "      <td>7.948776e+05</td>\n",
       "      <td>0.716786</td>\n",
       "      <td>1.925391</td>\n",
       "      <td>8.510754e+01</td>\n",
       "      <td>-0.030124</td>\n",
       "    </tr>\n",
       "    <tr>\n",
       "      <th>Size(m²)</th>\n",
       "      <td>3.087576e+08</td>\n",
       "      <td>41.389360</td>\n",
       "      <td>85.107537</td>\n",
       "      <td>1.155042e+05</td>\n",
       "      <td>88.185586</td>\n",
       "    </tr>\n",
       "    <tr>\n",
       "      <th>StreetWidth</th>\n",
       "      <td>1.107011e+05</td>\n",
       "      <td>0.111470</td>\n",
       "      <td>-0.030124</td>\n",
       "      <td>8.818559e+01</td>\n",
       "      <td>27.213752</td>\n",
       "    </tr>\n",
       "  </tbody>\n",
       "</table>\n",
       "</div>"
      ],
      "text/plain": [
       "                    Price      #Bedrooms     #Bathrooms      Size(m²)  \\\n",
       "Price        3.095008e+12  344165.126555  794877.574569  3.087576e+08   \n",
       "#Bedrooms    3.441651e+05       1.095278       0.716786  4.138936e+01   \n",
       "#Bathrooms   7.948776e+05       0.716786       1.925391  8.510754e+01   \n",
       "Size(m²)     3.087576e+08      41.389360      85.107537  1.155042e+05   \n",
       "StreetWidth  1.107011e+05       0.111470      -0.030124  8.818559e+01   \n",
       "\n",
       "               StreetWidth  \n",
       "Price        110701.087799  \n",
       "#Bedrooms         0.111470  \n",
       "#Bathrooms       -0.030124  \n",
       "Size(m²)         88.185586  \n",
       "StreetWidth      27.213752  "
      ]
     },
     "execution_count": 163,
     "metadata": {},
     "output_type": "execute_result"
    }
   ],
   "source": [
    "df3.cov()"
   ]
  },
  {
   "cell_type": "code",
   "execution_count": 164,
   "metadata": {},
   "outputs": [
    {
     "data": {
      "image/png": "[encoded data removed]",
      "text/plain": [
       "<Figure size 864x432 with 2 Axes>"
      ]
     },
     "metadata": {},
     "output_type": "display_data"
    }
   ],
   "source": [
    "plt.figure(figsize=(12, 6))\n",
    "heatmap = sns.heatmap(df3.corr(), vmin=-1, vmax=1, annot=True,cmap=\"YlGnBu\")\n",
    "heatmap.set_title('Correlation Heatmap', fontdict={'fontsize':12}, pad=12);\n",
    "plt.show()"
   ]
  },
  {
   "cell_type": "markdown",
   "metadata": {},
   "source": [
    "- The \"Size\" feature has high positive correlation 0.52 with our target \"Price\"\n",
    "- The \"Bathrooms\" feature has positive correlation 0.33 with our target \"Price\"\n",
    "- The \"Bedrooms\" feature has low positive correlation 0.19 with our target \"Price\""
   ]
  },
  {
   "cell_type": "code",
   "execution_count": 165,
   "metadata": {},
   "outputs": [
    {
     "name": "stderr",
     "output_type": "stream",
     "text": [
      "*c* argument looks like a single numeric RGB or RGBA sequence, which should be avoided as value-mapping will have precedence in case its length matches with *x* & *y*.  Please use the *color* keyword-argument or provide a 2-D array with a single row if you intend to specify the same RGB or RGBA value for all points.\n"
     ]
    },
    {
     "data": {
      "image/png": "[encoded data removed]",
      "text/plain": [
       "<Figure size 720x360 with 1 Axes>"
      ]
     },
     "metadata": {},
     "output_type": "display_data"
    }
   ],
   "source": [
    "corr = df3[\"Price\"].corr(df3['#Bedrooms']) \n",
    "df3.plot(kind=\"scatter\",y=\"#Bedrooms\" , x=\"Price\",figsize=(10,5) , label = corr)\n",
    "plt.title(\"Correlation between Price & Number of beds\" , fontsize=15)\n",
    "plt.xlabel(\"Price\" , fontsize=14)\n",
    "plt.ylabel(\"# of beds\" , fontsize=14)\n",
    "plt.legend();"
   ]
  },
  {
   "cell_type": "code",
   "execution_count": 166,
   "metadata": {},
   "outputs": [
    {
     "name": "stderr",
     "output_type": "stream",
     "text": [
      "*c* argument looks like a single numeric RGB or RGBA sequence, which should be avoided as value-mapping will have precedence in case its length matches with *x* & *y*.  Please use the *color* keyword-argument or provide a 2-D array with a single row if you intend to specify the same RGB or RGBA value for all points.\n"
     ]
    },
    {
     "data": {
      "image/png": "[encoded data removed]",
      "text/plain": [
       "<Figure size 720x360 with 1 Axes>"
      ]
     },
     "metadata": {},
     "output_type": "display_data"
    }
   ],
   "source": [
    "corr = df3['Price'].corr(df3['#Bathrooms']) \n",
    "df3.plot(kind=\"scatter\",y=\"#Bathrooms\" , x=\"Price\",figsize=(10,5) , label = corr)\n",
    "plt.title(\"Correlation between Price & Number of bathrooms\" , fontsize=15)\n",
    "plt.xlabel(\"Price\" , fontsize=14)\n",
    "plt.ylabel(\"# of bathrooms\" , fontsize=14)\n",
    "plt.legend();"
   ]
  },
  {
   "cell_type": "code",
   "execution_count": 167,
   "metadata": {},
   "outputs": [
    {
     "name": "stderr",
     "output_type": "stream",
     "text": [
      "*c* argument looks like a single numeric RGB or RGBA sequence, which should be avoided as value-mapping will have precedence in case its length matches with *x* & *y*.  Please use the *color* keyword-argument or provide a 2-D array with a single row if you intend to specify the same RGB or RGBA value for all points.\n"
     ]
    },
    {
     "data": {
      "image/png": "[encoded data removed]",
      "text/plain": [
       "<Figure size 720x360 with 1 Axes>"
      ]
     },
     "metadata": {},
     "output_type": "display_data"
    }
   ],
   "source": [
    "corr = df3['Price'].corr(df3['Size(m²)']) \n",
    "df3.plot(kind=\"scatter\",y=\"Price\" , x=\"Size(m²)\",figsize=(10,5) , label = corr)\n",
    "plt.title(\"Correlation between Price & Size in m²\" , fontsize=15)\n",
    "plt.xlabel(\"Size(m²)\" , fontsize=14)\n",
    "plt.ylabel(\"Price\" , fontsize=14)\n",
    "plt.legend();"
   ]
  },
  {
   "cell_type": "code",
   "execution_count": 168,
   "metadata": {},
   "outputs": [
    {
     "name": "stderr",
     "output_type": "stream",
     "text": [
      "*c* argument looks like a single numeric RGB or RGBA sequence, which should be avoided as value-mapping will have precedence in case its length matches with *x* & *y*.  Please use the *color* keyword-argument or provide a 2-D array with a single row if you intend to specify the same RGB or RGBA value for all points.\n",
      "No handles with labels found to put in legend.\n"
     ]
    },
    {
     "data": {
      "image/png": "[encoded data removed]",
      "text/plain": [
       "<Figure size 432x288 with 1 Axes>"
      ]
     },
     "metadata": {},
     "output_type": "display_data"
    }
   ],
   "source": [
    "#Zoomed in plot for the price vs size(m2)\n",
    "\n",
    "df3.plot(x=\"Size(m²)\", y='Price', kind='scatter')\n",
    "plt.xlim([0, 1000])\n",
    "plt.ylim([0,1e7])\n",
    "plt.title(\"Correlation between Price & Size in m²\" , fontsize=15)\n",
    "plt.xlabel(\"Size(m²)\" , fontsize=15)\n",
    "plt.ylabel(\"Price\" , fontsize=15)\n",
    "plt.legend();"
   ]
  },
  {
   "cell_type": "code",
   "execution_count": 169,
   "metadata": {},
   "outputs": [
    {
     "data": {
      "image/png": "[encoded data removed]",
      "text/plain": [
       "<Figure size 432x288 with 1 Axes>"
      ]
     },
     "metadata": {},
     "output_type": "display_data"
    }
   ],
   "source": [
    "plt.boxplot(df3[\"Price\"])\n",
    "plt.title(\"Box plot to detect the outliers in PRICE\")\n",
    "plt.show()"
   ]
  },
  {
   "cell_type": "code",
   "execution_count": 182,
   "metadata": {},
   "outputs": [
    {
     "data": {
      "text/plain": [
       "count    2.442000e+03\n",
       "mean     1.736941e+06\n",
       "std      1.759264e+06\n",
       "min      3.750000e+02\n",
       "25%      9.500000e+05\n",
       "50%      1.350000e+06\n",
       "75%      1.850000e+06\n",
       "max      3.000000e+07\n",
       "Name: Price, dtype: float64"
      ]
     },
     "execution_count": 182,
     "metadata": {},
     "output_type": "execute_result"
    }
   ],
   "source": [
    "df3.Price.describe()"
   ]
  },
  {
   "cell_type": "code",
   "execution_count": 212,
   "metadata": {},
   "outputs": [
    {
     "data": {
      "text/html": [
       "<div>\n",
       "<style scoped>\n",
       "    .dataframe tbody tr th:only-of-type {\n",
       "        vertical-align: middle;\n",
       "    }\n",
       "\n",
       "    .dataframe tbody tr th {\n",
       "        vertical-align: top;\n",
       "    }\n",
       "\n",
       "    .dataframe thead th {\n",
       "        text-align: right;\n",
       "    }\n",
       "</style>\n",
       "<table border=\"1\" class=\"dataframe\">\n",
       "  <thead>\n",
       "    <tr style=\"text-align: right;\">\n",
       "      <th></th>\n",
       "      <th>Price</th>\n",
       "      <th>#Bedrooms</th>\n",
       "      <th>#Bathrooms</th>\n",
       "      <th>Size(m²)</th>\n",
       "      <th>District</th>\n",
       "      <th>StreetWidth</th>\n",
       "    </tr>\n",
       "  </thead>\n",
       "  <tbody>\n",
       "    <tr>\n",
       "      <th>0</th>\n",
       "      <td>1550000.0</td>\n",
       "      <td>4.0</td>\n",
       "      <td>6.0</td>\n",
       "      <td>389.0</td>\n",
       "      <td>الرمال</td>\n",
       "      <td>15.0</td>\n",
       "    </tr>\n",
       "    <tr>\n",
       "      <th>1</th>\n",
       "      <td>3000000.0</td>\n",
       "      <td>4.0</td>\n",
       "      <td>6.0</td>\n",
       "      <td>375.0</td>\n",
       "      <td>قرطبة</td>\n",
       "      <td>15.0</td>\n",
       "    </tr>\n",
       "    <tr>\n",
       "      <th>2</th>\n",
       "      <td>1300000.0</td>\n",
       "      <td>4.0</td>\n",
       "      <td>5.0</td>\n",
       "      <td>225.0</td>\n",
       "      <td>الرمال</td>\n",
       "      <td>15.0</td>\n",
       "    </tr>\n",
       "    <tr>\n",
       "      <th>3</th>\n",
       "      <td>950000.0</td>\n",
       "      <td>6.0</td>\n",
       "      <td>6.0</td>\n",
       "      <td>300.0</td>\n",
       "      <td>طويق</td>\n",
       "      <td>15.0</td>\n",
       "    </tr>\n",
       "    <tr>\n",
       "      <th>4</th>\n",
       "      <td>1900000.0</td>\n",
       "      <td>7.0</td>\n",
       "      <td>7.0</td>\n",
       "      <td>375.0</td>\n",
       "      <td>الرمال</td>\n",
       "      <td>15.0</td>\n",
       "    </tr>\n",
       "    <tr>\n",
       "      <th>...</th>\n",
       "      <td>...</td>\n",
       "      <td>...</td>\n",
       "      <td>...</td>\n",
       "      <td>...</td>\n",
       "      <td>...</td>\n",
       "      <td>...</td>\n",
       "    </tr>\n",
       "    <tr>\n",
       "      <th>174</th>\n",
       "      <td>1750000.0</td>\n",
       "      <td>7.0</td>\n",
       "      <td>5.0</td>\n",
       "      <td>300.0</td>\n",
       "      <td>جامعة الامام محمد بن سعود الاسلامية</td>\n",
       "      <td>100.0</td>\n",
       "    </tr>\n",
       "    <tr>\n",
       "      <th>175</th>\n",
       "      <td>950000.0</td>\n",
       "      <td>4.0</td>\n",
       "      <td>4.0</td>\n",
       "      <td>300.0</td>\n",
       "      <td>طويق</td>\n",
       "      <td>25.0</td>\n",
       "    </tr>\n",
       "    <tr>\n",
       "      <th>176</th>\n",
       "      <td>1850000.0</td>\n",
       "      <td>5.0</td>\n",
       "      <td>5.0</td>\n",
       "      <td>320.0</td>\n",
       "      <td>النرجس</td>\n",
       "      <td>18.0</td>\n",
       "    </tr>\n",
       "    <tr>\n",
       "      <th>177</th>\n",
       "      <td>1020000.0</td>\n",
       "      <td>5.0</td>\n",
       "      <td>5.0</td>\n",
       "      <td>220.0</td>\n",
       "      <td>طويق</td>\n",
       "      <td>18.0</td>\n",
       "    </tr>\n",
       "    <tr>\n",
       "      <th>178</th>\n",
       "      <td>6000000.0</td>\n",
       "      <td>5.0</td>\n",
       "      <td>5.0</td>\n",
       "      <td>1800.0</td>\n",
       "      <td>الفيحاء</td>\n",
       "      <td>18.0</td>\n",
       "    </tr>\n",
       "  </tbody>\n",
       "</table>\n",
       "<p>1080 rows × 6 columns</p>\n",
       "</div>"
      ],
      "text/plain": [
       "         Price  #Bedrooms  #Bathrooms  Size(m²)  \\\n",
       "0    1550000.0        4.0         6.0     389.0   \n",
       "1    3000000.0        4.0         6.0     375.0   \n",
       "2    1300000.0        4.0         5.0     225.0   \n",
       "3     950000.0        6.0         6.0     300.0   \n",
       "4    1900000.0        7.0         7.0     375.0   \n",
       "..         ...        ...         ...       ...   \n",
       "174  1750000.0        7.0         5.0     300.0   \n",
       "175   950000.0        4.0         4.0     300.0   \n",
       "176  1850000.0        5.0         5.0     320.0   \n",
       "177  1020000.0        5.0         5.0     220.0   \n",
       "178  6000000.0        5.0         5.0    1800.0   \n",
       "\n",
       "                                District  StreetWidth  \n",
       "0                                 الرمال         15.0  \n",
       "1                                  قرطبة         15.0  \n",
       "2                                 الرمال         15.0  \n",
       "3                                   طويق         15.0  \n",
       "4                                 الرمال         15.0  \n",
       "..                                   ...          ...  \n",
       "174  جامعة الامام محمد بن سعود الاسلامية        100.0  \n",
       "175                                 طويق         25.0  \n",
       "176                               النرجس         18.0  \n",
       "177                                 طويق         18.0  \n",
       "178                              الفيحاء         18.0  \n",
       "\n",
       "[1080 rows x 6 columns]"
      ]
     },
     "execution_count": 212,
     "metadata": {},
     "output_type": "execute_result"
    }
   ],
   "source": [
    "df3[df3.index.duplicated()]"
   ]
  },
  {
   "cell_type": "code",
   "execution_count": 212,
   "metadata": {},
   "outputs": [
    {
     "data": {
      "text/html": [
       "<div>\n",
       "<style scoped>\n",
       "    .dataframe tbody tr th:only-of-type {\n",
       "        vertical-align: middle;\n",
       "    }\n",
       "\n",
       "    .dataframe tbody tr th {\n",
       "        vertical-align: top;\n",
       "    }\n",
       "\n",
       "    .dataframe thead th {\n",
       "        text-align: right;\n",
       "    }\n",
       "</style>\n",
       "<table border=\"1\" class=\"dataframe\">\n",
       "  <thead>\n",
       "    <tr style=\"text-align: right;\">\n",
       "      <th></th>\n",
       "      <th>Price</th>\n",
       "      <th>#Bedrooms</th>\n",
       "      <th>#Bathrooms</th>\n",
       "      <th>Size(m²)</th>\n",
       "      <th>District</th>\n",
       "      <th>StreetWidth</th>\n",
       "    </tr>\n",
       "  </thead>\n",
       "  <tbody>\n",
       "    <tr>\n",
       "      <th>0</th>\n",
       "      <td>1550000.0</td>\n",
       "      <td>4.0</td>\n",
       "      <td>6.0</td>\n",
       "      <td>389.0</td>\n",
       "      <td>الرمال</td>\n",
       "      <td>15.0</td>\n",
       "    </tr>\n",
       "    <tr>\n",
       "      <th>1</th>\n",
       "      <td>3000000.0</td>\n",
       "      <td>4.0</td>\n",
       "      <td>6.0</td>\n",
       "      <td>375.0</td>\n",
       "      <td>قرطبة</td>\n",
       "      <td>15.0</td>\n",
       "    </tr>\n",
       "    <tr>\n",
       "      <th>2</th>\n",
       "      <td>1300000.0</td>\n",
       "      <td>4.0</td>\n",
       "      <td>5.0</td>\n",
       "      <td>225.0</td>\n",
       "      <td>الرمال</td>\n",
       "      <td>15.0</td>\n",
       "    </tr>\n",
       "    <tr>\n",
       "      <th>3</th>\n",
       "      <td>950000.0</td>\n",
       "      <td>6.0</td>\n",
       "      <td>6.0</td>\n",
       "      <td>300.0</td>\n",
       "      <td>طويق</td>\n",
       "      <td>15.0</td>\n",
       "    </tr>\n",
       "    <tr>\n",
       "      <th>4</th>\n",
       "      <td>1900000.0</td>\n",
       "      <td>7.0</td>\n",
       "      <td>7.0</td>\n",
       "      <td>375.0</td>\n",
       "      <td>الرمال</td>\n",
       "      <td>15.0</td>\n",
       "    </tr>\n",
       "    <tr>\n",
       "      <th>...</th>\n",
       "      <td>...</td>\n",
       "      <td>...</td>\n",
       "      <td>...</td>\n",
       "      <td>...</td>\n",
       "      <td>...</td>\n",
       "      <td>...</td>\n",
       "    </tr>\n",
       "    <tr>\n",
       "      <th>174</th>\n",
       "      <td>1750000.0</td>\n",
       "      <td>7.0</td>\n",
       "      <td>5.0</td>\n",
       "      <td>300.0</td>\n",
       "      <td>جامعة الامام محمد بن سعود الاسلامية</td>\n",
       "      <td>100.0</td>\n",
       "    </tr>\n",
       "    <tr>\n",
       "      <th>175</th>\n",
       "      <td>950000.0</td>\n",
       "      <td>4.0</td>\n",
       "      <td>4.0</td>\n",
       "      <td>300.0</td>\n",
       "      <td>طويق</td>\n",
       "      <td>25.0</td>\n",
       "    </tr>\n",
       "    <tr>\n",
       "      <th>176</th>\n",
       "      <td>1850000.0</td>\n",
       "      <td>5.0</td>\n",
       "      <td>5.0</td>\n",
       "      <td>320.0</td>\n",
       "      <td>النرجس</td>\n",
       "      <td>18.0</td>\n",
       "    </tr>\n",
       "    <tr>\n",
       "      <th>177</th>\n",
       "      <td>1020000.0</td>\n",
       "      <td>5.0</td>\n",
       "      <td>5.0</td>\n",
       "      <td>220.0</td>\n",
       "      <td>طويق</td>\n",
       "      <td>18.0</td>\n",
       "    </tr>\n",
       "    <tr>\n",
       "      <th>178</th>\n",
       "      <td>6000000.0</td>\n",
       "      <td>5.0</td>\n",
       "      <td>5.0</td>\n",
       "      <td>1800.0</td>\n",
       "      <td>الفيحاء</td>\n",
       "      <td>18.0</td>\n",
       "    </tr>\n",
       "  </tbody>\n",
       "</table>\n",
       "<p>1080 rows × 6 columns</p>\n",
       "</div>"
      ],
      "text/plain": [
       "         Price  #Bedrooms  #Bathrooms  Size(m²)  \\\n",
       "0    1550000.0        4.0         6.0     389.0   \n",
       "1    3000000.0        4.0         6.0     375.0   \n",
       "2    1300000.0        4.0         5.0     225.0   \n",
       "3     950000.0        6.0         6.0     300.0   \n",
       "4    1900000.0        7.0         7.0     375.0   \n",
       "..         ...        ...         ...       ...   \n",
       "174  1750000.0        7.0         5.0     300.0   \n",
       "175   950000.0        4.0         4.0     300.0   \n",
       "176  1850000.0        5.0         5.0     320.0   \n",
       "177  1020000.0        5.0         5.0     220.0   \n",
       "178  6000000.0        5.0         5.0    1800.0   \n",
       "\n",
       "                                District  StreetWidth  \n",
       "0                                 الرمال         15.0  \n",
       "1                                  قرطبة         15.0  \n",
       "2                                 الرمال         15.0  \n",
       "3                                   طويق         15.0  \n",
       "4                                 الرمال         15.0  \n",
       "..                                   ...          ...  \n",
       "174  جامعة الامام محمد بن سعود الاسلامية        100.0  \n",
       "175                                 طويق         25.0  \n",
       "176                               النرجس         18.0  \n",
       "177                                 طويق         18.0  \n",
       "178                              الفيحاء         18.0  \n",
       "\n",
       "[1080 rows x 6 columns]"
      ]
     },
     "execution_count": 212,
     "metadata": {},
     "output_type": "execute_result"
    }
   ],
   "source": [
    "df3[df3.index.duplicated()]"
   ]
  },
  {
   "cell_type": "code",
   "execution_count": 211,
   "metadata": {},
   "outputs": [
    {
     "data": {
      "text/plain": [
       "False"
      ]
     },
     "execution_count": 211,
     "metadata": {},
     "output_type": "execute_result"
    }
   ],
   "source": [
    "df3.columns.duplicated().any()"
   ]
  },
  {
   "cell_type": "code",
   "execution_count": 214,
   "metadata": {},
   "outputs": [],
   "source": [
    "df3= df3.loc[~df3.index.duplicated(), :]"
   ]
  },
  {
   "cell_type": "code",
   "execution_count": 215,
   "metadata": {},
   "outputs": [
    {
     "data": {
      "text/plain": [
       "(1362, 6)"
      ]
     },
     "execution_count": 215,
     "metadata": {},
     "output_type": "execute_result"
    }
   ],
   "source": [
    "df3.shape"
   ]
  },
  {
   "cell_type": "code",
   "execution_count": 227,
   "metadata": {},
   "outputs": [
    {
     "data": {
      "text/plain": [
       "<seaborn.axisgrid.PairGrid at 0x17c4519c130>"
      ]
     },
     "execution_count": 227,
     "metadata": {},
     "output_type": "execute_result"
    },
    {
     "data": {
      "image/png": "[encoded data removed]",
      "text/plain": [
       "<Figure size 900x900 with 30 Axes>"
      ]
     },
     "metadata": {},
     "output_type": "display_data"
    }
   ],
   "source": [
    "sns.pairplot(df3);"
   ]
  },
  {
   "cell_type": "markdown",
   "metadata": {},
   "source": [
    "**Make a copy of dataframe**"
   ]
  },
  {
   "cell_type": "code",
   "execution_count": 228,
   "metadata": {},
   "outputs": [],
   "source": [
    "DF=df3.copy()"
   ]
  },
  {
   "cell_type": "markdown",
   "metadata": {},
   "source": [
    "Encode the District feature to be able to feed the model"
   ]
  },
  {
   "cell_type": "code",
   "execution_count": 229,
   "metadata": {},
   "outputs": [],
   "source": [
    "from sklearn.preprocessing import LabelEncoder\n",
    "labelencoder = LabelEncoder()\n",
    "DF['District'] = labelencoder.fit_transform(DF['District'])"
   ]
  },
  {
   "cell_type": "code",
   "execution_count": 230,
   "metadata": {},
   "outputs": [
    {
     "data": {
      "text/html": [
       "<div>\n",
       "<style scoped>\n",
       "    .dataframe tbody tr th:only-of-type {\n",
       "        vertical-align: middle;\n",
       "    }\n",
       "\n",
       "    .dataframe tbody tr th {\n",
       "        vertical-align: top;\n",
       "    }\n",
       "\n",
       "    .dataframe thead th {\n",
       "        text-align: right;\n",
       "    }\n",
       "</style>\n",
       "<table border=\"1\" class=\"dataframe\">\n",
       "  <thead>\n",
       "    <tr style=\"text-align: right;\">\n",
       "      <th></th>\n",
       "      <th>Price</th>\n",
       "      <th>#Bedrooms</th>\n",
       "      <th>#Bathrooms</th>\n",
       "      <th>Size(m²)</th>\n",
       "      <th>District</th>\n",
       "      <th>StreetWidth</th>\n",
       "    </tr>\n",
       "  </thead>\n",
       "  <tbody>\n",
       "    <tr>\n",
       "      <th>0</th>\n",
       "      <td>580000.0</td>\n",
       "      <td>5.0</td>\n",
       "      <td>5.0</td>\n",
       "      <td>250.0</td>\n",
       "      <td>27</td>\n",
       "      <td>15.0</td>\n",
       "    </tr>\n",
       "    <tr>\n",
       "      <th>1</th>\n",
       "      <td>400000.0</td>\n",
       "      <td>5.0</td>\n",
       "      <td>5.0</td>\n",
       "      <td>600.0</td>\n",
       "      <td>45</td>\n",
       "      <td>20.0</td>\n",
       "    </tr>\n",
       "    <tr>\n",
       "      <th>2</th>\n",
       "      <td>1450000.0</td>\n",
       "      <td>5.0</td>\n",
       "      <td>4.0</td>\n",
       "      <td>480.0</td>\n",
       "      <td>72</td>\n",
       "      <td>15.0</td>\n",
       "    </tr>\n",
       "    <tr>\n",
       "      <th>3</th>\n",
       "      <td>300000.0</td>\n",
       "      <td>5.0</td>\n",
       "      <td>5.0</td>\n",
       "      <td>213.0</td>\n",
       "      <td>21</td>\n",
       "      <td>8.0</td>\n",
       "    </tr>\n",
       "    <tr>\n",
       "      <th>4</th>\n",
       "      <td>900000.0</td>\n",
       "      <td>5.0</td>\n",
       "      <td>5.0</td>\n",
       "      <td>375.0</td>\n",
       "      <td>10</td>\n",
       "      <td>5.0</td>\n",
       "    </tr>\n",
       "  </tbody>\n",
       "</table>\n",
       "</div>"
      ],
      "text/plain": [
       "       Price  #Bedrooms  #Bathrooms  Size(m²)  District  StreetWidth\n",
       "0   580000.0        5.0         5.0     250.0        27         15.0\n",
       "1   400000.0        5.0         5.0     600.0        45         20.0\n",
       "2  1450000.0        5.0         4.0     480.0        72         15.0\n",
       "3   300000.0        5.0         5.0     213.0        21          8.0\n",
       "4   900000.0        5.0         5.0     375.0        10          5.0"
      ]
     },
     "execution_count": 230,
     "metadata": {},
     "output_type": "execute_result"
    }
   ],
   "source": [
    "DF.head()"
   ]
  },
  {
   "cell_type": "code",
   "execution_count": 231,
   "metadata": {
    "scrolled": true
   },
   "outputs": [
    {
     "data": {
      "image/png": "[encoded data removed]",
      "text/plain": [
       "<Figure size 720x432 with 2 Axes>"
      ]
     },
     "metadata": {},
     "output_type": "display_data"
    }
   ],
   "source": [
    "plt.figure(figsize=(10, 6))\n",
    "heatmap = sns.heatmap(DF.corr(), vmin=-1, vmax=1, annot=True,cmap=\"YlGnBu\")\n",
    "heatmap.set_title('Correlation Heatmap', fontdict={'fontsize':12}, pad=12);\n",
    "plt.show()"
   ]
  },
  {
   "cell_type": "markdown",
   "metadata": {},
   "source": [
    "**Trying to add log function to enhance the correlations between Price and other features: Street width, bedrooms, bathrooms**"
   ]
  },
  {
   "cell_type": "code",
   "execution_count": 259,
   "metadata": {},
   "outputs": [
    {
     "name": "stderr",
     "output_type": "stream",
     "text": [
      "C:\\Users\\hp\\anaconda3\\lib\\site-packages\\seaborn\\distributions.py:2619: FutureWarning: `distplot` is a deprecated function and will be removed in a future version. Please adapt your code to use either `displot` (a figure-level function with similar flexibility) or `histplot` (an axes-level function for histograms).\n",
      "  warnings.warn(msg, FutureWarning)\n"
     ]
    },
    {
     "data": {
      "image/png": "[encoded data removed]",
      "text/plain": [
       "<Figure size 432x288 with 1 Axes>"
      ]
     },
     "metadata": {},
     "output_type": "display_data"
    }
   ],
   "source": [
    "DF['#Bedrooms_log'] = np.log(DF['#Bedrooms'])\n",
    "sns.distplot(DF['#Bedrooms_log']);"
   ]
  },
  {
   "cell_type": "code",
   "execution_count": 238,
   "metadata": {},
   "outputs": [
    {
     "name": "stderr",
     "output_type": "stream",
     "text": [
      "*c* argument looks like a single numeric RGB or RGBA sequence, which should be avoided as value-mapping will have precedence in case its length matches with *x* & *y*.  Please use the *color* keyword-argument or provide a 2-D array with a single row if you intend to specify the same RGB or RGBA value for all points.\n"
     ]
    },
    {
     "data": {
      "image/png": "[encoded data removed]",
      "text/plain": [
       "<Figure size 720x360 with 1 Axes>"
      ]
     },
     "metadata": {},
     "output_type": "display_data"
    }
   ],
   "source": [
    "corr = DF['Price'].corr(DF['#Bedrooms_log']) \n",
    "DF.plot(kind=\"scatter\",y=\"#Bedrooms_log\" , x=\"Price\",figsize=(10,5) , label = corr)\n",
    "plt.title(\"Correlation between Price & Number of bedrooms\" , fontsize=15)\n",
    "plt.xlabel(\"Price\" , fontsize=14)\n",
    "plt.ylabel(\"# of bathrooms\" , fontsize=14)\n",
    "plt.legend();"
   ]
  },
  {
   "cell_type": "code",
   "execution_count": 234,
   "metadata": {},
   "outputs": [
    {
     "name": "stderr",
     "output_type": "stream",
     "text": [
      "C:\\Users\\hp\\anaconda3\\lib\\site-packages\\seaborn\\distributions.py:2619: FutureWarning: `distplot` is a deprecated function and will be removed in a future version. Please adapt your code to use either `displot` (a figure-level function with similar flexibility) or `histplot` (an axes-level function for histograms).\n",
      "  warnings.warn(msg, FutureWarning)\n"
     ]
    },
    {
     "data": {
      "image/png": "[encoded data removed]",
      "text/plain": [
       "<Figure size 432x288 with 1 Axes>"
      ]
     },
     "metadata": {},
     "output_type": "display_data"
    }
   ],
   "source": [
    "DF['#Bathrooms_log'] = np.log(DF['#Bathrooms'])\n",
    "sns.distplot(DF['#Bathrooms_log']);"
   ]
  },
  {
   "cell_type": "code",
   "execution_count": 235,
   "metadata": {},
   "outputs": [
    {
     "name": "stderr",
     "output_type": "stream",
     "text": [
      "*c* argument looks like a single numeric RGB or RGBA sequence, which should be avoided as value-mapping will have precedence in case its length matches with *x* & *y*.  Please use the *color* keyword-argument or provide a 2-D array with a single row if you intend to specify the same RGB or RGBA value for all points.\n"
     ]
    },
    {
     "data": {
      "image/png": "[encoded data removed]",
      "text/plain": [
       "<Figure size 720x360 with 1 Axes>"
      ]
     },
     "metadata": {},
     "output_type": "display_data"
    }
   ],
   "source": [
    "corr = DF['Price'].corr(DF['#Bathrooms_log']) \n",
    "DF.plot(kind=\"scatter\",y=\"#Bathrooms_log\" , x=\"Price\",figsize=(10,5) , label = corr)\n",
    "plt.title(\"Correlation between Price & Number of bathrooms\" , fontsize=15)\n",
    "plt.xlabel(\"Price\" , fontsize=14)\n",
    "plt.ylabel(\"# of bathrooms\" , fontsize=14)\n",
    "plt.legend();"
   ]
  },
  {
   "cell_type": "code",
   "execution_count": 236,
   "metadata": {},
   "outputs": [
    {
     "name": "stderr",
     "output_type": "stream",
     "text": [
      "C:\\Users\\hp\\anaconda3\\lib\\site-packages\\seaborn\\distributions.py:2619: FutureWarning: `distplot` is a deprecated function and will be removed in a future version. Please adapt your code to use either `displot` (a figure-level function with similar flexibility) or `histplot` (an axes-level function for histograms).\n",
      "  warnings.warn(msg, FutureWarning)\n"
     ]
    },
    {
     "data": {
      "image/png": "[encoded data removed]",
      "text/plain": [
       "<Figure size 432x288 with 1 Axes>"
      ]
     },
     "metadata": {},
     "output_type": "display_data"
    }
   ],
   "source": [
    "DF['StreetWidth_log'] = np.log(DF['StreetWidth'])\n",
    "sns.distplot(DF['StreetWidth_log']);"
   ]
  },
  {
   "cell_type": "code",
   "execution_count": 237,
   "metadata": {
    "scrolled": true
   },
   "outputs": [
    {
     "name": "stderr",
     "output_type": "stream",
     "text": [
      "*c* argument looks like a single numeric RGB or RGBA sequence, which should be avoided as value-mapping will have precedence in case its length matches with *x* & *y*.  Please use the *color* keyword-argument or provide a 2-D array with a single row if you intend to specify the same RGB or RGBA value for all points.\n"
     ]
    },
    {
     "data": {
      "image/png": "[encoded data removed]",
      "text/plain": [
       "<Figure size 720x360 with 1 Axes>"
      ]
     },
     "metadata": {},
     "output_type": "display_data"
    }
   ],
   "source": [
    "corr = DF['Price'].corr(DF['StreetWidth_log']) \n",
    "DF.plot(kind=\"scatter\",y=\"StreetWidth_log\" , x=\"Price\",figsize=(10,5) , label = corr)\n",
    "plt.title(\"Correlation between Price & Street width\" , fontsize=15)\n",
    "plt.xlabel(\"Price\" , fontsize=14)\n",
    "plt.ylabel(\"St. width\" , fontsize=14)\n",
    "plt.legend();"
   ]
  },
  {
   "cell_type": "markdown",
   "metadata": {},
   "source": [
    "**Result:**\n",
    "- There is not much improvement except for the \"StreetWidth\"; the correlation was 0.023 and turn to 0.077, the rest of features had better correlation with Price before performing log()"
   ]
  },
  {
   "cell_type": "markdown",
   "metadata": {},
   "source": [
    "### Modeling"
   ]
  },
  {
   "cell_type": "code",
   "execution_count": 239,
   "metadata": {},
   "outputs": [],
   "source": [
    "# split into train and target\n",
    "X,y = DF.iloc[:,1:],DF['Price']"
   ]
  },
  {
   "cell_type": "code",
   "execution_count": 240,
   "metadata": {},
   "outputs": [
    {
     "name": "stdout",
     "output_type": "stream",
     "text": [
      "<class 'pandas.core.frame.DataFrame'>\n",
      "Int64Index: 1172 entries, 0 to 1361\n",
      "Data columns (total 8 columns):\n",
      " #   Column           Non-Null Count  Dtype  \n",
      "---  ------           --------------  -----  \n",
      " 0   #Bedrooms        1172 non-null   float64\n",
      " 1   #Bathrooms       1172 non-null   float64\n",
      " 2   Size(m²)         1172 non-null   float64\n",
      " 3   District         1172 non-null   int32  \n",
      " 4   StreetWidth      1172 non-null   float64\n",
      " 5   #Bedrooms_log    1172 non-null   float64\n",
      " 6   #Bathrooms_log   1172 non-null   float64\n",
      " 7   StreetWidth_log  1172 non-null   float64\n",
      "dtypes: float64(7), int32(1)\n",
      "memory usage: 77.8 KB\n"
     ]
    }
   ],
   "source": [
    "X.info()"
   ]
  },
  {
   "cell_type": "code",
   "execution_count": 241,
   "metadata": {},
   "outputs": [],
   "source": [
    "model = LinearRegression()"
   ]
  },
  {
   "cell_type": "code",
   "execution_count": 252,
   "metadata": {},
   "outputs": [],
   "source": [
    "def split_and_validate(X, y):\n",
    "    '''\n",
    "    For a set of features and target X, y, perform a 80/20 train/val split, \n",
    "    fit and validate a linear regression model, and report results\n",
    "    '''\n",
    "\n",
    "     # perform train/val split\n",
    "    X_train, X_test, y_train, y_test = \\\n",
    "    train_test_split(X, y, test_size=0.20, random_state=24) # \"= \\ to coinsder this line with the above one\"\n",
    "    \n",
    "    # fit linear regression to training data\n",
    "    lr_model = LinearRegression() \n",
    "    lr_model.fit(X_train, y_train)\n",
    "    model=lr_model\n",
    "    \n",
    "    # fit Ridge regression \n",
    "    scaler = StandardScaler()\n",
    "    X_scaled = scaler.fit_transform(X)\n",
    "    X_test_scaled = scaler.transform(X_test)\n",
    "\n",
    "    lm_reg = Ridge(alpha=2)\n",
    "    lm_reg.fit(X_scaled,y)\n",
    "\n",
    "\n",
    "    \n",
    "    # score fit model on validation data\n",
    "    val_score_linear = cross_val_score(lr_model, X, y, cv = 5).mean()\n",
    "    val_score_rid = cross_val_score(lm_reg, X, y, cv = 5).mean()\n",
    "    \n",
    "    # report results\n",
    "\n",
    "    print(f'Linear Regression test R²: {lr_model.score(X_test, y_test):.3f}')\n",
    "    print('\\nCross Validation for Linear model score:', val_score_linear)\n",
    "    print(f'\\nRidge Regression test R²: {lm_reg.score(X_test_scaled, y_test):.3f}')\n",
    "    print('\\nCross Validation for Ridge model score:', val_score_rid)"
   ]
  },
  {
   "cell_type": "code",
   "execution_count": 253,
   "metadata": {},
   "outputs": [
    {
     "name": "stdout",
     "output_type": "stream",
     "text": [
      "Linear Regression test R²: 0.389\n",
      "\n",
      "Cross Validation for Linear model score: 0.11337469462991892\n",
      "\n",
      "Ridge Regression test R²: 0.410\n",
      "\n",
      "Cross Validation for Ridge model score: 0.13191434278182118\n"
     ]
    }
   ],
   "source": [
    "split_and_validate(X,y)"
   ]
  },
  {
   "cell_type": "code",
   "execution_count": 254,
   "metadata": {},
   "outputs": [],
   "source": [
    "X2 = X.copy()\n",
    "\n",
    "X2['Bedrooms'] = X2['#Bedrooms_log']\n",
    "X2['Bathrooms'] = X2['#Bathrooms_log'] "
   ]
  },
  {
   "cell_type": "code",
   "execution_count": 255,
   "metadata": {},
   "outputs": [
    {
     "name": "stdout",
     "output_type": "stream",
     "text": [
      "Linear Regression test R²: 0.389\n",
      "\n",
      "Cross Validation for Linear model score: 0.113374694629895\n",
      "\n",
      "Ridge Regression test R²: 0.409\n",
      "\n",
      "Cross Validation for Ridge model score: 0.13092700661998177\n"
     ]
    }
   ],
   "source": [
    "split_and_validate(X2,y)"
   ]
  },
  {
   "cell_type": "code",
   "execution_count": 256,
   "metadata": {},
   "outputs": [],
   "source": [
    "X5 = X2.copy()\n",
    "\n",
    "X5['Size'] = X2['Size(m²)']**2 #adding quadretic terms"
   ]
  },
  {
   "cell_type": "code",
   "execution_count": 257,
   "metadata": {},
   "outputs": [
    {
     "name": "stdout",
     "output_type": "stream",
     "text": [
      "Linear Regression test R²: 0.539\n",
      "\n",
      "Cross Validation for Linear model score: 0.19877976323233668\n",
      "\n",
      "Ridge Regression test R²: 0.560\n",
      "\n",
      "Cross Validation for Ridge model score: 0.21477907901123924\n"
     ]
    }
   ],
   "source": [
    "split_and_validate(X5,y)"
   ]
  },
  {
   "cell_type": "code",
   "execution_count": null,
   "metadata": {},
   "outputs": [],
   "source": []
  }
 ],
 "metadata": {
  "kernelspec": {
   "display_name": "Python 3",
   "language": "python",
   "name": "python3"
  },
  "language_info": {
   "codemirror_mode": {
    "name": "ipython",
    "version": 3
   },
   "file_extension": ".py",
   "mimetype": "text/x-python",
   "name": "python",
   "nbconvert_exporter": "python",
   "pygments_lexer": "ipython3",
   "version": "3.8.3"
  }
 },
 "nbformat": 4,
 "nbformat_minor": 5
}
