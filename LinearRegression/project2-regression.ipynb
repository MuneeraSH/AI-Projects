{
 "cells": [
  {
   "cell_type": "code",
   "execution_count": 36,
   "metadata": {
    "executionInfo": {
     "elapsed": 3,
     "status": "ok",
     "timestamp": 1634110152634,
     "user": {
      "displayName": "Danish Aman",
      "photoUrl": "https://lh3.googleusercontent.com/a-/AOh14GjgeEx3kSRsc-UhqpdwaLkyNksGf18dp9q_EMjz=s64",
      "userId": "14946007763565780732"
     },
     "user_tz": -300
    },
    "id": "qW1cTSfYvP_R"
   },
   "outputs": [],
   "source": [
    "import pandas as pd\n",
    "import numpy as np"
   ]
  },
  {
   "cell_type": "code",
   "execution_count": 37,
   "metadata": {
    "colab": {
     "base_uri": "https://localhost:8080/",
     "height": 204
    },
    "executionInfo": {
     "elapsed": 1137,
     "status": "ok",
     "timestamp": 1634110155407,
     "user": {
      "displayName": "Danish Aman",
      "photoUrl": "https://lh3.googleusercontent.com/a-/AOh14GjgeEx3kSRsc-UhqpdwaLkyNksGf18dp9q_EMjz=s64",
      "userId": "14946007763565780732"
     },
     "user_tz": -300
    },
    "id": "ijqbt28Av6Fs",
    "outputId": "2833fffb-e6e1-4f91-cf0b-a313dcb8e5c5"
   },
   "outputs": [
    {
     "data": {
      "text/html": [
       "<div>\n",
       "<style scoped>\n",
       "    .dataframe tbody tr th:only-of-type {\n",
       "        vertical-align: middle;\n",
       "    }\n",
       "\n",
       "    .dataframe tbody tr th {\n",
       "        vertical-align: top;\n",
       "    }\n",
       "\n",
       "    .dataframe thead th {\n",
       "        text-align: right;\n",
       "    }\n",
       "</style>\n",
       "<table border=\"1\" class=\"dataframe\">\n",
       "  <thead>\n",
       "    <tr style=\"text-align: right;\">\n",
       "      <th></th>\n",
       "      <th>Unnamed: 0</th>\n",
       "      <th>Price</th>\n",
       "      <th>#Bedrooms</th>\n",
       "      <th>#Bathrooms</th>\n",
       "      <th>Size(m²)</th>\n",
       "      <th>District</th>\n",
       "      <th>StreetWidth</th>\n",
       "    </tr>\n",
       "  </thead>\n",
       "  <tbody>\n",
       "    <tr>\n",
       "      <th>0</th>\n",
       "      <td>0</td>\n",
       "      <td>120000</td>\n",
       "      <td>3</td>\n",
       "      <td>1</td>\n",
       "      <td>66</td>\n",
       "      <td>الشميسي</td>\n",
       "      <td>5</td>\n",
       "    </tr>\n",
       "    <tr>\n",
       "      <th>1</th>\n",
       "      <td>1</td>\n",
       "      <td>800000</td>\n",
       "      <td>5</td>\n",
       "      <td>3</td>\n",
       "      <td>240</td>\n",
       "      <td>طويق</td>\n",
       "      <td>20</td>\n",
       "    </tr>\n",
       "    <tr>\n",
       "      <th>2</th>\n",
       "      <td>2</td>\n",
       "      <td>1100000</td>\n",
       "      <td>5</td>\n",
       "      <td>5</td>\n",
       "      <td>375</td>\n",
       "      <td>طويق</td>\n",
       "      <td>15</td>\n",
       "    </tr>\n",
       "    <tr>\n",
       "      <th>3</th>\n",
       "      <td>3</td>\n",
       "      <td>5000000</td>\n",
       "      <td>5</td>\n",
       "      <td>5</td>\n",
       "      <td>2200</td>\n",
       "      <td>الناصرية</td>\n",
       "      <td>5</td>\n",
       "    </tr>\n",
       "    <tr>\n",
       "      <th>4</th>\n",
       "      <td>4</td>\n",
       "      <td>150000</td>\n",
       "      <td>1</td>\n",
       "      <td>2</td>\n",
       "      <td>125</td>\n",
       "      <td>الصالحية</td>\n",
       "      <td>13</td>\n",
       "    </tr>\n",
       "  </tbody>\n",
       "</table>\n",
       "</div>"
      ],
      "text/plain": [
       "   Unnamed: 0    Price  #Bedrooms  #Bathrooms  Size(m²)  District  StreetWidth\n",
       "0           0   120000          3           1        66   الشميسي            5\n",
       "1           1   800000          5           3       240      طويق           20\n",
       "2           2  1100000          5           5       375      طويق           15\n",
       "3           3  5000000          5           5      2200  الناصرية            5\n",
       "4           4   150000          1           2       125  الصالحية           13"
      ]
     },
     "execution_count": 37,
     "metadata": {},
     "output_type": "execute_result"
    }
   ],
   "source": [
    "data = pd.read_excel('aqar.xlsx')\n",
    "data.head()"
   ]
  },
  {
   "cell_type": "code",
   "execution_count": 38,
   "metadata": {
    "colab": {
     "base_uri": "https://localhost:8080/",
     "height": 297
    },
    "executionInfo": {
     "elapsed": 560,
     "status": "ok",
     "timestamp": 1634110157161,
     "user": {
      "displayName": "Danish Aman",
      "photoUrl": "https://lh3.googleusercontent.com/a-/AOh14GjgeEx3kSRsc-UhqpdwaLkyNksGf18dp9q_EMjz=s64",
      "userId": "14946007763565780732"
     },
     "user_tz": -300
    },
    "id": "kH5z16sbwGuj",
    "outputId": "13c1d714-c8c2-4bc1-e3dd-35e790ab478e"
   },
   "outputs": [
    {
     "data": {
      "text/html": [
       "<div>\n",
       "<style scoped>\n",
       "    .dataframe tbody tr th:only-of-type {\n",
       "        vertical-align: middle;\n",
       "    }\n",
       "\n",
       "    .dataframe tbody tr th {\n",
       "        vertical-align: top;\n",
       "    }\n",
       "\n",
       "    .dataframe thead th {\n",
       "        text-align: right;\n",
       "    }\n",
       "</style>\n",
       "<table border=\"1\" class=\"dataframe\">\n",
       "  <thead>\n",
       "    <tr style=\"text-align: right;\">\n",
       "      <th></th>\n",
       "      <th>Unnamed: 0</th>\n",
       "      <th>Price</th>\n",
       "      <th>#Bedrooms</th>\n",
       "      <th>#Bathrooms</th>\n",
       "      <th>Size(m²)</th>\n",
       "      <th>StreetWidth</th>\n",
       "    </tr>\n",
       "  </thead>\n",
       "  <tbody>\n",
       "    <tr>\n",
       "      <th>count</th>\n",
       "      <td>5504.000000</td>\n",
       "      <td>5.504000e+03</td>\n",
       "      <td>5504.000000</td>\n",
       "      <td>5504.000000</td>\n",
       "      <td>5504.000000</td>\n",
       "      <td>5504.000000</td>\n",
       "    </tr>\n",
       "    <tr>\n",
       "      <th>mean</th>\n",
       "      <td>1712.874273</td>\n",
       "      <td>1.193790e+06</td>\n",
       "      <td>4.414608</td>\n",
       "      <td>3.863009</td>\n",
       "      <td>363.307776</td>\n",
       "      <td>15.480923</td>\n",
       "    </tr>\n",
       "    <tr>\n",
       "      <th>std</th>\n",
       "      <td>1115.242166</td>\n",
       "      <td>1.276224e+06</td>\n",
       "      <td>1.108494</td>\n",
       "      <td>1.251908</td>\n",
       "      <td>318.800361</td>\n",
       "      <td>9.261991</td>\n",
       "    </tr>\n",
       "    <tr>\n",
       "      <th>min</th>\n",
       "      <td>0.000000</td>\n",
       "      <td>9.000000e+02</td>\n",
       "      <td>1.000000</td>\n",
       "      <td>1.000000</td>\n",
       "      <td>50.000000</td>\n",
       "      <td>1.000000</td>\n",
       "    </tr>\n",
       "    <tr>\n",
       "      <th>25%</th>\n",
       "      <td>779.750000</td>\n",
       "      <td>3.000000e+05</td>\n",
       "      <td>4.000000</td>\n",
       "      <td>3.000000</td>\n",
       "      <td>183.000000</td>\n",
       "      <td>10.000000</td>\n",
       "    </tr>\n",
       "    <tr>\n",
       "      <th>50%</th>\n",
       "      <td>1554.000000</td>\n",
       "      <td>1.050000e+06</td>\n",
       "      <td>5.000000</td>\n",
       "      <td>4.000000</td>\n",
       "      <td>307.000000</td>\n",
       "      <td>15.000000</td>\n",
       "    </tr>\n",
       "    <tr>\n",
       "      <th>75%</th>\n",
       "      <td>2603.250000</td>\n",
       "      <td>1.400000e+06</td>\n",
       "      <td>5.000000</td>\n",
       "      <td>5.000000</td>\n",
       "      <td>400.000000</td>\n",
       "      <td>20.000000</td>\n",
       "    </tr>\n",
       "    <tr>\n",
       "      <th>max</th>\n",
       "      <td>3979.000000</td>\n",
       "      <td>3.000000e+07</td>\n",
       "      <td>7.000000</td>\n",
       "      <td>5.000000</td>\n",
       "      <td>3000.000000</td>\n",
       "      <td>100.000000</td>\n",
       "    </tr>\n",
       "  </tbody>\n",
       "</table>\n",
       "</div>"
      ],
      "text/plain": [
       "        Unnamed: 0         Price    #Bedrooms   #Bathrooms     Size(m²)  \\\n",
       "count  5504.000000  5.504000e+03  5504.000000  5504.000000  5504.000000   \n",
       "mean   1712.874273  1.193790e+06     4.414608     3.863009   363.307776   \n",
       "std    1115.242166  1.276224e+06     1.108494     1.251908   318.800361   \n",
       "min       0.000000  9.000000e+02     1.000000     1.000000    50.000000   \n",
       "25%     779.750000  3.000000e+05     4.000000     3.000000   183.000000   \n",
       "50%    1554.000000  1.050000e+06     5.000000     4.000000   307.000000   \n",
       "75%    2603.250000  1.400000e+06     5.000000     5.000000   400.000000   \n",
       "max    3979.000000  3.000000e+07     7.000000     5.000000  3000.000000   \n",
       "\n",
       "       StreetWidth  \n",
       "count  5504.000000  \n",
       "mean     15.480923  \n",
       "std       9.261991  \n",
       "min       1.000000  \n",
       "25%      10.000000  \n",
       "50%      15.000000  \n",
       "75%      20.000000  \n",
       "max     100.000000  "
      ]
     },
     "execution_count": 38,
     "metadata": {},
     "output_type": "execute_result"
    }
   ],
   "source": [
    "data.describe()"
   ]
  },
  {
   "cell_type": "code",
   "execution_count": 41,
   "metadata": {},
   "outputs": [
    {
     "data": {
      "text/html": [
       "<div>\n",
       "<style scoped>\n",
       "    .dataframe tbody tr th:only-of-type {\n",
       "        vertical-align: middle;\n",
       "    }\n",
       "\n",
       "    .dataframe tbody tr th {\n",
       "        vertical-align: top;\n",
       "    }\n",
       "\n",
       "    .dataframe thead th {\n",
       "        text-align: right;\n",
       "    }\n",
       "</style>\n",
       "<table border=\"1\" class=\"dataframe\">\n",
       "  <thead>\n",
       "    <tr style=\"text-align: right;\">\n",
       "      <th></th>\n",
       "      <th>Price</th>\n",
       "      <th>#Bedrooms</th>\n",
       "      <th>#Bathrooms</th>\n",
       "      <th>Size(m²)</th>\n",
       "      <th>District</th>\n",
       "      <th>StreetWidth</th>\n",
       "    </tr>\n",
       "  </thead>\n",
       "  <tbody>\n",
       "    <tr>\n",
       "      <th>0</th>\n",
       "      <td>120000</td>\n",
       "      <td>3</td>\n",
       "      <td>1</td>\n",
       "      <td>66</td>\n",
       "      <td>الشميسي</td>\n",
       "      <td>5</td>\n",
       "    </tr>\n",
       "    <tr>\n",
       "      <th>1</th>\n",
       "      <td>800000</td>\n",
       "      <td>5</td>\n",
       "      <td>3</td>\n",
       "      <td>240</td>\n",
       "      <td>طويق</td>\n",
       "      <td>20</td>\n",
       "    </tr>\n",
       "    <tr>\n",
       "      <th>2</th>\n",
       "      <td>1100000</td>\n",
       "      <td>5</td>\n",
       "      <td>5</td>\n",
       "      <td>375</td>\n",
       "      <td>طويق</td>\n",
       "      <td>15</td>\n",
       "    </tr>\n",
       "    <tr>\n",
       "      <th>3</th>\n",
       "      <td>5000000</td>\n",
       "      <td>5</td>\n",
       "      <td>5</td>\n",
       "      <td>2200</td>\n",
       "      <td>الناصرية</td>\n",
       "      <td>5</td>\n",
       "    </tr>\n",
       "    <tr>\n",
       "      <th>4</th>\n",
       "      <td>150000</td>\n",
       "      <td>1</td>\n",
       "      <td>2</td>\n",
       "      <td>125</td>\n",
       "      <td>الصالحية</td>\n",
       "      <td>13</td>\n",
       "    </tr>\n",
       "  </tbody>\n",
       "</table>\n",
       "</div>"
      ],
      "text/plain": [
       "     Price  #Bedrooms  #Bathrooms  Size(m²)  District  StreetWidth\n",
       "0   120000          3           1        66   الشميسي            5\n",
       "1   800000          5           3       240      طويق           20\n",
       "2  1100000          5           5       375      طويق           15\n",
       "3  5000000          5           5      2200  الناصرية            5\n",
       "4   150000          1           2       125  الصالحية           13"
      ]
     },
     "execution_count": 41,
     "metadata": {},
     "output_type": "execute_result"
    }
   ],
   "source": [
    "data = data.iloc[:,1:]\n",
    "data.head()"
   ]
  },
  {
   "cell_type": "code",
   "execution_count": 44,
   "metadata": {},
   "outputs": [
    {
     "data": {
      "text/html": [
       "<div>\n",
       "<style scoped>\n",
       "    .dataframe tbody tr th:only-of-type {\n",
       "        vertical-align: middle;\n",
       "    }\n",
       "\n",
       "    .dataframe tbody tr th {\n",
       "        vertical-align: top;\n",
       "    }\n",
       "\n",
       "    .dataframe thead th {\n",
       "        text-align: right;\n",
       "    }\n",
       "</style>\n",
       "<table border=\"1\" class=\"dataframe\">\n",
       "  <thead>\n",
       "    <tr style=\"text-align: right;\">\n",
       "      <th></th>\n",
       "      <th>Price</th>\n",
       "      <th>#Bedrooms</th>\n",
       "      <th>#Bathrooms</th>\n",
       "      <th>Size(m²)</th>\n",
       "      <th>StreetWidth</th>\n",
       "    </tr>\n",
       "  </thead>\n",
       "  <tbody>\n",
       "    <tr>\n",
       "      <th>count</th>\n",
       "      <td>5.504000e+03</td>\n",
       "      <td>5504.000000</td>\n",
       "      <td>5504.000000</td>\n",
       "      <td>5504.000000</td>\n",
       "      <td>5504.000000</td>\n",
       "    </tr>\n",
       "    <tr>\n",
       "      <th>mean</th>\n",
       "      <td>1.193790e+06</td>\n",
       "      <td>4.414608</td>\n",
       "      <td>3.863009</td>\n",
       "      <td>363.307776</td>\n",
       "      <td>15.480923</td>\n",
       "    </tr>\n",
       "    <tr>\n",
       "      <th>std</th>\n",
       "      <td>1.276224e+06</td>\n",
       "      <td>1.108494</td>\n",
       "      <td>1.251908</td>\n",
       "      <td>318.800361</td>\n",
       "      <td>9.261991</td>\n",
       "    </tr>\n",
       "    <tr>\n",
       "      <th>min</th>\n",
       "      <td>9.000000e+02</td>\n",
       "      <td>1.000000</td>\n",
       "      <td>1.000000</td>\n",
       "      <td>50.000000</td>\n",
       "      <td>1.000000</td>\n",
       "    </tr>\n",
       "    <tr>\n",
       "      <th>25%</th>\n",
       "      <td>3.000000e+05</td>\n",
       "      <td>4.000000</td>\n",
       "      <td>3.000000</td>\n",
       "      <td>183.000000</td>\n",
       "      <td>10.000000</td>\n",
       "    </tr>\n",
       "    <tr>\n",
       "      <th>50%</th>\n",
       "      <td>1.050000e+06</td>\n",
       "      <td>5.000000</td>\n",
       "      <td>4.000000</td>\n",
       "      <td>307.000000</td>\n",
       "      <td>15.000000</td>\n",
       "    </tr>\n",
       "    <tr>\n",
       "      <th>75%</th>\n",
       "      <td>1.400000e+06</td>\n",
       "      <td>5.000000</td>\n",
       "      <td>5.000000</td>\n",
       "      <td>400.000000</td>\n",
       "      <td>20.000000</td>\n",
       "    </tr>\n",
       "    <tr>\n",
       "      <th>max</th>\n",
       "      <td>3.000000e+07</td>\n",
       "      <td>7.000000</td>\n",
       "      <td>5.000000</td>\n",
       "      <td>3000.000000</td>\n",
       "      <td>100.000000</td>\n",
       "    </tr>\n",
       "  </tbody>\n",
       "</table>\n",
       "</div>"
      ],
      "text/plain": [
       "              Price    #Bedrooms   #Bathrooms     Size(m²)  StreetWidth\n",
       "count  5.504000e+03  5504.000000  5504.000000  5504.000000  5504.000000\n",
       "mean   1.193790e+06     4.414608     3.863009   363.307776    15.480923\n",
       "std    1.276224e+06     1.108494     1.251908   318.800361     9.261991\n",
       "min    9.000000e+02     1.000000     1.000000    50.000000     1.000000\n",
       "25%    3.000000e+05     4.000000     3.000000   183.000000    10.000000\n",
       "50%    1.050000e+06     5.000000     4.000000   307.000000    15.000000\n",
       "75%    1.400000e+06     5.000000     5.000000   400.000000    20.000000\n",
       "max    3.000000e+07     7.000000     5.000000  3000.000000   100.000000"
      ]
     },
     "execution_count": 44,
     "metadata": {},
     "output_type": "execute_result"
    }
   ],
   "source": [
    "data.describe()"
   ]
  },
  {
   "cell_type": "code",
   "execution_count": 7,
   "metadata": {
    "colab": {
     "base_uri": "https://localhost:8080/"
    },
    "executionInfo": {
     "elapsed": 6,
     "status": "ok",
     "timestamp": 1634110161848,
     "user": {
      "displayName": "Danish Aman",
      "photoUrl": "https://lh3.googleusercontent.com/a-/AOh14GjgeEx3kSRsc-UhqpdwaLkyNksGf18dp9q_EMjz=s64",
      "userId": "14946007763565780732"
     },
     "user_tz": -300
    },
    "id": "UTt-iHMKwWv5",
    "outputId": "fa2fd3c6-3772-47b1-e90a-34f90d43981c"
   },
   "outputs": [
    {
     "data": {
      "text/plain": [
       "4543      900\n",
       "20      10000\n",
       "216     55000\n",
       "193     60000\n",
       "161     66000\n",
       "239     70000\n",
       "240     70000\n",
       "263     80000\n",
       "270     80000\n",
       "1515    80000\n",
       "Name: Price, dtype: int64"
      ]
     },
     "execution_count": 7,
     "metadata": {},
     "output_type": "execute_result"
    }
   ],
   "source": [
    "data['Price'].nsmallest(10)"
   ]
  },
  {
   "cell_type": "code",
   "execution_count": 8,
   "metadata": {
    "colab": {
     "base_uri": "https://localhost:8080/"
    },
    "executionInfo": {
     "elapsed": 489,
     "status": "ok",
     "timestamp": 1634046536892,
     "user": {
      "displayName": "Danish Aman",
      "photoUrl": "https://lh3.googleusercontent.com/a-/AOh14GjgeEx3kSRsc-UhqpdwaLkyNksGf18dp9q_EMjz=s64",
      "userId": "14946007763565780732"
     },
     "user_tz": -300
    },
    "id": "UD9eMu_OwyQb",
    "outputId": "c9234377-dc03-4f47-9c00-d19c32fda321"
   },
   "outputs": [
    {
     "data": {
      "text/plain": [
       "Price               900\n",
       "#Bedrooms             6\n",
       "#Bathrooms            4\n",
       "Size(m²)            310\n",
       "District       المنصورة\n",
       "StreetWidth          15\n",
       "Name: 4543, dtype: object"
      ]
     },
     "execution_count": 8,
     "metadata": {},
     "output_type": "execute_result"
    }
   ],
   "source": [
    "data.iloc[4543,:]"
   ]
  },
  {
   "cell_type": "code",
   "execution_count": 9,
   "metadata": {
    "executionInfo": {
     "elapsed": 346,
     "status": "ok",
     "timestamp": 1634110165736,
     "user": {
      "displayName": "Danish Aman",
      "photoUrl": "https://lh3.googleusercontent.com/a-/AOh14GjgeEx3kSRsc-UhqpdwaLkyNksGf18dp9q_EMjz=s64",
      "userId": "14946007763565780732"
     },
     "user_tz": -300
    },
    "id": "92QCx8_e0KYS"
   },
   "outputs": [],
   "source": [
    "data = data.drop(index = 4543)"
   ]
  },
  {
   "cell_type": "code",
   "execution_count": 10,
   "metadata": {
    "executionInfo": {
     "elapsed": 623,
     "status": "ok",
     "timestamp": 1634110171405,
     "user": {
      "displayName": "Danish Aman",
      "photoUrl": "https://lh3.googleusercontent.com/a-/AOh14GjgeEx3kSRsc-UhqpdwaLkyNksGf18dp9q_EMjz=s64",
      "userId": "14946007763565780732"
     },
     "user_tz": -300
    },
    "id": "iKg_THu9w95J"
   },
   "outputs": [],
   "source": [
    "quantiles_25 = data.quantile(0.25)\n",
    "quantiles_75 = data.quantile(0.75)"
   ]
  },
  {
   "cell_type": "code",
   "execution_count": 11,
   "metadata": {
    "executionInfo": {
     "elapsed": 3,
     "status": "ok",
     "timestamp": 1634110172567,
     "user": {
      "displayName": "Danish Aman",
      "photoUrl": "https://lh3.googleusercontent.com/a-/AOh14GjgeEx3kSRsc-UhqpdwaLkyNksGf18dp9q_EMjz=s64",
      "userId": "14946007763565780732"
     },
     "user_tz": -300
    },
    "id": "bSjJHJMqzEfl"
   },
   "outputs": [],
   "source": [
    "IQR = quantiles_75 - quantiles_25\n",
    "lower_range = quantiles_25 - (1.5 * IQR)\n",
    "upper_range = quantiles_75 + (1.5 * IQR)"
   ]
  },
  {
   "cell_type": "code",
   "execution_count": 12,
   "metadata": {
    "executionInfo": {
     "elapsed": 316,
     "status": "ok",
     "timestamp": 1634110604988,
     "user": {
      "displayName": "Danish Aman",
      "photoUrl": "https://lh3.googleusercontent.com/a-/AOh14GjgeEx3kSRsc-UhqpdwaLkyNksGf18dp9q_EMjz=s64",
      "userId": "14946007763565780732"
     },
     "user_tz": -300
    },
    "id": "lEkJGPmU0k4a"
   },
   "outputs": [],
   "source": [
    "import seaborn as sb\n",
    "import matplotlib.pyplot as plt"
   ]
  },
  {
   "cell_type": "code",
   "execution_count": 13,
   "metadata": {
    "colab": {
     "base_uri": "https://localhost:8080/",
     "height": 947
    },
    "executionInfo": {
     "elapsed": 411,
     "status": "ok",
     "timestamp": 1634047722685,
     "user": {
      "displayName": "Danish Aman",
      "photoUrl": "https://lh3.googleusercontent.com/a-/AOh14GjgeEx3kSRsc-UhqpdwaLkyNksGf18dp9q_EMjz=s64",
      "userId": "14946007763565780732"
     },
     "user_tz": -300
    },
    "id": "y2UGswPm03Ux",
    "outputId": "42451b2c-4130-4102-cbf5-0fb681e4f304"
   },
   "outputs": [
    {
     "data": {
      "text/plain": [
       "<matplotlib.axes._subplots.AxesSubplot at 0x275c3a06550>"
      ]
     },
     "execution_count": 13,
     "metadata": {},
     "output_type": "execute_result"
    },
    {
     "data": {
      "image/png": "[encoded data removed]",
      "text/plain": [
       "<Figure size 1440x1152 with 1 Axes>"
      ]
     },
     "metadata": {
      "needs_background": "light"
     },
     "output_type": "display_data"
    }
   ],
   "source": [
    "fig, ax = plt.subplots(1,1, figsize = (20,16))\n",
    "sb.boxplot(data = data, ax = ax)\n"
   ]
  },
  {
   "cell_type": "markdown",
   "metadata": {
    "id": "pfclsG7L1ejH"
   },
   "source": [
    "Clearly shows that price has some heavy outliers"
   ]
  },
  {
   "cell_type": "code",
   "execution_count": 14,
   "metadata": {
    "colab": {
     "base_uri": "https://localhost:8080/",
     "height": 297
    },
    "executionInfo": {
     "elapsed": 357,
     "status": "ok",
     "timestamp": 1634110221750,
     "user": {
      "displayName": "Danish Aman",
      "photoUrl": "https://lh3.googleusercontent.com/a-/AOh14GjgeEx3kSRsc-UhqpdwaLkyNksGf18dp9q_EMjz=s64",
      "userId": "14946007763565780732"
     },
     "user_tz": -300
    },
    "id": "_KdGkp1O1jbm",
    "outputId": "e4aa4d00-3a79-4255-eb4b-8f16eb485c50"
   },
   "outputs": [
    {
     "data": {
      "text/html": [
       "<div>\n",
       "<style scoped>\n",
       "    .dataframe tbody tr th:only-of-type {\n",
       "        vertical-align: middle;\n",
       "    }\n",
       "\n",
       "    .dataframe tbody tr th {\n",
       "        vertical-align: top;\n",
       "    }\n",
       "\n",
       "    .dataframe thead th {\n",
       "        text-align: right;\n",
       "    }\n",
       "</style>\n",
       "<table border=\"1\" class=\"dataframe\">\n",
       "  <thead>\n",
       "    <tr style=\"text-align: right;\">\n",
       "      <th></th>\n",
       "      <th>Price</th>\n",
       "      <th>#Bedrooms</th>\n",
       "      <th>#Bathrooms</th>\n",
       "      <th>Size(m²)</th>\n",
       "      <th>StreetWidth</th>\n",
       "    </tr>\n",
       "  </thead>\n",
       "  <tbody>\n",
       "    <tr>\n",
       "      <th>count</th>\n",
       "      <td>5.503000e+03</td>\n",
       "      <td>5503.000000</td>\n",
       "      <td>5503.000000</td>\n",
       "      <td>5503.000000</td>\n",
       "      <td>5503.000000</td>\n",
       "    </tr>\n",
       "    <tr>\n",
       "      <th>mean</th>\n",
       "      <td>1.194007e+06</td>\n",
       "      <td>4.414319</td>\n",
       "      <td>3.862984</td>\n",
       "      <td>363.317463</td>\n",
       "      <td>15.481010</td>\n",
       "    </tr>\n",
       "    <tr>\n",
       "      <th>std</th>\n",
       "      <td>1.276239e+06</td>\n",
       "      <td>1.108389</td>\n",
       "      <td>1.252021</td>\n",
       "      <td>318.828521</td>\n",
       "      <td>9.262831</td>\n",
       "    </tr>\n",
       "    <tr>\n",
       "      <th>min</th>\n",
       "      <td>1.000000e+04</td>\n",
       "      <td>1.000000</td>\n",
       "      <td>1.000000</td>\n",
       "      <td>50.000000</td>\n",
       "      <td>1.000000</td>\n",
       "    </tr>\n",
       "    <tr>\n",
       "      <th>25%</th>\n",
       "      <td>3.000000e+05</td>\n",
       "      <td>4.000000</td>\n",
       "      <td>3.000000</td>\n",
       "      <td>183.000000</td>\n",
       "      <td>10.000000</td>\n",
       "    </tr>\n",
       "    <tr>\n",
       "      <th>50%</th>\n",
       "      <td>1.050000e+06</td>\n",
       "      <td>5.000000</td>\n",
       "      <td>4.000000</td>\n",
       "      <td>307.000000</td>\n",
       "      <td>15.000000</td>\n",
       "    </tr>\n",
       "    <tr>\n",
       "      <th>75%</th>\n",
       "      <td>1.400000e+06</td>\n",
       "      <td>5.000000</td>\n",
       "      <td>5.000000</td>\n",
       "      <td>400.000000</td>\n",
       "      <td>20.000000</td>\n",
       "    </tr>\n",
       "    <tr>\n",
       "      <th>max</th>\n",
       "      <td>3.000000e+07</td>\n",
       "      <td>7.000000</td>\n",
       "      <td>5.000000</td>\n",
       "      <td>3000.000000</td>\n",
       "      <td>100.000000</td>\n",
       "    </tr>\n",
       "  </tbody>\n",
       "</table>\n",
       "</div>"
      ],
      "text/plain": [
       "              Price    #Bedrooms   #Bathrooms     Size(m²)  StreetWidth\n",
       "count  5.503000e+03  5503.000000  5503.000000  5503.000000  5503.000000\n",
       "mean   1.194007e+06     4.414319     3.862984   363.317463    15.481010\n",
       "std    1.276239e+06     1.108389     1.252021   318.828521     9.262831\n",
       "min    1.000000e+04     1.000000     1.000000    50.000000     1.000000\n",
       "25%    3.000000e+05     4.000000     3.000000   183.000000    10.000000\n",
       "50%    1.050000e+06     5.000000     4.000000   307.000000    15.000000\n",
       "75%    1.400000e+06     5.000000     5.000000   400.000000    20.000000\n",
       "max    3.000000e+07     7.000000     5.000000  3000.000000   100.000000"
      ]
     },
     "execution_count": 14,
     "metadata": {},
     "output_type": "execute_result"
    }
   ],
   "source": [
    "data.describe()"
   ]
  },
  {
   "cell_type": "code",
   "execution_count": 15,
   "metadata": {
    "colab": {
     "base_uri": "https://localhost:8080/",
     "height": 204
    },
    "executionInfo": {
     "elapsed": 338,
     "status": "ok",
     "timestamp": 1634110223830,
     "user": {
      "displayName": "Danish Aman",
      "photoUrl": "https://lh3.googleusercontent.com/a-/AOh14GjgeEx3kSRsc-UhqpdwaLkyNksGf18dp9q_EMjz=s64",
      "userId": "14946007763565780732"
     },
     "user_tz": -300
    },
    "id": "8odOpY_F1zW-",
    "outputId": "29932ee9-b84d-441a-f9a4-e656e2475055"
   },
   "outputs": [
    {
     "data": {
      "text/html": [
       "<div>\n",
       "<style scoped>\n",
       "    .dataframe tbody tr th:only-of-type {\n",
       "        vertical-align: middle;\n",
       "    }\n",
       "\n",
       "    .dataframe tbody tr th {\n",
       "        vertical-align: top;\n",
       "    }\n",
       "\n",
       "    .dataframe thead th {\n",
       "        text-align: right;\n",
       "    }\n",
       "</style>\n",
       "<table border=\"1\" class=\"dataframe\">\n",
       "  <thead>\n",
       "    <tr style=\"text-align: right;\">\n",
       "      <th></th>\n",
       "      <th>Price</th>\n",
       "      <th>#Bedrooms</th>\n",
       "      <th>#Bathrooms</th>\n",
       "      <th>Size(m²)</th>\n",
       "      <th>StreetWidth</th>\n",
       "    </tr>\n",
       "  </thead>\n",
       "  <tbody>\n",
       "    <tr>\n",
       "      <th>Price</th>\n",
       "      <td>1.000000</td>\n",
       "      <td>0.182124</td>\n",
       "      <td>0.550010</td>\n",
       "      <td>0.749320</td>\n",
       "      <td>0.235701</td>\n",
       "    </tr>\n",
       "    <tr>\n",
       "      <th>#Bedrooms</th>\n",
       "      <td>0.182124</td>\n",
       "      <td>1.000000</td>\n",
       "      <td>0.476931</td>\n",
       "      <td>0.213027</td>\n",
       "      <td>0.117083</td>\n",
       "    </tr>\n",
       "    <tr>\n",
       "      <th>#Bathrooms</th>\n",
       "      <td>0.550010</td>\n",
       "      <td>0.476931</td>\n",
       "      <td>1.000000</td>\n",
       "      <td>0.476240</td>\n",
       "      <td>0.227267</td>\n",
       "    </tr>\n",
       "    <tr>\n",
       "      <th>Size(m²)</th>\n",
       "      <td>0.749320</td>\n",
       "      <td>0.213027</td>\n",
       "      <td>0.476240</td>\n",
       "      <td>1.000000</td>\n",
       "      <td>0.119001</td>\n",
       "    </tr>\n",
       "    <tr>\n",
       "      <th>StreetWidth</th>\n",
       "      <td>0.235701</td>\n",
       "      <td>0.117083</td>\n",
       "      <td>0.227267</td>\n",
       "      <td>0.119001</td>\n",
       "      <td>1.000000</td>\n",
       "    </tr>\n",
       "  </tbody>\n",
       "</table>\n",
       "</div>"
      ],
      "text/plain": [
       "                Price  #Bedrooms  #Bathrooms  Size(m²)  StreetWidth\n",
       "Price        1.000000   0.182124    0.550010  0.749320     0.235701\n",
       "#Bedrooms    0.182124   1.000000    0.476931  0.213027     0.117083\n",
       "#Bathrooms   0.550010   0.476931    1.000000  0.476240     0.227267\n",
       "Size(m²)     0.749320   0.213027    0.476240  1.000000     0.119001\n",
       "StreetWidth  0.235701   0.117083    0.227267  0.119001     1.000000"
      ]
     },
     "execution_count": 15,
     "metadata": {},
     "output_type": "execute_result"
    }
   ],
   "source": [
    "data.corr(method = 'spearman')"
   ]
  },
  {
   "cell_type": "code",
   "execution_count": 34,
   "metadata": {},
   "outputs": [
    {
     "data": {
      "image/png": "[encoded data removed]",
      "text/plain": [
       "<Figure size 864x432 with 2 Axes>"
      ]
     },
     "metadata": {},
     "output_type": "display_data"
    }
   ],
   "source": [
    "import seaborn as sns\n",
    "sns.set()\n",
    "plt.figure(figsize=(12, 6))\n",
    "heatmap = sns.heatmap(data.corr(), vmin=-1, vmax=1, annot=True,cmap=\"YlGnBu\")\n",
    "heatmap.set_title('Correlation Heatmap', fontdict={'fontsize':12}, pad=12);\n",
    "plt.show()"
   ]
  },
  {
   "cell_type": "code",
   "execution_count": 16,
   "metadata": {
    "colab": {
     "base_uri": "https://localhost:8080/",
     "height": 458
    },
    "executionInfo": {
     "elapsed": 335,
     "status": "ok",
     "timestamp": 1634110231029,
     "user": {
      "displayName": "Danish Aman",
      "photoUrl": "https://lh3.googleusercontent.com/a-/AOh14GjgeEx3kSRsc-UhqpdwaLkyNksGf18dp9q_EMjz=s64",
      "userId": "14946007763565780732"
     },
     "user_tz": -300
    },
    "id": "P-XdIAku2Iqf",
    "outputId": "1a83a0a5-eef3-469b-d1db-2cb2c0a97f07"
   },
   "outputs": [
    {
     "data": {
      "text/html": [
       "<div>\n",
       "<style scoped>\n",
       "    .dataframe tbody tr th:only-of-type {\n",
       "        vertical-align: middle;\n",
       "    }\n",
       "\n",
       "    .dataframe tbody tr th {\n",
       "        vertical-align: top;\n",
       "    }\n",
       "\n",
       "    .dataframe thead th {\n",
       "        text-align: right;\n",
       "    }\n",
       "</style>\n",
       "<table border=\"1\" class=\"dataframe\">\n",
       "  <thead>\n",
       "    <tr style=\"text-align: right;\">\n",
       "      <th></th>\n",
       "      <th>Price</th>\n",
       "      <th>#Bedrooms</th>\n",
       "      <th>#Bathrooms</th>\n",
       "      <th>Size(m²)</th>\n",
       "      <th>District</th>\n",
       "      <th>StreetWidth</th>\n",
       "      <th>district_أحد</th>\n",
       "      <th>district_اشبيلية</th>\n",
       "      <th>district_الازدهار</th>\n",
       "      <th>district_الاندلس</th>\n",
       "      <th>...</th>\n",
       "      <th>district_عريض</th>\n",
       "      <th>district_عكاظ</th>\n",
       "      <th>district_غبيرة</th>\n",
       "      <th>district_غرناطة</th>\n",
       "      <th>district_قرطبة</th>\n",
       "      <th>district_لبن</th>\n",
       "      <th>district_منفوحة</th>\n",
       "      <th>district_منفوحة الجديدة</th>\n",
       "      <th>district_نمار</th>\n",
       "      <th>district_هيت</th>\n",
       "    </tr>\n",
       "  </thead>\n",
       "  <tbody>\n",
       "    <tr>\n",
       "      <th>0</th>\n",
       "      <td>120000</td>\n",
       "      <td>3</td>\n",
       "      <td>1</td>\n",
       "      <td>66</td>\n",
       "      <td>الشميسي</td>\n",
       "      <td>5</td>\n",
       "      <td>0</td>\n",
       "      <td>0</td>\n",
       "      <td>0</td>\n",
       "      <td>0</td>\n",
       "      <td>...</td>\n",
       "      <td>0</td>\n",
       "      <td>0</td>\n",
       "      <td>0</td>\n",
       "      <td>0</td>\n",
       "      <td>0</td>\n",
       "      <td>0</td>\n",
       "      <td>0</td>\n",
       "      <td>0</td>\n",
       "      <td>0</td>\n",
       "      <td>0</td>\n",
       "    </tr>\n",
       "    <tr>\n",
       "      <th>1</th>\n",
       "      <td>800000</td>\n",
       "      <td>5</td>\n",
       "      <td>3</td>\n",
       "      <td>240</td>\n",
       "      <td>طويق</td>\n",
       "      <td>20</td>\n",
       "      <td>0</td>\n",
       "      <td>0</td>\n",
       "      <td>0</td>\n",
       "      <td>0</td>\n",
       "      <td>...</td>\n",
       "      <td>0</td>\n",
       "      <td>0</td>\n",
       "      <td>0</td>\n",
       "      <td>0</td>\n",
       "      <td>0</td>\n",
       "      <td>0</td>\n",
       "      <td>0</td>\n",
       "      <td>0</td>\n",
       "      <td>0</td>\n",
       "      <td>0</td>\n",
       "    </tr>\n",
       "    <tr>\n",
       "      <th>2</th>\n",
       "      <td>1100000</td>\n",
       "      <td>5</td>\n",
       "      <td>5</td>\n",
       "      <td>375</td>\n",
       "      <td>طويق</td>\n",
       "      <td>15</td>\n",
       "      <td>0</td>\n",
       "      <td>0</td>\n",
       "      <td>0</td>\n",
       "      <td>0</td>\n",
       "      <td>...</td>\n",
       "      <td>0</td>\n",
       "      <td>0</td>\n",
       "      <td>0</td>\n",
       "      <td>0</td>\n",
       "      <td>0</td>\n",
       "      <td>0</td>\n",
       "      <td>0</td>\n",
       "      <td>0</td>\n",
       "      <td>0</td>\n",
       "      <td>0</td>\n",
       "    </tr>\n",
       "    <tr>\n",
       "      <th>3</th>\n",
       "      <td>5000000</td>\n",
       "      <td>5</td>\n",
       "      <td>5</td>\n",
       "      <td>2200</td>\n",
       "      <td>الناصرية</td>\n",
       "      <td>5</td>\n",
       "      <td>0</td>\n",
       "      <td>0</td>\n",
       "      <td>0</td>\n",
       "      <td>0</td>\n",
       "      <td>...</td>\n",
       "      <td>0</td>\n",
       "      <td>0</td>\n",
       "      <td>0</td>\n",
       "      <td>0</td>\n",
       "      <td>0</td>\n",
       "      <td>0</td>\n",
       "      <td>0</td>\n",
       "      <td>0</td>\n",
       "      <td>0</td>\n",
       "      <td>0</td>\n",
       "    </tr>\n",
       "    <tr>\n",
       "      <th>4</th>\n",
       "      <td>150000</td>\n",
       "      <td>1</td>\n",
       "      <td>2</td>\n",
       "      <td>125</td>\n",
       "      <td>الصالحية</td>\n",
       "      <td>13</td>\n",
       "      <td>0</td>\n",
       "      <td>0</td>\n",
       "      <td>0</td>\n",
       "      <td>0</td>\n",
       "      <td>...</td>\n",
       "      <td>0</td>\n",
       "      <td>0</td>\n",
       "      <td>0</td>\n",
       "      <td>0</td>\n",
       "      <td>0</td>\n",
       "      <td>0</td>\n",
       "      <td>0</td>\n",
       "      <td>0</td>\n",
       "      <td>0</td>\n",
       "      <td>0</td>\n",
       "    </tr>\n",
       "    <tr>\n",
       "      <th>...</th>\n",
       "      <td>...</td>\n",
       "      <td>...</td>\n",
       "      <td>...</td>\n",
       "      <td>...</td>\n",
       "      <td>...</td>\n",
       "      <td>...</td>\n",
       "      <td>...</td>\n",
       "      <td>...</td>\n",
       "      <td>...</td>\n",
       "      <td>...</td>\n",
       "      <td>...</td>\n",
       "      <td>...</td>\n",
       "      <td>...</td>\n",
       "      <td>...</td>\n",
       "      <td>...</td>\n",
       "      <td>...</td>\n",
       "      <td>...</td>\n",
       "      <td>...</td>\n",
       "      <td>...</td>\n",
       "      <td>...</td>\n",
       "      <td>...</td>\n",
       "    </tr>\n",
       "    <tr>\n",
       "      <th>5499</th>\n",
       "      <td>1250000</td>\n",
       "      <td>4</td>\n",
       "      <td>5</td>\n",
       "      <td>200</td>\n",
       "      <td>المهدية</td>\n",
       "      <td>20</td>\n",
       "      <td>0</td>\n",
       "      <td>0</td>\n",
       "      <td>0</td>\n",
       "      <td>0</td>\n",
       "      <td>...</td>\n",
       "      <td>0</td>\n",
       "      <td>0</td>\n",
       "      <td>0</td>\n",
       "      <td>0</td>\n",
       "      <td>0</td>\n",
       "      <td>0</td>\n",
       "      <td>0</td>\n",
       "      <td>0</td>\n",
       "      <td>0</td>\n",
       "      <td>0</td>\n",
       "    </tr>\n",
       "    <tr>\n",
       "      <th>5500</th>\n",
       "      <td>1300000</td>\n",
       "      <td>5</td>\n",
       "      <td>5</td>\n",
       "      <td>200</td>\n",
       "      <td>المهدية</td>\n",
       "      <td>5</td>\n",
       "      <td>0</td>\n",
       "      <td>0</td>\n",
       "      <td>0</td>\n",
       "      <td>0</td>\n",
       "      <td>...</td>\n",
       "      <td>0</td>\n",
       "      <td>0</td>\n",
       "      <td>0</td>\n",
       "      <td>0</td>\n",
       "      <td>0</td>\n",
       "      <td>0</td>\n",
       "      <td>0</td>\n",
       "      <td>0</td>\n",
       "      <td>0</td>\n",
       "      <td>0</td>\n",
       "    </tr>\n",
       "    <tr>\n",
       "      <th>5501</th>\n",
       "      <td>1850000</td>\n",
       "      <td>4</td>\n",
       "      <td>5</td>\n",
       "      <td>270</td>\n",
       "      <td>العارض</td>\n",
       "      <td>15</td>\n",
       "      <td>0</td>\n",
       "      <td>0</td>\n",
       "      <td>0</td>\n",
       "      <td>0</td>\n",
       "      <td>...</td>\n",
       "      <td>0</td>\n",
       "      <td>0</td>\n",
       "      <td>0</td>\n",
       "      <td>0</td>\n",
       "      <td>0</td>\n",
       "      <td>0</td>\n",
       "      <td>0</td>\n",
       "      <td>0</td>\n",
       "      <td>0</td>\n",
       "      <td>0</td>\n",
       "    </tr>\n",
       "    <tr>\n",
       "      <th>5502</th>\n",
       "      <td>5300000</td>\n",
       "      <td>5</td>\n",
       "      <td>5</td>\n",
       "      <td>500</td>\n",
       "      <td>الملقا</td>\n",
       "      <td>18</td>\n",
       "      <td>0</td>\n",
       "      <td>0</td>\n",
       "      <td>0</td>\n",
       "      <td>0</td>\n",
       "      <td>...</td>\n",
       "      <td>0</td>\n",
       "      <td>0</td>\n",
       "      <td>0</td>\n",
       "      <td>0</td>\n",
       "      <td>0</td>\n",
       "      <td>0</td>\n",
       "      <td>0</td>\n",
       "      <td>0</td>\n",
       "      <td>0</td>\n",
       "      <td>0</td>\n",
       "    </tr>\n",
       "    <tr>\n",
       "      <th>5503</th>\n",
       "      <td>6800000</td>\n",
       "      <td>5</td>\n",
       "      <td>5</td>\n",
       "      <td>705</td>\n",
       "      <td>الملقا</td>\n",
       "      <td>18</td>\n",
       "      <td>0</td>\n",
       "      <td>0</td>\n",
       "      <td>0</td>\n",
       "      <td>0</td>\n",
       "      <td>...</td>\n",
       "      <td>0</td>\n",
       "      <td>0</td>\n",
       "      <td>0</td>\n",
       "      <td>0</td>\n",
       "      <td>0</td>\n",
       "      <td>0</td>\n",
       "      <td>0</td>\n",
       "      <td>0</td>\n",
       "      <td>0</td>\n",
       "      <td>0</td>\n",
       "    </tr>\n",
       "  </tbody>\n",
       "</table>\n",
       "<p>5503 rows × 119 columns</p>\n",
       "</div>"
      ],
      "text/plain": [
       "        Price  #Bedrooms  #Bathrooms  Size(m²)  District  StreetWidth  \\\n",
       "0      120000          3           1        66   الشميسي            5   \n",
       "1      800000          5           3       240      طويق           20   \n",
       "2     1100000          5           5       375      طويق           15   \n",
       "3     5000000          5           5      2200  الناصرية            5   \n",
       "4      150000          1           2       125  الصالحية           13   \n",
       "...       ...        ...         ...       ...       ...          ...   \n",
       "5499  1250000          4           5       200   المهدية           20   \n",
       "5500  1300000          5           5       200   المهدية            5   \n",
       "5501  1850000          4           5       270    العارض           15   \n",
       "5502  5300000          5           5       500    الملقا           18   \n",
       "5503  6800000          5           5       705    الملقا           18   \n",
       "\n",
       "      district_أحد  district_اشبيلية  district_الازدهار  district_الاندلس  \\\n",
       "0                0                 0                  0                 0   \n",
       "1                0                 0                  0                 0   \n",
       "2                0                 0                  0                 0   \n",
       "3                0                 0                  0                 0   \n",
       "4                0                 0                  0                 0   \n",
       "...            ...               ...                ...               ...   \n",
       "5499             0                 0                  0                 0   \n",
       "5500             0                 0                  0                 0   \n",
       "5501             0                 0                  0                 0   \n",
       "5502             0                 0                  0                 0   \n",
       "5503             0                 0                  0                 0   \n",
       "\n",
       "      ...  district_عريض  district_عكاظ  district_غبيرة  district_غرناطة  \\\n",
       "0     ...              0              0               0                0   \n",
       "1     ...              0              0               0                0   \n",
       "2     ...              0              0               0                0   \n",
       "3     ...              0              0               0                0   \n",
       "4     ...              0              0               0                0   \n",
       "...   ...            ...            ...             ...              ...   \n",
       "5499  ...              0              0               0                0   \n",
       "5500  ...              0              0               0                0   \n",
       "5501  ...              0              0               0                0   \n",
       "5502  ...              0              0               0                0   \n",
       "5503  ...              0              0               0                0   \n",
       "\n",
       "      district_قرطبة  district_لبن  district_منفوحة  district_منفوحة الجديدة  \\\n",
       "0                  0             0                0                        0   \n",
       "1                  0             0                0                        0   \n",
       "2                  0             0                0                        0   \n",
       "3                  0             0                0                        0   \n",
       "4                  0             0                0                        0   \n",
       "...              ...           ...              ...                      ...   \n",
       "5499               0             0                0                        0   \n",
       "5500               0             0                0                        0   \n",
       "5501               0             0                0                        0   \n",
       "5502               0             0                0                        0   \n",
       "5503               0             0                0                        0   \n",
       "\n",
       "      district_نمار  district_هيت  \n",
       "0                 0             0  \n",
       "1                 0             0  \n",
       "2                 0             0  \n",
       "3                 0             0  \n",
       "4                 0             0  \n",
       "...             ...           ...  \n",
       "5499              0             0  \n",
       "5500              0             0  \n",
       "5501              0             0  \n",
       "5502              0             0  \n",
       "5503              0             0  \n",
       "\n",
       "[5503 rows x 119 columns]"
      ]
     },
     "execution_count": 16,
     "metadata": {},
     "output_type": "execute_result"
    }
   ],
   "source": [
    "dummies = pd.get_dummies(data['District'], prefix = 'district')\n",
    "data_new = pd.concat([data,dummies], axis = 1)\n",
    "data_new"
   ]
  },
  {
   "cell_type": "code",
   "execution_count": 17,
   "metadata": {
    "executionInfo": {
     "elapsed": 3,
     "status": "ok",
     "timestamp": 1634110234184,
     "user": {
      "displayName": "Danish Aman",
      "photoUrl": "https://lh3.googleusercontent.com/a-/AOh14GjgeEx3kSRsc-UhqpdwaLkyNksGf18dp9q_EMjz=s64",
      "userId": "14946007763565780732"
     },
     "user_tz": -300
    },
    "id": "CuVgYC1u2mfV"
   },
   "outputs": [],
   "source": [
    "data_new = data_new.drop('District', axis = 1)"
   ]
  },
  {
   "cell_type": "code",
   "execution_count": 18,
   "metadata": {
    "executionInfo": {
     "elapsed": 439,
     "status": "ok",
     "timestamp": 1634110236387,
     "user": {
      "displayName": "Danish Aman",
      "photoUrl": "https://lh3.googleusercontent.com/a-/AOh14GjgeEx3kSRsc-UhqpdwaLkyNksGf18dp9q_EMjz=s64",
      "userId": "14946007763565780732"
     },
     "user_tz": -300
    },
    "id": "Zp7mJr_m2uzr"
   },
   "outputs": [],
   "source": [
    "DF =data_new.copy()"
   ]
  },
  {
   "cell_type": "code",
   "execution_count": 19,
   "metadata": {
    "executionInfo": {
     "elapsed": 364,
     "status": "ok",
     "timestamp": 1634110238249,
     "user": {
      "displayName": "Danish Aman",
      "photoUrl": "https://lh3.googleusercontent.com/a-/AOh14GjgeEx3kSRsc-UhqpdwaLkyNksGf18dp9q_EMjz=s64",
      "userId": "14946007763565780732"
     },
     "user_tz": -300
    },
    "id": "eg1HUKId3oFU"
   },
   "outputs": [],
   "source": [
    "from sklearn.linear_model import LinearRegression,Ridge, Lasso, LassoCV ,RidgeCV\n",
    "from sklearn.model_selection import train_test_split, cross_val_score\n",
    "from sklearn.preprocessing import PolynomialFeatures,StandardScaler\n",
    "from sklearn.pipeline import make_pipeline\n",
    "from sklearn.metrics import r2_score, mean_squared_error"
   ]
  },
  {
   "cell_type": "code",
   "execution_count": 20,
   "metadata": {
    "executionInfo": {
     "elapsed": 355,
     "status": "ok",
     "timestamp": 1634110240197,
     "user": {
      "displayName": "Danish Aman",
      "photoUrl": "https://lh3.googleusercontent.com/a-/AOh14GjgeEx3kSRsc-UhqpdwaLkyNksGf18dp9q_EMjz=s64",
      "userId": "14946007763565780732"
     },
     "user_tz": -300
    },
    "id": "HoevppsR3aSS"
   },
   "outputs": [],
   "source": [
    "X = DF.drop('Price', axis = 1)"
   ]
  },
  {
   "cell_type": "code",
   "execution_count": 35,
   "metadata": {},
   "outputs": [
    {
     "data": {
      "text/plain": [
       "Index(['#Bedrooms', '#Bathrooms', 'Size(m²)', 'StreetWidth', 'district_أحد',\n",
       "       'district_اشبيلية', 'district_الازدهار', 'district_الاندلس',\n",
       "       'district_البديعة', 'district_البرية',\n",
       "       ...\n",
       "       'district_عريض', 'district_عكاظ', 'district_غبيرة', 'district_غرناطة',\n",
       "       'district_قرطبة', 'district_لبن', 'district_منفوحة',\n",
       "       'district_منفوحة الجديدة', 'district_نمار', 'district_هيت'],\n",
       "      dtype='object', length=117)"
      ]
     },
     "execution_count": 35,
     "metadata": {},
     "output_type": "execute_result"
    }
   ],
   "source": [
    "X.columns"
   ]
  },
  {
   "cell_type": "code",
   "execution_count": 23,
   "metadata": {
    "executionInfo": {
     "elapsed": 325,
     "status": "ok",
     "timestamp": 1634110242703,
     "user": {
      "displayName": "Danish Aman",
      "photoUrl": "https://lh3.googleusercontent.com/a-/AOh14GjgeEx3kSRsc-UhqpdwaLkyNksGf18dp9q_EMjz=s64",
      "userId": "14946007763565780732"
     },
     "user_tz": -300
    },
    "id": "yJFXQeBH3BBq"
   },
   "outputs": [],
   "source": [
    "X_train, X_test, y_train, y_test = train_test_split(X, DF[['Price']], \n",
    "                                                    test_size=0.2, random_state=42)\n",
    "\n",
    "X_train, X_val, y_train, y_val = train_test_split(X_train, y_train, test_size=0.3, random_state=42)"
   ]
  },
  {
   "cell_type": "code",
   "execution_count": 24,
   "metadata": {
    "colab": {
     "base_uri": "https://localhost:8080/"
    },
    "executionInfo": {
     "elapsed": 323,
     "status": "ok",
     "timestamp": 1634110285616,
     "user": {
      "displayName": "Danish Aman",
      "photoUrl": "https://lh3.googleusercontent.com/a-/AOh14GjgeEx3kSRsc-UhqpdwaLkyNksGf18dp9q_EMjz=s64",
      "userId": "14946007763565780732"
     },
     "user_tz": -300
    },
    "id": "5ShsUD3K36pq",
    "outputId": "ebe7c889-b226-4bcd-9a75-6030e0dfb809"
   },
   "outputs": [
    {
     "name": "stdout",
     "output_type": "stream",
     "text": [
      "Training accuracy:  0.8592949477522274\n",
      "Training error:  0.14070505224777263\n",
      "validaton accuracy:  -387873772243966.4\n",
      "validation error:  387873772243967.4\n"
     ]
    }
   ],
   "source": [
    "list_models=[]\n",
    "list_scores=[]\n",
    "list_errors=[]\n",
    "lr=LinearRegression()\n",
    "lr.fit(X_train,y_train)\n",
    "pred_1=lr.predict(X_val)\n",
    "score_1=r2_score(y_val,pred_1)\n",
    "error_1=mean_squared_error(y_val,pred_1)\n",
    "list_models.append('linear regression')\n",
    "list_scores.append(score_1)\n",
    "list_errors.append(error_1)\n",
    "print(\"Training accuracy: \",r2_score(y_train,lr.predict(X_train)))\n",
    "print(\"Training error: \",1-r2_score(y_train,lr.predict(X_train)))\n",
    "print(\"Validaton accuracy: \",r2_score(y_val,lr.predict(X_val)))\n",
    "print(\"Validation error: \",1-r2_score(y_val,lr.predict(X_val)))"
   ]
  },
  {
   "cell_type": "code",
   "execution_count": 25,
   "metadata": {
    "executionInfo": {
     "elapsed": 389,
     "status": "ok",
     "timestamp": 1634110288186,
     "user": {
      "displayName": "Danish Aman",
      "photoUrl": "https://lh3.googleusercontent.com/a-/AOh14GjgeEx3kSRsc-UhqpdwaLkyNksGf18dp9q_EMjz=s64",
      "userId": "14946007763565780732"
     },
     "user_tz": -300
    },
    "id": "nOskZTqu5EVi"
   },
   "outputs": [],
   "source": [
    "from sklearn.ensemble import RandomForestRegressor"
   ]
  },
  {
   "cell_type": "code",
   "execution_count": 26,
   "metadata": {
    "colab": {
     "base_uri": "https://localhost:8080/"
    },
    "executionInfo": {
     "elapsed": 1994,
     "status": "ok",
     "timestamp": 1634110291652,
     "user": {
      "displayName": "Danish Aman",
      "photoUrl": "https://lh3.googleusercontent.com/a-/AOh14GjgeEx3kSRsc-UhqpdwaLkyNksGf18dp9q_EMjz=s64",
      "userId": "14946007763565780732"
     },
     "user_tz": -300
    },
    "id": "QLdqqZNt4-Fx",
    "outputId": "9bc3ece2-d3e3-4773-f03e-1655853d3ae8"
   },
   "outputs": [
    {
     "name": "stderr",
     "output_type": "stream",
     "text": [
      "<ipython-input-26-aeb7946cb102>:2: DataConversionWarning: A column-vector y was passed when a 1d array was expected. Please change the shape of y to (n_samples,), for example using ravel().\n",
      "  rf.fit(X_train,y_train)\n"
     ]
    },
    {
     "name": "stdout",
     "output_type": "stream",
     "text": [
      "Training accuracy:  0.9820119691523945\n",
      "Training error:  0.017988030847605474\n",
      "validation accuracy:  0.7802488283932811\n",
      "validation error:  0.21975117160671886\n"
     ]
    }
   ],
   "source": [
    "rf=RandomForestRegressor()\n",
    "rf.fit(X_train,y_train)\n",
    "pred_2=rf.predict(X_val)\n",
    "score_2=r2_score(y_val,pred_2)\n",
    "error_2=mean_squared_error(y_val,pred_2)\n",
    "list_models.append('Random Forest Regressor')\n",
    "list_scores.append(score_2)\n",
    "list_errors.append(error_2)\n",
    "print(\"Training accuracy: \",r2_score(y_train,rf.predict(X_train)))\n",
    "print(\"Training error: \",1-r2_score(y_train,rf.predict(X_train)))\n",
    "print(\"validation accuracy: \",r2_score(y_val,rf.predict(X_val)))\n",
    "print(\"validation error: \",1-r2_score(y_val,rf.predict(X_val)))"
   ]
  },
  {
   "cell_type": "code",
   "execution_count": 27,
   "metadata": {
    "executionInfo": {
     "elapsed": 350,
     "status": "ok",
     "timestamp": 1634110318376,
     "user": {
      "displayName": "Danish Aman",
      "photoUrl": "https://lh3.googleusercontent.com/a-/AOh14GjgeEx3kSRsc-UhqpdwaLkyNksGf18dp9q_EMjz=s64",
      "userId": "14946007763565780732"
     },
     "user_tz": -300
    },
    "id": "EYWPkfSK7YoB"
   },
   "outputs": [],
   "source": [
    "from sklearn.linear_model import Ridge"
   ]
  },
  {
   "cell_type": "code",
   "execution_count": 28,
   "metadata": {
    "colab": {
     "base_uri": "https://localhost:8080/"
    },
    "executionInfo": {
     "elapsed": 330,
     "status": "ok",
     "timestamp": 1634110322746,
     "user": {
      "displayName": "Danish Aman",
      "photoUrl": "https://lh3.googleusercontent.com/a-/AOh14GjgeEx3kSRsc-UhqpdwaLkyNksGf18dp9q_EMjz=s64",
      "userId": "14946007763565780732"
     },
     "user_tz": -300
    },
    "id": "h6cPttli7dXR",
    "outputId": "6f3b3d4c-6ce4-4803-e4bd-eef2893d33a3"
   },
   "outputs": [
    {
     "name": "stdout",
     "output_type": "stream",
     "text": [
      "Training accuracy:  0.8539049038374543\n",
      "Training error:  0.14609509616254568\n",
      "Testing accuracy:  0.7476404264255294\n",
      "Testing error:  0.2523595735744706\n"
     ]
    }
   ],
   "source": [
    "rdg=Ridge(alpha=1)\n",
    "rdg.fit(X_train,y_train)\n",
    "pred_3=rdg.predict(X_val)\n",
    "score_3=r2_score(y_val,pred_3)\n",
    "error_3=mean_squared_error(y_val,pred_3)\n",
    "list_models.append('Ridge')\n",
    "list_scores.append(score_3)\n",
    "list_errors.append(error_3)\n",
    "print(\"Training accuracy: \",r2_score(y_train,rdg.predict(X_train)))\n",
    "print(\"Training error: \",1-r2_score(y_train,rdg.predict(X_train)))\n",
    "print(\"Testing accuracy: \",r2_score(y_val,rdg.predict(X_val)))\n",
    "print(\"Testing error: \",1-r2_score(y_val,rdg.predict(X_val)))"
   ]
  },
  {
   "cell_type": "code",
   "execution_count": 29,
   "metadata": {
    "colab": {
     "base_uri": "https://localhost:8080/"
    },
    "executionInfo": {
     "elapsed": 330,
     "status": "ok",
     "timestamp": 1634110327523,
     "user": {
      "displayName": "Danish Aman",
      "photoUrl": "https://lh3.googleusercontent.com/a-/AOh14GjgeEx3kSRsc-UhqpdwaLkyNksGf18dp9q_EMjz=s64",
      "userId": "14946007763565780732"
     },
     "user_tz": -300
    },
    "id": "68UEj-6k5s1O",
    "outputId": "e017e734-fa8c-4b36-b57c-3b4b321e1e10"
   },
   "outputs": [
    {
     "name": "stdout",
     "output_type": "stream",
     "text": [
      "Testing accuracy for Linear regression:  -1662057136277300.0\n",
      "Testing error:  0.10605807382247556\n",
      "Testing accuracy for Random Forest Regressor:  0.8939419261775244\n",
      "Testing error:  0.10605807382247556\n",
      "Testing accuracy for Ridge:  0.8517004403332569\n",
      "Testing error:  0.14829955966674313\n"
     ]
    }
   ],
   "source": [
    "print(\"Testing accuracy for Linear regression: \",r2_score(y_test,lr.predict(X_test)))\n",
    "print(\"Testing error: \",1-r2_score(y_test,rf.predict(X_test)))\n",
    "print(\"Testing accuracy for Random Forest Regressor: \",r2_score(y_test,rf.predict(X_test)))\n",
    "print(\"Testing error: \",1-r2_score(y_test,rf.predict(X_test)))\n",
    "print(\"Testing accuracy for Ridge: \",r2_score(y_test,rdg.predict(X_test)))\n",
    "print(\"Testing error: \",1-r2_score(y_test,rdg.predict(X_test)))"
   ]
  },
  {
   "cell_type": "code",
   "execution_count": 30,
   "metadata": {
    "colab": {
     "base_uri": "https://localhost:8080/",
     "height": 498
    },
    "executionInfo": {
     "elapsed": 1619,
     "status": "ok",
     "timestamp": 1634113232198,
     "user": {
      "displayName": "Danish Aman",
      "photoUrl": "https://lh3.googleusercontent.com/a-/AOh14GjgeEx3kSRsc-UhqpdwaLkyNksGf18dp9q_EMjz=s64",
      "userId": "14946007763565780732"
     },
     "user_tz": -300
    },
    "id": "viKJnvcHkOKr",
    "outputId": "b1d8a9c5-e748-4531-e0e8-b97f3bec3cc5"
   },
   "outputs": [
    {
     "data": {
      "text/plain": [
       "Text(0, 0.5, 'Predicted Price')"
      ]
     },
     "execution_count": 30,
     "metadata": {},
     "output_type": "execute_result"
    },
    {
     "data": {
      "image/png": "[encoded data removed]",
      "text/plain": [
       "<Figure size 2160x720 with 3 Axes>"
      ]
     },
     "metadata": {
      "needs_background": "light"
     },
     "output_type": "display_data"
    }
   ],
   "source": [
    "fig2,[ax2,ax3,ax4] = plt.subplots(1,3, figsize = (30,10))\n",
    "ax2.scatter(y_test, lr.predict(X_test))\n",
    "ax2.plot([y_test.min(), y_test.max()], [lr.predict(X_test).min(), lr.predict(X_test).max()], 'k--', lw=4)\n",
    "ax3.scatter(y_test, rf.predict(X_test))\n",
    "ax3.plot([y_test.min(), y_test.max()], [rf.predict(X_test).min(), rf.predict(X_test).max()], 'k--', lw=4)\n",
    "ax4.scatter(y_test, rdg.predict(X_test))\n",
    "ax4.plot([y_test.min(), y_test.max()], [rdg.predict(X_test).min(), rdg.predict(X_test).max()], 'k--', lw=4)\n",
    "ax2.set_title('Actual vs Predicted Price Linear Regression')\n",
    "ax2.set_xlabel('Actual Price')\n",
    "ax2.set_ylabel('Predicted Price')\n",
    "ax3.set_title('Actual vs Predicted Price Random Forests')\n",
    "ax3.set_xlabel('Actual Price')\n",
    "ax3.set_ylabel('Predicted Price')\n",
    "ax4.set_title('Actual vs Predicted Price Ridge Regression')\n",
    "ax4.set_xlabel('Actual Price')\n",
    "ax4.set_ylabel('Predicted Price')"
   ]
  }
 ],
 "metadata": {
  "colab": {
   "authorship_tag": "ABX9TyPIBGl29TtZhGmwdh0WQJAx",
   "collapsed_sections": [],
   "name": "Task house pred.ipynb",
   "provenance": []
  },
  "kernelspec": {
   "display_name": "Python 3",
   "language": "python",
   "name": "python3"
  },
  "language_info": {
   "codemirror_mode": {
    "name": "ipython",
    "version": 3
   },
   "file_extension": ".py",
   "mimetype": "text/x-python",
   "name": "python",
   "nbconvert_exporter": "python",
   "pygments_lexer": "ipython3",
   "version": "3.8.3"
  }
 },
 "nbformat": 4,
 "nbformat_minor": 1
}
