{
 "cells": [
  {
   "cell_type": "markdown",
   "metadata": {},
   "source": [
    "# MTA Exploratory Data Analysis\n",
    "\n",
    "- By: Muneera Alshunaifi"
   ]
  },
  {
   "cell_type": "markdown",
   "metadata": {},
   "source": [
    "## Introduction\n",
    "\n",
    "> A lot of people in New York using The Metropolitan Transportation subways as main way for transportation. The MTA says that it is serving a population of 15.3 million people across a 5,000-square-mile travel area surrounding New York City through Long Island, southeastern New York State, and Connecticut.Therefore, a huge amount of people causing traffic on stations which is the important factor for us as coffee shop owners who aims to open a coffee shop at one of the MTA stations, but firstly each coffee shop owner shall measure the decision of opening a coffee shop, that is, by posting some ads to notice the intrests of customers and how effective the posters are."
   ]
  },
  {
   "cell_type": "markdown",
   "metadata": {},
   "source": [
    "## Problem \n",
    "\n",
    "> As coffee shop owners who have limited budget, we want first to measure the decision of opening a coffee shop at one of the MTA stations whether is good and profitable idea or not, in order to do that, we need to post some ads at the stations but we do not want to waiste and utilize huge amount of money on ads posters. However, we want to use few amounts of ads in which it can be affective and attractive to the targeted customers."
   ]
  },
  {
   "cell_type": "markdown",
   "metadata": {},
   "source": [
    "## Solution \n",
    "\n",
    "> I decided to utilize a solution that hopefully will help coffee shop owners targeting the suitable stations for posting the ads. To do so, I willl be investigating and analyzing the MTA data to see which station are the busiest and most crowded, also, I want to measure COVID-19 effect on the Metropolitan Transportation stations in order to know \n",
    "how to deal with related phenomena while opening the coffee shop in the future."
   ]
  },
  {
   "cell_type": "markdown",
   "metadata": {},
   "source": [
    "**I will use the Metropolitan Transportation Authority dataset which i acquired from their website: http://web.mta.info/developers/turnstile.html\n",
    "The MTA data records are weekly produced and mainly collected \n",
    "every 4 hours.\n",
    "To carry out the insights, I will use the data of six months starting from October 2020 \n",
    "until March 2021.**"
   ]
  },
  {
   "cell_type": "code",
   "execution_count": 1,
   "metadata": {},
   "outputs": [],
   "source": [
    "# import all packages and set plots to be embedded inline\n",
    "import numpy as np\n",
    "import pandas as pd\n",
    "import matplotlib.pyplot as plt\n",
    "import seaborn as sns\n",
    "from matplotlib.ticker import MaxNLocator\n",
    "from matplotlib.ticker import FormatStrFormatter\n",
    "import matplotlib.dates as mdates\n",
    "\n",
    "%matplotlib inline"
   ]
  },
  {
   "cell_type": "markdown",
   "metadata": {},
   "source": [
    "### Collecting Data"
   ]
  },
  {
   "cell_type": "code",
   "execution_count": 188,
   "metadata": {},
   "outputs": [],
   "source": [
    "# Source: http://web.mta.info/developers/turnstile.html\n",
    "def get_data(week_nums):\n",
    "    url = \"http://web.mta.info/developers/data/nyct/turnstile/turnstile_{}.txt\"\n",
    "    dfs = []\n",
    "    for week_num in week_nums:\n",
    "        file_url = url.format(week_num)\n",
    "        dfs.append(pd.read_csv(file_url))\n",
    "    return pd.concat(dfs)\n",
    "        \n",
    "week_nums = [210605, 210612, 210619, 210626, 210703, 210710, 210717, 210724, 210731, 210807, 210814, 210821, 210828]\n",
    "\n",
    "turnstiles_df = get_data(week_nums)"
   ]
  },
  {
   "cell_type": "code",
   "execution_count": 189,
   "metadata": {},
   "outputs": [
    {
     "data": {
      "text/html": [
       "<div>\n",
       "<style scoped>\n",
       "    .dataframe tbody tr th:only-of-type {\n",
       "        vertical-align: middle;\n",
       "    }\n",
       "\n",
       "    .dataframe tbody tr th {\n",
       "        vertical-align: top;\n",
       "    }\n",
       "\n",
       "    .dataframe thead th {\n",
       "        text-align: right;\n",
       "    }\n",
       "</style>\n",
       "<table border=\"1\" class=\"dataframe\">\n",
       "  <thead>\n",
       "    <tr style=\"text-align: right;\">\n",
       "      <th></th>\n",
       "      <th>C/A</th>\n",
       "      <th>UNIT</th>\n",
       "      <th>SCP</th>\n",
       "      <th>STATION</th>\n",
       "      <th>LINENAME</th>\n",
       "      <th>DIVISION</th>\n",
       "      <th>DATE</th>\n",
       "      <th>TIME</th>\n",
       "      <th>DESC</th>\n",
       "      <th>ENTRIES</th>\n",
       "      <th>EXITS</th>\n",
       "    </tr>\n",
       "  </thead>\n",
       "  <tbody>\n",
       "    <tr>\n",
       "      <th>0</th>\n",
       "      <td>A002</td>\n",
       "      <td>R051</td>\n",
       "      <td>02-00-00</td>\n",
       "      <td>59 ST</td>\n",
       "      <td>NQR456W</td>\n",
       "      <td>BMT</td>\n",
       "      <td>05/29/2021</td>\n",
       "      <td>00:00:00</td>\n",
       "      <td>REGULAR</td>\n",
       "      <td>7578734</td>\n",
       "      <td>2590325</td>\n",
       "    </tr>\n",
       "    <tr>\n",
       "      <th>1</th>\n",
       "      <td>A002</td>\n",
       "      <td>R051</td>\n",
       "      <td>02-00-00</td>\n",
       "      <td>59 ST</td>\n",
       "      <td>NQR456W</td>\n",
       "      <td>BMT</td>\n",
       "      <td>05/29/2021</td>\n",
       "      <td>04:00:00</td>\n",
       "      <td>REGULAR</td>\n",
       "      <td>7578740</td>\n",
       "      <td>2590327</td>\n",
       "    </tr>\n",
       "    <tr>\n",
       "      <th>2</th>\n",
       "      <td>A002</td>\n",
       "      <td>R051</td>\n",
       "      <td>02-00-00</td>\n",
       "      <td>59 ST</td>\n",
       "      <td>NQR456W</td>\n",
       "      <td>BMT</td>\n",
       "      <td>05/29/2021</td>\n",
       "      <td>08:00:00</td>\n",
       "      <td>REGULAR</td>\n",
       "      <td>7578749</td>\n",
       "      <td>2590340</td>\n",
       "    </tr>\n",
       "    <tr>\n",
       "      <th>3</th>\n",
       "      <td>A002</td>\n",
       "      <td>R051</td>\n",
       "      <td>02-00-00</td>\n",
       "      <td>59 ST</td>\n",
       "      <td>NQR456W</td>\n",
       "      <td>BMT</td>\n",
       "      <td>05/29/2021</td>\n",
       "      <td>12:00:00</td>\n",
       "      <td>REGULAR</td>\n",
       "      <td>7578789</td>\n",
       "      <td>2590386</td>\n",
       "    </tr>\n",
       "    <tr>\n",
       "      <th>4</th>\n",
       "      <td>A002</td>\n",
       "      <td>R051</td>\n",
       "      <td>02-00-00</td>\n",
       "      <td>59 ST</td>\n",
       "      <td>NQR456W</td>\n",
       "      <td>BMT</td>\n",
       "      <td>05/29/2021</td>\n",
       "      <td>16:00:00</td>\n",
       "      <td>REGULAR</td>\n",
       "      <td>7578897</td>\n",
       "      <td>2590418</td>\n",
       "    </tr>\n",
       "  </tbody>\n",
       "</table>\n",
       "</div>"
      ],
      "text/plain": [
       "    C/A  UNIT       SCP STATION LINENAME DIVISION        DATE      TIME  \\\n",
       "0  A002  R051  02-00-00   59 ST  NQR456W      BMT  05/29/2021  00:00:00   \n",
       "1  A002  R051  02-00-00   59 ST  NQR456W      BMT  05/29/2021  04:00:00   \n",
       "2  A002  R051  02-00-00   59 ST  NQR456W      BMT  05/29/2021  08:00:00   \n",
       "3  A002  R051  02-00-00   59 ST  NQR456W      BMT  05/29/2021  12:00:00   \n",
       "4  A002  R051  02-00-00   59 ST  NQR456W      BMT  05/29/2021  16:00:00   \n",
       "\n",
       "      DESC  ENTRIES  \\\n",
       "0  REGULAR  7578734   \n",
       "1  REGULAR  7578740   \n",
       "2  REGULAR  7578749   \n",
       "3  REGULAR  7578789   \n",
       "4  REGULAR  7578897   \n",
       "\n",
       "   EXITS                                                                 \n",
       "0                                            2590325                     \n",
       "1                                            2590327                     \n",
       "2                                            2590340                     \n",
       "3                                            2590386                     \n",
       "4                                            2590418                     "
      ]
     },
     "execution_count": 189,
     "metadata": {},
     "output_type": "execute_result"
    }
   ],
   "source": [
    "turnstiles_df.head()"
   ]
  },
  {
   "cell_type": "code",
   "execution_count": 190,
   "metadata": {
    "scrolled": true
   },
   "outputs": [
    {
     "data": {
      "text/plain": [
       "['C/A',\n",
       " 'UNIT',\n",
       " 'SCP',\n",
       " 'STATION',\n",
       " 'LINENAME',\n",
       " 'DIVISION',\n",
       " 'DATE',\n",
       " 'TIME',\n",
       " 'DESC',\n",
       " 'ENTRIES',\n",
       " 'EXITS                                                               ']"
      ]
     },
     "execution_count": 190,
     "metadata": {},
     "output_type": "execute_result"
    }
   ],
   "source": [
    "# Here we will list the columns \n",
    "list(turnstiles_df) "
   ]
  },
  {
   "cell_type": "code",
   "execution_count": 191,
   "metadata": {},
   "outputs": [
    {
     "data": {
      "text/plain": [
       "(2722610, 11)"
      ]
     },
     "execution_count": 191,
     "metadata": {},
     "output_type": "execute_result"
    }
   ],
   "source": [
    "# shape of the data\n",
    "turnstiles_df.shape"
   ]
  },
  {
   "cell_type": "code",
   "execution_count": 192,
   "metadata": {},
   "outputs": [
    {
     "name": "stdout",
     "output_type": "stream",
     "text": [
      "<class 'pandas.core.frame.DataFrame'>\n",
      "Int64Index: 2722610 entries, 0 to 209067\n",
      "Data columns (total 11 columns):\n",
      " #   Column                                                                Non-Null Count    Dtype \n",
      "---  ------                                                                --------------    ----- \n",
      " 0   C/A                                                                   2722610 non-null  object\n",
      " 1   UNIT                                                                  2722610 non-null  object\n",
      " 2   SCP                                                                   2722610 non-null  object\n",
      " 3   STATION                                                               2722610 non-null  object\n",
      " 4   LINENAME                                                              2722610 non-null  object\n",
      " 5   DIVISION                                                              2722610 non-null  object\n",
      " 6   DATE                                                                  2722610 non-null  object\n",
      " 7   TIME                                                                  2722610 non-null  object\n",
      " 8   DESC                                                                  2722610 non-null  object\n",
      " 9   ENTRIES                                                               2722610 non-null  int64 \n",
      " 10  EXITS                                                                 2722610 non-null  int64 \n",
      "dtypes: int64(2), object(9)\n",
      "memory usage: 249.3+ MB\n"
     ]
    },
    {
     "name": "stderr",
     "output_type": "stream",
     "text": [
      "<ipython-input-192-aaf6c11ca5e4>:1: FutureWarning: null_counts is deprecated. Use show_counts instead\n",
      "  turnstiles_df.info(verbose=True, null_counts=True)\n"
     ]
    }
   ],
   "source": [
    "turnstiles_df.info(verbose=True, null_counts=True)"
   ]
  },
  {
   "cell_type": "code",
   "execution_count": 193,
   "metadata": {},
   "outputs": [
    {
     "data": {
      "text/plain": [
       "C/A                                                                     0\n",
       "UNIT                                                                    0\n",
       "SCP                                                                     0\n",
       "STATION                                                                 0\n",
       "LINENAME                                                                0\n",
       "DIVISION                                                                0\n",
       "DATE                                                                    0\n",
       "TIME                                                                    0\n",
       "DESC                                                                    0\n",
       "ENTRIES                                                                 0\n",
       "EXITS                                                                   0\n",
       "dtype: int64"
      ]
     },
     "execution_count": 193,
     "metadata": {},
     "output_type": "execute_result"
    }
   ],
   "source": [
    "# Check for null values\n",
    "turnstiles_df.isnull().sum()"
   ]
  },
  {
   "cell_type": "code",
   "execution_count": 194,
   "metadata": {},
   "outputs": [
    {
     "data": {
      "text/html": [
       "<div>\n",
       "<style scoped>\n",
       "    .dataframe tbody tr th:only-of-type {\n",
       "        vertical-align: middle;\n",
       "    }\n",
       "\n",
       "    .dataframe tbody tr th {\n",
       "        vertical-align: top;\n",
       "    }\n",
       "\n",
       "    .dataframe thead th {\n",
       "        text-align: right;\n",
       "    }\n",
       "</style>\n",
       "<table border=\"1\" class=\"dataframe\">\n",
       "  <thead>\n",
       "    <tr style=\"text-align: right;\">\n",
       "      <th></th>\n",
       "      <th>ENTRIES</th>\n",
       "      <th>EXITS</th>\n",
       "    </tr>\n",
       "  </thead>\n",
       "  <tbody>\n",
       "    <tr>\n",
       "      <th>count</th>\n",
       "      <td>2722610.000000</td>\n",
       "      <td>2722610.000000</td>\n",
       "    </tr>\n",
       "    <tr>\n",
       "      <th>mean</th>\n",
       "      <td>41682478.283552</td>\n",
       "      <td>33299464.892429</td>\n",
       "    </tr>\n",
       "    <tr>\n",
       "      <th>std</th>\n",
       "      <td>218514611.098471</td>\n",
       "      <td>191970607.404345</td>\n",
       "    </tr>\n",
       "    <tr>\n",
       "      <th>min</th>\n",
       "      <td>0.000000</td>\n",
       "      <td>0.000000</td>\n",
       "    </tr>\n",
       "    <tr>\n",
       "      <th>25%</th>\n",
       "      <td>217923.250000</td>\n",
       "      <td>99443.250000</td>\n",
       "    </tr>\n",
       "    <tr>\n",
       "      <th>50%</th>\n",
       "      <td>1405620.000000</td>\n",
       "      <td>855244.000000</td>\n",
       "    </tr>\n",
       "    <tr>\n",
       "      <th>75%</th>\n",
       "      <td>6023156.750000</td>\n",
       "      <td>3968192.500000</td>\n",
       "    </tr>\n",
       "    <tr>\n",
       "      <th>max</th>\n",
       "      <td>2147416896.000000</td>\n",
       "      <td>2122890258.000000</td>\n",
       "    </tr>\n",
       "  </tbody>\n",
       "</table>\n",
       "</div>"
      ],
      "text/plain": [
       "                ENTRIES  \\\n",
       "count    2722610.000000   \n",
       "mean    41682478.283552   \n",
       "std    218514611.098471   \n",
       "min            0.000000   \n",
       "25%       217923.250000   \n",
       "50%      1405620.000000   \n",
       "75%      6023156.750000   \n",
       "max   2147416896.000000   \n",
       "\n",
       "       EXITS                                                                 \n",
       "count                                     2722610.000000                     \n",
       "mean                                     33299464.892429                     \n",
       "std                                     191970607.404345                     \n",
       "min                                             0.000000                     \n",
       "25%                                         99443.250000                     \n",
       "50%                                        855244.000000                     \n",
       "75%                                       3968192.500000                     \n",
       "max                                    2122890258.000000                     "
      ]
     },
     "execution_count": 194,
     "metadata": {},
     "output_type": "execute_result"
    }
   ],
   "source": [
    "turnstiles_df.describe()"
   ]
  },
  {
   "cell_type": "markdown",
   "metadata": {},
   "source": [
    "**After viewing and studying the dataset we figure out the following:**\n",
    "\n",
    "- Turnstile count is recorded in a cumulative manner, indicating that data recorded increases constantly over time.\n",
    "- Dataset does not include day of the week (e.g. Sunday) so we will add 'DAY' column\n",
    "- Adding a Turnstile column instead of multiple columns that refers to one turnstile will be helpful for further analysis and visualization\n",
    "- We want to focus on regular audits rather than the recovered audits. To accomplish this, we will apply a mask to the frame.\n",
    "- Adding `DAILY_ENTRIES`, `DAILY_EXITS`,`DAILY_TRAFFIC` coulmns will be helpful\n",
    "- Adding `STATION_NAME` column is a good idea for ads!"
   ]
  },
  {
   "cell_type": "markdown",
   "metadata": {},
   "source": [
    "### Data Cleaning & Analysis"
   ]
  },
  {
   "cell_type": "code",
   "execution_count": 195,
   "metadata": {},
   "outputs": [
    {
     "data": {
      "text/plain": [
       "['C/A',\n",
       " 'UNIT',\n",
       " 'SCP',\n",
       " 'STATION',\n",
       " 'LINENAME',\n",
       " 'DIVISION',\n",
       " 'DATE',\n",
       " 'TIME',\n",
       " 'DESC',\n",
       " 'ENTRIES',\n",
       " 'EXITS                                                               ']"
      ]
     },
     "execution_count": 195,
     "metadata": {},
     "output_type": "execute_result"
    }
   ],
   "source": [
    "list(turnstiles_df) "
   ]
  },
  {
   "cell_type": "code",
   "execution_count": 196,
   "metadata": {},
   "outputs": [],
   "source": [
    "# Delete the tab from `EXITS       ` column\n",
    "turnstiles_df = turnstiles_df.rename(columns={'EXITS                                                               ':\"EXITS\"})"
   ]
  },
  {
   "cell_type": "code",
   "execution_count": 197,
   "metadata": {},
   "outputs": [
    {
     "data": {
      "text/plain": [
       "['C/A',\n",
       " 'UNIT',\n",
       " 'SCP',\n",
       " 'STATION',\n",
       " 'LINENAME',\n",
       " 'DIVISION',\n",
       " 'DATE',\n",
       " 'TIME',\n",
       " 'DESC',\n",
       " 'ENTRIES',\n",
       " 'EXITS']"
      ]
     },
     "execution_count": 197,
     "metadata": {},
     "output_type": "execute_result"
    }
   ],
   "source": [
    "list(turnstiles_df) "
   ]
  },
  {
   "cell_type": "code",
   "execution_count": 198,
   "metadata": {},
   "outputs": [
    {
     "data": {
      "text/plain": [
       "REGULAR       2710456\n",
       "RECOVR AUD      12154\n",
       "Name: DESC, dtype: int64"
      ]
     },
     "execution_count": 198,
     "metadata": {},
     "output_type": "execute_result"
    }
   ],
   "source": [
    "# Delete duplicates (drop RECOVR AUD from DESC column)\n",
    "turnstiles_df.DESC.value_counts()"
   ]
  },
  {
   "cell_type": "code",
   "execution_count": 199,
   "metadata": {},
   "outputs": [],
   "source": [
    "turnstiles_df = turnstiles_df[turnstiles_df['DESC'] == 'REGULAR']"
   ]
  },
  {
   "cell_type": "code",
   "execution_count": 200,
   "metadata": {},
   "outputs": [
    {
     "data": {
      "text/plain": [
       "REGULAR    2710456\n",
       "Name: DESC, dtype: int64"
      ]
     },
     "execution_count": 200,
     "metadata": {},
     "output_type": "execute_result"
    }
   ],
   "source": [
    "turnstiles_df.DESC.value_counts()"
   ]
  },
  {
   "cell_type": "code",
   "execution_count": 201,
   "metadata": {},
   "outputs": [],
   "source": [
    "# Adding \"TURNSTILE\" columns that concatenate 'C/A', 'UNIT', 'SCP'\n",
    "turnstiles_df['TURNSTILE'] = turnstiles_df['C/A'] + '-' + turnstiles_df['UNIT'] + '-' + turnstiles_df['SCP']"
   ]
  },
  {
   "cell_type": "code",
   "execution_count": 202,
   "metadata": {},
   "outputs": [],
   "source": [
    "# Filter the data to only daily entries and exits\n",
    "df_daily = (turnstiles_df.groupby(['TURNSTILE','DATE','STATION','LINENAME']).ENTRIES.max().reset_index())"
   ]
  },
  {
   "cell_type": "code",
   "execution_count": 203,
   "metadata": {},
   "outputs": [],
   "source": [
    "df_daily['EXITS'] = (turnstiles_df.groupby(['TURNSTILE']).EXITS.max().reset_index().EXITS)"
   ]
  },
  {
   "cell_type": "code",
   "execution_count": 204,
   "metadata": {},
   "outputs": [
    {
     "data": {
      "text/html": [
       "<div>\n",
       "<style scoped>\n",
       "    .dataframe tbody tr th:only-of-type {\n",
       "        vertical-align: middle;\n",
       "    }\n",
       "\n",
       "    .dataframe tbody tr th {\n",
       "        vertical-align: top;\n",
       "    }\n",
       "\n",
       "    .dataframe thead th {\n",
       "        text-align: right;\n",
       "    }\n",
       "</style>\n",
       "<table border=\"1\" class=\"dataframe\">\n",
       "  <thead>\n",
       "    <tr style=\"text-align: right;\">\n",
       "      <th></th>\n",
       "      <th>TURNSTILE</th>\n",
       "      <th>DATE</th>\n",
       "      <th>STATION</th>\n",
       "      <th>LINENAME</th>\n",
       "      <th>ENTRIES</th>\n",
       "      <th>EXITS</th>\n",
       "    </tr>\n",
       "  </thead>\n",
       "  <tbody>\n",
       "    <tr>\n",
       "      <th>0</th>\n",
       "      <td>A002-R051-02-00-00</td>\n",
       "      <td>05/29/2021</td>\n",
       "      <td>59 ST</td>\n",
       "      <td>NQR456W</td>\n",
       "      <td>7579021</td>\n",
       "      <td>2609102.000000</td>\n",
       "    </tr>\n",
       "    <tr>\n",
       "      <th>1</th>\n",
       "      <td>A002-R051-02-00-00</td>\n",
       "      <td>05/30/2021</td>\n",
       "      <td>59 ST</td>\n",
       "      <td>NQR456W</td>\n",
       "      <td>7579275</td>\n",
       "      <td>1540407.000000</td>\n",
       "    </tr>\n",
       "    <tr>\n",
       "      <th>2</th>\n",
       "      <td>A002-R051-02-00-00</td>\n",
       "      <td>05/31/2021</td>\n",
       "      <td>59 ST</td>\n",
       "      <td>NQR456W</td>\n",
       "      <td>7579593</td>\n",
       "      <td>5480635.000000</td>\n",
       "    </tr>\n",
       "    <tr>\n",
       "      <th>3</th>\n",
       "      <td>A002-R051-02-00-00</td>\n",
       "      <td>06/01/2021</td>\n",
       "      <td>59 ST</td>\n",
       "      <td>NQR456W</td>\n",
       "      <td>7580178</td>\n",
       "      <td>2569924.000000</td>\n",
       "    </tr>\n",
       "    <tr>\n",
       "      <th>4</th>\n",
       "      <td>A002-R051-02-00-00</td>\n",
       "      <td>06/02/2021</td>\n",
       "      <td>59 ST</td>\n",
       "      <td>NQR456W</td>\n",
       "      <td>7580754</td>\n",
       "      <td>90927.000000</td>\n",
       "    </tr>\n",
       "  </tbody>\n",
       "</table>\n",
       "</div>"
      ],
      "text/plain": [
       "            TURNSTILE        DATE STATION LINENAME  ENTRIES          EXITS\n",
       "0  A002-R051-02-00-00  05/29/2021   59 ST  NQR456W  7579021 2609102.000000\n",
       "1  A002-R051-02-00-00  05/30/2021   59 ST  NQR456W  7579275 1540407.000000\n",
       "2  A002-R051-02-00-00  05/31/2021   59 ST  NQR456W  7579593 5480635.000000\n",
       "3  A002-R051-02-00-00  06/01/2021   59 ST  NQR456W  7580178 2569924.000000\n",
       "4  A002-R051-02-00-00  06/02/2021   59 ST  NQR456W  7580754   90927.000000"
      ]
     },
     "execution_count": 204,
     "metadata": {},
     "output_type": "execute_result"
    }
   ],
   "source": [
    "df_daily.head()"
   ]
  },
  {
   "cell_type": "code",
   "execution_count": 205,
   "metadata": {},
   "outputs": [
    {
     "data": {
      "text/html": [
       "<div>\n",
       "<style scoped>\n",
       "    .dataframe tbody tr th:only-of-type {\n",
       "        vertical-align: middle;\n",
       "    }\n",
       "\n",
       "    .dataframe tbody tr th {\n",
       "        vertical-align: top;\n",
       "    }\n",
       "\n",
       "    .dataframe thead th {\n",
       "        text-align: right;\n",
       "    }\n",
       "</style>\n",
       "<table border=\"1\" class=\"dataframe\">\n",
       "  <thead>\n",
       "    <tr style=\"text-align: right;\">\n",
       "      <th></th>\n",
       "      <th>TURNSTILE</th>\n",
       "      <th>DATE</th>\n",
       "      <th>STATION</th>\n",
       "      <th>LINENAME</th>\n",
       "      <th>ENTRIES</th>\n",
       "      <th>EXITS</th>\n",
       "      <th>DAILY_ENTRIES</th>\n",
       "    </tr>\n",
       "  </thead>\n",
       "  <tbody>\n",
       "    <tr>\n",
       "      <th>0</th>\n",
       "      <td>A002-R051-02-00-00</td>\n",
       "      <td>05/29/2021</td>\n",
       "      <td>59 ST</td>\n",
       "      <td>NQR456W</td>\n",
       "      <td>7579021</td>\n",
       "      <td>2609102.000000</td>\n",
       "      <td>NaN</td>\n",
       "    </tr>\n",
       "    <tr>\n",
       "      <th>1</th>\n",
       "      <td>A002-R051-02-00-00</td>\n",
       "      <td>05/30/2021</td>\n",
       "      <td>59 ST</td>\n",
       "      <td>NQR456W</td>\n",
       "      <td>7579275</td>\n",
       "      <td>1540407.000000</td>\n",
       "      <td>254.000000</td>\n",
       "    </tr>\n",
       "    <tr>\n",
       "      <th>2</th>\n",
       "      <td>A002-R051-02-00-00</td>\n",
       "      <td>05/31/2021</td>\n",
       "      <td>59 ST</td>\n",
       "      <td>NQR456W</td>\n",
       "      <td>7579593</td>\n",
       "      <td>5480635.000000</td>\n",
       "      <td>318.000000</td>\n",
       "    </tr>\n",
       "    <tr>\n",
       "      <th>3</th>\n",
       "      <td>A002-R051-02-00-00</td>\n",
       "      <td>06/01/2021</td>\n",
       "      <td>59 ST</td>\n",
       "      <td>NQR456W</td>\n",
       "      <td>7580178</td>\n",
       "      <td>2569924.000000</td>\n",
       "      <td>585.000000</td>\n",
       "    </tr>\n",
       "    <tr>\n",
       "      <th>4</th>\n",
       "      <td>A002-R051-02-00-00</td>\n",
       "      <td>06/02/2021</td>\n",
       "      <td>59 ST</td>\n",
       "      <td>NQR456W</td>\n",
       "      <td>7580754</td>\n",
       "      <td>90927.000000</td>\n",
       "      <td>576.000000</td>\n",
       "    </tr>\n",
       "  </tbody>\n",
       "</table>\n",
       "</div>"
      ],
      "text/plain": [
       "            TURNSTILE        DATE STATION LINENAME  ENTRIES          EXITS  \\\n",
       "0  A002-R051-02-00-00  05/29/2021   59 ST  NQR456W  7579021 2609102.000000   \n",
       "1  A002-R051-02-00-00  05/30/2021   59 ST  NQR456W  7579275 1540407.000000   \n",
       "2  A002-R051-02-00-00  05/31/2021   59 ST  NQR456W  7579593 5480635.000000   \n",
       "3  A002-R051-02-00-00  06/01/2021   59 ST  NQR456W  7580178 2569924.000000   \n",
       "4  A002-R051-02-00-00  06/02/2021   59 ST  NQR456W  7580754   90927.000000   \n",
       "\n",
       "   DAILY_ENTRIES  \n",
       "0            NaN  \n",
       "1     254.000000  \n",
       "2     318.000000  \n",
       "3     585.000000  \n",
       "4     576.000000  "
      ]
     },
     "execution_count": 205,
     "metadata": {},
     "output_type": "execute_result"
    }
   ],
   "source": [
    "# Add Daily_entries coulmn by finding the diffrence from ENTRIES column \n",
    "\n",
    "df_daily['DAILY_ENTRIES']= df_daily['ENTRIES'].diff()\n",
    "\n",
    "df_daily.head()"
   ]
  },
  {
   "cell_type": "code",
   "execution_count": 206,
   "metadata": {},
   "outputs": [
    {
     "data": {
      "text/html": [
       "<div>\n",
       "<style scoped>\n",
       "    .dataframe tbody tr th:only-of-type {\n",
       "        vertical-align: middle;\n",
       "    }\n",
       "\n",
       "    .dataframe tbody tr th {\n",
       "        vertical-align: top;\n",
       "    }\n",
       "\n",
       "    .dataframe thead th {\n",
       "        text-align: right;\n",
       "    }\n",
       "</style>\n",
       "<table border=\"1\" class=\"dataframe\">\n",
       "  <thead>\n",
       "    <tr style=\"text-align: right;\">\n",
       "      <th></th>\n",
       "      <th>TURNSTILE</th>\n",
       "      <th>DATE</th>\n",
       "      <th>STATION</th>\n",
       "      <th>LINENAME</th>\n",
       "      <th>ENTRIES</th>\n",
       "      <th>EXITS</th>\n",
       "      <th>DAILY_ENTRIES</th>\n",
       "      <th>DAILY_EXITS</th>\n",
       "    </tr>\n",
       "  </thead>\n",
       "  <tbody>\n",
       "    <tr>\n",
       "      <th>0</th>\n",
       "      <td>A002-R051-02-00-00</td>\n",
       "      <td>05/29/2021</td>\n",
       "      <td>59 ST</td>\n",
       "      <td>NQR456W</td>\n",
       "      <td>7579021</td>\n",
       "      <td>2609102.000000</td>\n",
       "      <td>NaN</td>\n",
       "      <td>NaN</td>\n",
       "    </tr>\n",
       "    <tr>\n",
       "      <th>1</th>\n",
       "      <td>A002-R051-02-00-00</td>\n",
       "      <td>05/30/2021</td>\n",
       "      <td>59 ST</td>\n",
       "      <td>NQR456W</td>\n",
       "      <td>7579275</td>\n",
       "      <td>1540407.000000</td>\n",
       "      <td>254.000000</td>\n",
       "      <td>-1068695.000000</td>\n",
       "    </tr>\n",
       "    <tr>\n",
       "      <th>2</th>\n",
       "      <td>A002-R051-02-00-00</td>\n",
       "      <td>05/31/2021</td>\n",
       "      <td>59 ST</td>\n",
       "      <td>NQR456W</td>\n",
       "      <td>7579593</td>\n",
       "      <td>5480635.000000</td>\n",
       "      <td>318.000000</td>\n",
       "      <td>3940228.000000</td>\n",
       "    </tr>\n",
       "    <tr>\n",
       "      <th>3</th>\n",
       "      <td>A002-R051-02-00-00</td>\n",
       "      <td>06/01/2021</td>\n",
       "      <td>59 ST</td>\n",
       "      <td>NQR456W</td>\n",
       "      <td>7580178</td>\n",
       "      <td>2569924.000000</td>\n",
       "      <td>585.000000</td>\n",
       "      <td>-2910711.000000</td>\n",
       "    </tr>\n",
       "    <tr>\n",
       "      <th>4</th>\n",
       "      <td>A002-R051-02-00-00</td>\n",
       "      <td>06/02/2021</td>\n",
       "      <td>59 ST</td>\n",
       "      <td>NQR456W</td>\n",
       "      <td>7580754</td>\n",
       "      <td>90927.000000</td>\n",
       "      <td>576.000000</td>\n",
       "      <td>-2478997.000000</td>\n",
       "    </tr>\n",
       "  </tbody>\n",
       "</table>\n",
       "</div>"
      ],
      "text/plain": [
       "            TURNSTILE        DATE STATION LINENAME  ENTRIES          EXITS  \\\n",
       "0  A002-R051-02-00-00  05/29/2021   59 ST  NQR456W  7579021 2609102.000000   \n",
       "1  A002-R051-02-00-00  05/30/2021   59 ST  NQR456W  7579275 1540407.000000   \n",
       "2  A002-R051-02-00-00  05/31/2021   59 ST  NQR456W  7579593 5480635.000000   \n",
       "3  A002-R051-02-00-00  06/01/2021   59 ST  NQR456W  7580178 2569924.000000   \n",
       "4  A002-R051-02-00-00  06/02/2021   59 ST  NQR456W  7580754   90927.000000   \n",
       "\n",
       "   DAILY_ENTRIES     DAILY_EXITS  \n",
       "0            NaN             NaN  \n",
       "1     254.000000 -1068695.000000  \n",
       "2     318.000000  3940228.000000  \n",
       "3     585.000000 -2910711.000000  \n",
       "4     576.000000 -2478997.000000  "
      ]
     },
     "execution_count": 206,
     "metadata": {},
     "output_type": "execute_result"
    }
   ],
   "source": [
    "# Add Daily_exits coulmn by finding the diffrence from EXITS column\n",
    "df_daily['DAILY_EXITS']= df_daily['EXITS'].diff()\n",
    "df_daily.head()"
   ]
  },
  {
   "cell_type": "code",
   "execution_count": 207,
   "metadata": {},
   "outputs": [],
   "source": [
    "# Solve the negetive values on Daily_entries and Daily_exits\n",
    "df_daily['PREV_ENTRIES'] = df_daily['ENTRIES'].shift(1)\n",
    "df_daily['PREV_EXITS'] = df_daily['EXITS'].shift(1)"
   ]
  },
  {
   "cell_type": "code",
   "execution_count": 208,
   "metadata": {},
   "outputs": [],
   "source": [
    "def get_daily_counts(row, max_counter, name):\n",
    "    counter = row[name] - row[\"PREV_\"+name]\n",
    "    if counter < 0:\n",
    "        # Maybe counter is reversed?\n",
    "        counter = -counter\n",
    "    if counter > max_counter:\n",
    "        # Maybe counter was reset to 0? \n",
    "        counter = min(row[name], row[\"PREV_\"+name])\n",
    "    if counter > max_counter:\n",
    "        # Check it again to make sure we're not still giving a counter that's too big\n",
    "        return 0\n",
    "    return counter\n",
    "\n",
    "df_daily[\"DAILY_ENTRIES\"] = df_daily.apply(get_daily_counts, axis=1, max_counter=500000, name=\"ENTRIES\")\n",
    "df_daily[\"DAILY_EXITS\"] = df_daily.apply(get_daily_counts, axis=1, max_counter=500000, name=\"EXITS\")\n",
    "df_daily.dropna(inplace= True)\n"
   ]
  },
  {
   "cell_type": "markdown",
   "metadata": {},
   "source": [
    "Check Results"
   ]
  },
  {
   "cell_type": "code",
   "execution_count": 209,
   "metadata": {},
   "outputs": [
    {
     "data": {
      "text/html": [
       "<div>\n",
       "<style scoped>\n",
       "    .dataframe tbody tr th:only-of-type {\n",
       "        vertical-align: middle;\n",
       "    }\n",
       "\n",
       "    .dataframe tbody tr th {\n",
       "        vertical-align: top;\n",
       "    }\n",
       "\n",
       "    .dataframe thead th {\n",
       "        text-align: right;\n",
       "    }\n",
       "</style>\n",
       "<table border=\"1\" class=\"dataframe\">\n",
       "  <thead>\n",
       "    <tr style=\"text-align: right;\">\n",
       "      <th></th>\n",
       "      <th>TURNSTILE</th>\n",
       "      <th>DATE</th>\n",
       "      <th>STATION</th>\n",
       "      <th>LINENAME</th>\n",
       "      <th>ENTRIES</th>\n",
       "      <th>EXITS</th>\n",
       "      <th>DAILY_ENTRIES</th>\n",
       "      <th>DAILY_EXITS</th>\n",
       "      <th>PREV_ENTRIES</th>\n",
       "      <th>PREV_EXITS</th>\n",
       "    </tr>\n",
       "  </thead>\n",
       "  <tbody>\n",
       "  </tbody>\n",
       "</table>\n",
       "</div>"
      ],
      "text/plain": [
       "Empty DataFrame\n",
       "Columns: [TURNSTILE, DATE, STATION, LINENAME, ENTRIES, EXITS, DAILY_ENTRIES, DAILY_EXITS, PREV_ENTRIES, PREV_EXITS]\n",
       "Index: []"
      ]
     },
     "execution_count": 209,
     "metadata": {},
     "output_type": "execute_result"
    }
   ],
   "source": [
    "df_daily[((df_daily.ENTRIES ==0) & (df_daily.DAILY_ENTRIES < 0)) | (df_daily.ENTRIES ==0) & (df_daily.DAILY_EXITS < 0)].head()"
   ]
  },
  {
   "cell_type": "code",
   "execution_count": 210,
   "metadata": {},
   "outputs": [
    {
     "data": {
      "text/html": [
       "<div>\n",
       "<style scoped>\n",
       "    .dataframe tbody tr th:only-of-type {\n",
       "        vertical-align: middle;\n",
       "    }\n",
       "\n",
       "    .dataframe tbody tr th {\n",
       "        vertical-align: top;\n",
       "    }\n",
       "\n",
       "    .dataframe thead th {\n",
       "        text-align: right;\n",
       "    }\n",
       "</style>\n",
       "<table border=\"1\" class=\"dataframe\">\n",
       "  <thead>\n",
       "    <tr style=\"text-align: right;\">\n",
       "      <th></th>\n",
       "      <th>TURNSTILE</th>\n",
       "      <th>DATE</th>\n",
       "      <th>STATION</th>\n",
       "      <th>LINENAME</th>\n",
       "      <th>ENTRIES</th>\n",
       "      <th>EXITS</th>\n",
       "      <th>DAILY_ENTRIES</th>\n",
       "      <th>DAILY_EXITS</th>\n",
       "      <th>PREV_ENTRIES</th>\n",
       "      <th>PREV_EXITS</th>\n",
       "    </tr>\n",
       "  </thead>\n",
       "  <tbody>\n",
       "  </tbody>\n",
       "</table>\n",
       "</div>"
      ],
      "text/plain": [
       "Empty DataFrame\n",
       "Columns: [TURNSTILE, DATE, STATION, LINENAME, ENTRIES, EXITS, DAILY_ENTRIES, DAILY_EXITS, PREV_ENTRIES, PREV_EXITS]\n",
       "Index: []"
      ]
     },
     "execution_count": 210,
     "metadata": {},
     "output_type": "execute_result"
    }
   ],
   "source": [
    "df_daily[((df_daily.ENTRIES != 0) & (df_daily.DAILY_ENTRIES < 0)) | (df_daily.ENTRIES != 0) & (df_daily.DAILY_EXITS < 0)].head()"
   ]
  },
  {
   "cell_type": "code",
   "execution_count": 211,
   "metadata": {},
   "outputs": [],
   "source": [
    "# Add Daily_trafic coulmn by using Daily_exits + Daily_entries\n",
    "df_daily['DAILY_TRAFFIC']= df_daily['DAILY_ENTRIES'] + df_daily['DAILY_EXITS']\n"
   ]
  },
  {
   "cell_type": "code",
   "execution_count": 212,
   "metadata": {},
   "outputs": [
    {
     "data": {
      "text/html": [
       "<div>\n",
       "<style scoped>\n",
       "    .dataframe tbody tr th:only-of-type {\n",
       "        vertical-align: middle;\n",
       "    }\n",
       "\n",
       "    .dataframe tbody tr th {\n",
       "        vertical-align: top;\n",
       "    }\n",
       "\n",
       "    .dataframe thead th {\n",
       "        text-align: right;\n",
       "    }\n",
       "</style>\n",
       "<table border=\"1\" class=\"dataframe\">\n",
       "  <thead>\n",
       "    <tr style=\"text-align: right;\">\n",
       "      <th></th>\n",
       "      <th>TURNSTILE</th>\n",
       "      <th>DATE</th>\n",
       "      <th>STATION</th>\n",
       "      <th>LINENAME</th>\n",
       "      <th>ENTRIES</th>\n",
       "      <th>EXITS</th>\n",
       "      <th>DAILY_ENTRIES</th>\n",
       "      <th>DAILY_EXITS</th>\n",
       "      <th>PREV_ENTRIES</th>\n",
       "      <th>PREV_EXITS</th>\n",
       "      <th>DAILY_TRAFFIC</th>\n",
       "    </tr>\n",
       "  </thead>\n",
       "  <tbody>\n",
       "    <tr>\n",
       "      <th>1</th>\n",
       "      <td>A002-R051-02-00-00</td>\n",
       "      <td>05/30/2021</td>\n",
       "      <td>59 ST</td>\n",
       "      <td>NQR456W</td>\n",
       "      <td>7579275</td>\n",
       "      <td>1540407.000000</td>\n",
       "      <td>254.000000</td>\n",
       "      <td>0.000000</td>\n",
       "      <td>7579021.000000</td>\n",
       "      <td>2609102.000000</td>\n",
       "      <td>254.000000</td>\n",
       "    </tr>\n",
       "    <tr>\n",
       "      <th>2</th>\n",
       "      <td>A002-R051-02-00-00</td>\n",
       "      <td>05/31/2021</td>\n",
       "      <td>59 ST</td>\n",
       "      <td>NQR456W</td>\n",
       "      <td>7579593</td>\n",
       "      <td>5480635.000000</td>\n",
       "      <td>318.000000</td>\n",
       "      <td>0.000000</td>\n",
       "      <td>7579275.000000</td>\n",
       "      <td>1540407.000000</td>\n",
       "      <td>318.000000</td>\n",
       "    </tr>\n",
       "    <tr>\n",
       "      <th>3</th>\n",
       "      <td>A002-R051-02-00-00</td>\n",
       "      <td>06/01/2021</td>\n",
       "      <td>59 ST</td>\n",
       "      <td>NQR456W</td>\n",
       "      <td>7580178</td>\n",
       "      <td>2569924.000000</td>\n",
       "      <td>585.000000</td>\n",
       "      <td>0.000000</td>\n",
       "      <td>7579593.000000</td>\n",
       "      <td>5480635.000000</td>\n",
       "      <td>585.000000</td>\n",
       "    </tr>\n",
       "    <tr>\n",
       "      <th>4</th>\n",
       "      <td>A002-R051-02-00-00</td>\n",
       "      <td>06/02/2021</td>\n",
       "      <td>59 ST</td>\n",
       "      <td>NQR456W</td>\n",
       "      <td>7580754</td>\n",
       "      <td>90927.000000</td>\n",
       "      <td>576.000000</td>\n",
       "      <td>90927.000000</td>\n",
       "      <td>7580178.000000</td>\n",
       "      <td>2569924.000000</td>\n",
       "      <td>91503.000000</td>\n",
       "    </tr>\n",
       "    <tr>\n",
       "      <th>5</th>\n",
       "      <td>A002-R051-02-00-00</td>\n",
       "      <td>06/03/2021</td>\n",
       "      <td>59 ST</td>\n",
       "      <td>NQR456W</td>\n",
       "      <td>7581328</td>\n",
       "      <td>7047411.000000</td>\n",
       "      <td>574.000000</td>\n",
       "      <td>90927.000000</td>\n",
       "      <td>7580754.000000</td>\n",
       "      <td>90927.000000</td>\n",
       "      <td>91501.000000</td>\n",
       "    </tr>\n",
       "  </tbody>\n",
       "</table>\n",
       "</div>"
      ],
      "text/plain": [
       "            TURNSTILE        DATE STATION LINENAME  ENTRIES          EXITS  \\\n",
       "1  A002-R051-02-00-00  05/30/2021   59 ST  NQR456W  7579275 1540407.000000   \n",
       "2  A002-R051-02-00-00  05/31/2021   59 ST  NQR456W  7579593 5480635.000000   \n",
       "3  A002-R051-02-00-00  06/01/2021   59 ST  NQR456W  7580178 2569924.000000   \n",
       "4  A002-R051-02-00-00  06/02/2021   59 ST  NQR456W  7580754   90927.000000   \n",
       "5  A002-R051-02-00-00  06/03/2021   59 ST  NQR456W  7581328 7047411.000000   \n",
       "\n",
       "   DAILY_ENTRIES  DAILY_EXITS   PREV_ENTRIES     PREV_EXITS  DAILY_TRAFFIC  \n",
       "1     254.000000     0.000000 7579021.000000 2609102.000000     254.000000  \n",
       "2     318.000000     0.000000 7579275.000000 1540407.000000     318.000000  \n",
       "3     585.000000     0.000000 7579593.000000 5480635.000000     585.000000  \n",
       "4     576.000000 90927.000000 7580178.000000 2569924.000000   91503.000000  \n",
       "5     574.000000 90927.000000 7580754.000000   90927.000000   91501.000000  "
      ]
     },
     "execution_count": 212,
     "metadata": {},
     "output_type": "execute_result"
    }
   ],
   "source": [
    "df_daily.head()"
   ]
  },
  {
   "cell_type": "code",
   "execution_count": 213,
   "metadata": {},
   "outputs": [
    {
     "data": {
      "text/html": [
       "<div>\n",
       "<style scoped>\n",
       "    .dataframe tbody tr th:only-of-type {\n",
       "        vertical-align: middle;\n",
       "    }\n",
       "\n",
       "    .dataframe tbody tr th {\n",
       "        vertical-align: top;\n",
       "    }\n",
       "\n",
       "    .dataframe thead th {\n",
       "        text-align: right;\n",
       "    }\n",
       "</style>\n",
       "<table border=\"1\" class=\"dataframe\">\n",
       "  <thead>\n",
       "    <tr style=\"text-align: right;\">\n",
       "      <th></th>\n",
       "      <th>ENTRIES</th>\n",
       "      <th>EXITS</th>\n",
       "      <th>DAILY_ENTRIES</th>\n",
       "      <th>DAILY_EXITS</th>\n",
       "      <th>PREV_ENTRIES</th>\n",
       "      <th>PREV_EXITS</th>\n",
       "      <th>DAILY_TRAFFIC</th>\n",
       "    </tr>\n",
       "  </thead>\n",
       "  <tbody>\n",
       "    <tr>\n",
       "      <th>count</th>\n",
       "      <td>5016.000000</td>\n",
       "      <td>5016.000000</td>\n",
       "      <td>5016.000000</td>\n",
       "      <td>5016.000000</td>\n",
       "      <td>5016.000000</td>\n",
       "      <td>5016.000000</td>\n",
       "      <td>5016.000000</td>\n",
       "    </tr>\n",
       "    <tr>\n",
       "      <th>mean</th>\n",
       "      <td>21527853.671651</td>\n",
       "      <td>33944125.293860</td>\n",
       "      <td>1435.120215</td>\n",
       "      <td>92671.449960</td>\n",
       "      <td>21529352.570175</td>\n",
       "      <td>33944645.327352</td>\n",
       "      <td>94106.570175</td>\n",
       "    </tr>\n",
       "    <tr>\n",
       "      <th>std</th>\n",
       "      <td>118550825.688062</td>\n",
       "      <td>193348407.746224</td>\n",
       "      <td>18636.091196</td>\n",
       "      <td>134411.852349</td>\n",
       "      <td>118550601.741570</td>\n",
       "      <td>193348319.940816</td>\n",
       "      <td>135497.472483</td>\n",
       "    </tr>\n",
       "    <tr>\n",
       "      <th>min</th>\n",
       "      <td>0.000000</td>\n",
       "      <td>0.000000</td>\n",
       "      <td>0.000000</td>\n",
       "      <td>0.000000</td>\n",
       "      <td>0.000000</td>\n",
       "      <td>0.000000</td>\n",
       "      <td>0.000000</td>\n",
       "    </tr>\n",
       "    <tr>\n",
       "      <th>25%</th>\n",
       "      <td>128260.250000</td>\n",
       "      <td>117385.250000</td>\n",
       "      <td>164.750000</td>\n",
       "      <td>0.000000</td>\n",
       "      <td>128706.000000</td>\n",
       "      <td>117474.750000</td>\n",
       "      <td>358.750000</td>\n",
       "    </tr>\n",
       "    <tr>\n",
       "      <th>50%</th>\n",
       "      <td>1438631.000000</td>\n",
       "      <td>878130.500000</td>\n",
       "      <td>304.000000</td>\n",
       "      <td>12309.000000</td>\n",
       "      <td>1438831.500000</td>\n",
       "      <td>880334.500000</td>\n",
       "      <td>13718.500000</td>\n",
       "    </tr>\n",
       "    <tr>\n",
       "      <th>75%</th>\n",
       "      <td>6220017.750000</td>\n",
       "      <td>4007527.750000</td>\n",
       "      <td>470.000000</td>\n",
       "      <td>146559.500000</td>\n",
       "      <td>6220232.250000</td>\n",
       "      <td>4007527.750000</td>\n",
       "      <td>147896.500000</td>\n",
       "    </tr>\n",
       "    <tr>\n",
       "      <th>max</th>\n",
       "      <td>885601748.000000</td>\n",
       "      <td>2122890258.000000</td>\n",
       "      <td>491229.000000</td>\n",
       "      <td>499413.000000</td>\n",
       "      <td>885601748.000000</td>\n",
       "      <td>2122890258.000000</td>\n",
       "      <td>578897.000000</td>\n",
       "    </tr>\n",
       "  </tbody>\n",
       "</table>\n",
       "</div>"
      ],
      "text/plain": [
       "               ENTRIES             EXITS  DAILY_ENTRIES   DAILY_EXITS  \\\n",
       "count      5016.000000       5016.000000    5016.000000   5016.000000   \n",
       "mean   21527853.671651   33944125.293860    1435.120215  92671.449960   \n",
       "std   118550825.688062  193348407.746224   18636.091196 134411.852349   \n",
       "min           0.000000          0.000000       0.000000      0.000000   \n",
       "25%      128260.250000     117385.250000     164.750000      0.000000   \n",
       "50%     1438631.000000     878130.500000     304.000000  12309.000000   \n",
       "75%     6220017.750000    4007527.750000     470.000000 146559.500000   \n",
       "max   885601748.000000 2122890258.000000  491229.000000 499413.000000   \n",
       "\n",
       "          PREV_ENTRIES        PREV_EXITS  DAILY_TRAFFIC  \n",
       "count      5016.000000       5016.000000    5016.000000  \n",
       "mean   21529352.570175   33944645.327352   94106.570175  \n",
       "std   118550601.741570  193348319.940816  135497.472483  \n",
       "min           0.000000          0.000000       0.000000  \n",
       "25%      128706.000000     117474.750000     358.750000  \n",
       "50%     1438831.500000     880334.500000   13718.500000  \n",
       "75%     6220232.250000    4007527.750000  147896.500000  \n",
       "max   885601748.000000 2122890258.000000  578897.000000  "
      ]
     },
     "execution_count": 213,
     "metadata": {},
     "output_type": "execute_result"
    }
   ],
   "source": [
    "df_daily.describe()"
   ]
  },
  {
   "cell_type": "code",
   "execution_count": 214,
   "metadata": {},
   "outputs": [],
   "source": [
    "# convert date to day_of_week and month\n",
    "df_daily['DATE'] = pd.to_datetime(df_daily['DATE'])\n",
    "df_daily['MONTH'] = df_daily['DATE'].apply(lambda x: x.strftime('%B').lower())\n",
    "# df_daily['DAY'] = df_daily['DATE'].apply(lambda x: x.strftime('%A').lower())"
   ]
  },
  {
   "cell_type": "code",
   "execution_count": 215,
   "metadata": {},
   "outputs": [],
   "source": [
    "import datetime\n",
    "df_daily['DAY'] = df_daily[['DATE']]\\\n",
    "    .apply(lambda x: datetime.datetime.strftime(x['DATE'], '%A'), axis=1)"
   ]
  },
  {
   "cell_type": "code",
   "execution_count": 216,
   "metadata": {},
   "outputs": [
    {
     "data": {
      "text/html": [
       "<div>\n",
       "<style scoped>\n",
       "    .dataframe tbody tr th:only-of-type {\n",
       "        vertical-align: middle;\n",
       "    }\n",
       "\n",
       "    .dataframe tbody tr th {\n",
       "        vertical-align: top;\n",
       "    }\n",
       "\n",
       "    .dataframe thead th {\n",
       "        text-align: right;\n",
       "    }\n",
       "</style>\n",
       "<table border=\"1\" class=\"dataframe\">\n",
       "  <thead>\n",
       "    <tr style=\"text-align: right;\">\n",
       "      <th></th>\n",
       "      <th>TURNSTILE</th>\n",
       "      <th>DATE</th>\n",
       "      <th>STATION</th>\n",
       "      <th>LINENAME</th>\n",
       "      <th>ENTRIES</th>\n",
       "      <th>EXITS</th>\n",
       "      <th>DAILY_ENTRIES</th>\n",
       "      <th>DAILY_EXITS</th>\n",
       "      <th>PREV_ENTRIES</th>\n",
       "      <th>PREV_EXITS</th>\n",
       "      <th>DAILY_TRAFFIC</th>\n",
       "      <th>MONTH</th>\n",
       "      <th>DAY</th>\n",
       "    </tr>\n",
       "  </thead>\n",
       "  <tbody>\n",
       "    <tr>\n",
       "      <th>1</th>\n",
       "      <td>A002-R051-02-00-00</td>\n",
       "      <td>2021-05-30</td>\n",
       "      <td>59 ST</td>\n",
       "      <td>NQR456W</td>\n",
       "      <td>7579275</td>\n",
       "      <td>1540407.000000</td>\n",
       "      <td>254.000000</td>\n",
       "      <td>0.000000</td>\n",
       "      <td>7579021.000000</td>\n",
       "      <td>2609102.000000</td>\n",
       "      <td>254.000000</td>\n",
       "      <td>may</td>\n",
       "      <td>Sunday</td>\n",
       "    </tr>\n",
       "    <tr>\n",
       "      <th>2</th>\n",
       "      <td>A002-R051-02-00-00</td>\n",
       "      <td>2021-05-31</td>\n",
       "      <td>59 ST</td>\n",
       "      <td>NQR456W</td>\n",
       "      <td>7579593</td>\n",
       "      <td>5480635.000000</td>\n",
       "      <td>318.000000</td>\n",
       "      <td>0.000000</td>\n",
       "      <td>7579275.000000</td>\n",
       "      <td>1540407.000000</td>\n",
       "      <td>318.000000</td>\n",
       "      <td>may</td>\n",
       "      <td>Monday</td>\n",
       "    </tr>\n",
       "    <tr>\n",
       "      <th>3</th>\n",
       "      <td>A002-R051-02-00-00</td>\n",
       "      <td>2021-06-01</td>\n",
       "      <td>59 ST</td>\n",
       "      <td>NQR456W</td>\n",
       "      <td>7580178</td>\n",
       "      <td>2569924.000000</td>\n",
       "      <td>585.000000</td>\n",
       "      <td>0.000000</td>\n",
       "      <td>7579593.000000</td>\n",
       "      <td>5480635.000000</td>\n",
       "      <td>585.000000</td>\n",
       "      <td>june</td>\n",
       "      <td>Tuesday</td>\n",
       "    </tr>\n",
       "    <tr>\n",
       "      <th>4</th>\n",
       "      <td>A002-R051-02-00-00</td>\n",
       "      <td>2021-06-02</td>\n",
       "      <td>59 ST</td>\n",
       "      <td>NQR456W</td>\n",
       "      <td>7580754</td>\n",
       "      <td>90927.000000</td>\n",
       "      <td>576.000000</td>\n",
       "      <td>90927.000000</td>\n",
       "      <td>7580178.000000</td>\n",
       "      <td>2569924.000000</td>\n",
       "      <td>91503.000000</td>\n",
       "      <td>june</td>\n",
       "      <td>Wednesday</td>\n",
       "    </tr>\n",
       "    <tr>\n",
       "      <th>5</th>\n",
       "      <td>A002-R051-02-00-00</td>\n",
       "      <td>2021-06-03</td>\n",
       "      <td>59 ST</td>\n",
       "      <td>NQR456W</td>\n",
       "      <td>7581328</td>\n",
       "      <td>7047411.000000</td>\n",
       "      <td>574.000000</td>\n",
       "      <td>90927.000000</td>\n",
       "      <td>7580754.000000</td>\n",
       "      <td>90927.000000</td>\n",
       "      <td>91501.000000</td>\n",
       "      <td>june</td>\n",
       "      <td>Thursday</td>\n",
       "    </tr>\n",
       "  </tbody>\n",
       "</table>\n",
       "</div>"
      ],
      "text/plain": [
       "            TURNSTILE       DATE STATION LINENAME  ENTRIES          EXITS  \\\n",
       "1  A002-R051-02-00-00 2021-05-30   59 ST  NQR456W  7579275 1540407.000000   \n",
       "2  A002-R051-02-00-00 2021-05-31   59 ST  NQR456W  7579593 5480635.000000   \n",
       "3  A002-R051-02-00-00 2021-06-01   59 ST  NQR456W  7580178 2569924.000000   \n",
       "4  A002-R051-02-00-00 2021-06-02   59 ST  NQR456W  7580754   90927.000000   \n",
       "5  A002-R051-02-00-00 2021-06-03   59 ST  NQR456W  7581328 7047411.000000   \n",
       "\n",
       "   DAILY_ENTRIES  DAILY_EXITS   PREV_ENTRIES     PREV_EXITS  DAILY_TRAFFIC  \\\n",
       "1     254.000000     0.000000 7579021.000000 2609102.000000     254.000000   \n",
       "2     318.000000     0.000000 7579275.000000 1540407.000000     318.000000   \n",
       "3     585.000000     0.000000 7579593.000000 5480635.000000     585.000000   \n",
       "4     576.000000 90927.000000 7580178.000000 2569924.000000   91503.000000   \n",
       "5     574.000000 90927.000000 7580754.000000   90927.000000   91501.000000   \n",
       "\n",
       "  MONTH        DAY  \n",
       "1   may     Sunday  \n",
       "2   may     Monday  \n",
       "3  june    Tuesday  \n",
       "4  june  Wednesday  \n",
       "5  june   Thursday  "
      ]
     },
     "execution_count": 216,
     "metadata": {},
     "output_type": "execute_result"
    }
   ],
   "source": [
    "df_daily.head()"
   ]
  },
  {
   "cell_type": "code",
   "execution_count": 217,
   "metadata": {},
   "outputs": [
    {
     "data": {
      "text/plain": [
       "Sunday       719\n",
       "Wednesday    719\n",
       "Monday       719\n",
       "Thursday     719\n",
       "Tuesday      718\n",
       "Friday       718\n",
       "Saturday     704\n",
       "Name: DAY, dtype: int64"
      ]
     },
     "execution_count": 217,
     "metadata": {},
     "output_type": "execute_result"
    }
   ],
   "source": [
    "df_daily.DAY.value_counts()"
   ]
  },
  {
   "cell_type": "code",
   "execution_count": 218,
   "metadata": {
    "scrolled": true
   },
   "outputs": [
    {
     "name": "stdout",
     "output_type": "stream",
     "text": [
      "<class 'pandas.core.frame.DataFrame'>\n",
      "Int64Index: 5016 entries, 1 to 5016\n",
      "Data columns (total 13 columns):\n",
      " #   Column         Non-Null Count  Dtype         \n",
      "---  ------         --------------  -----         \n",
      " 0   TURNSTILE      5016 non-null   object        \n",
      " 1   DATE           5016 non-null   datetime64[ns]\n",
      " 2   STATION        5016 non-null   object        \n",
      " 3   LINENAME       5016 non-null   object        \n",
      " 4   ENTRIES        5016 non-null   int64         \n",
      " 5   EXITS          5016 non-null   float64       \n",
      " 6   DAILY_ENTRIES  5016 non-null   float64       \n",
      " 7   DAILY_EXITS    5016 non-null   float64       \n",
      " 8   PREV_ENTRIES   5016 non-null   float64       \n",
      " 9   PREV_EXITS     5016 non-null   float64       \n",
      " 10  DAILY_TRAFFIC  5016 non-null   float64       \n",
      " 11  MONTH          5016 non-null   object        \n",
      " 12  DAY            5016 non-null   object        \n",
      "dtypes: datetime64[ns](1), float64(6), int64(1), object(5)\n",
      "memory usage: 548.6+ KB\n"
     ]
    }
   ],
   "source": [
    "df_daily.info()"
   ]
  },
  {
   "cell_type": "markdown",
   "metadata": {},
   "source": [
    "Mean of numerical columns in data"
   ]
  },
  {
   "cell_type": "code",
   "execution_count": 220,
   "metadata": {},
   "outputs": [
    {
     "name": "stderr",
     "output_type": "stream",
     "text": [
      "<ipython-input-220-3d13a8ff2500>:1: FutureWarning: DataFrame.mean and DataFrame.median with numeric_only=None will include datetime64 and datetime64tz columns in a future version.\n",
      "  df_daily.mean()\n"
     ]
    },
    {
     "data": {
      "text/plain": [
       "ENTRIES         21527853.671651\n",
       "EXITS           33944125.293860\n",
       "DAILY_ENTRIES       1435.120215\n",
       "DAILY_EXITS        92671.449960\n",
       "PREV_ENTRIES    21529352.570175\n",
       "PREV_EXITS      33944645.327352\n",
       "DAILY_TRAFFIC      94106.570175\n",
       "dtype: float64"
      ]
     },
     "execution_count": 220,
     "metadata": {},
     "output_type": "execute_result"
    }
   ],
   "source": [
    "df_daily.mean()"
   ]
  },
  {
   "cell_type": "markdown",
   "metadata": {},
   "source": [
    "Variance for each numerical column in the data"
   ]
  },
  {
   "cell_type": "code",
   "execution_count": 238,
   "metadata": {},
   "outputs": [
    {
     "data": {
      "text/plain": [
       "ENTRIES         14054298271321338.000000\n",
       "EXITS           37383606778000184.000000\n",
       "DAILY_ENTRIES           347303895.048962\n",
       "DAILY_EXITS           18066546051.766121\n",
       "DAILY_TRAFFIC         18359565049.194412\n",
       "dtype: float64"
      ]
     },
     "execution_count": 238,
     "metadata": {},
     "output_type": "execute_result"
    }
   ],
   "source": [
    "df_daily.var()"
   ]
  },
  {
   "cell_type": "code",
   "execution_count": 221,
   "metadata": {},
   "outputs": [],
   "source": [
    "#drop unwanted columns\n",
    "df_daily.drop(['PREV_EXITS', 'PREV_ENTRIES'], axis='columns', inplace=True)"
   ]
  },
  {
   "cell_type": "markdown",
   "metadata": {},
   "source": [
    "Plot the distribution of the Daily Traffic"
   ]
  },
  {
   "cell_type": "code",
   "execution_count": 226,
   "metadata": {
    "scrolled": true
   },
   "outputs": [
    {
     "name": "stderr",
     "output_type": "stream",
     "text": [
      "C:\\Users\\hp\\anaconda3\\lib\\site-packages\\seaborn\\distributions.py:2619: FutureWarning: `distplot` is a deprecated function and will be removed in a future version. Please adapt your code to use either `displot` (a figure-level function with similar flexibility) or `histplot` (an axes-level function for histograms).\n",
      "  warnings.warn(msg, FutureWarning)\n"
     ]
    },
    {
     "data": {
      "image/png": "[encoded data removed]",
      "text/plain": [
       "<Figure size 432x288 with 1 Axes>"
      ]
     },
     "metadata": {
      "needs_background": "light"
     },
     "output_type": "display_data"
    }
   ],
   "source": [
    "sns.distplot(df_daily[\"DAILY_TRAFFIC\"],kde=True,bins=15);"
   ]
  },
  {
   "cell_type": "markdown",
   "metadata": {},
   "source": [
    "The distribution of the daily traffic is abnormal and negatively-skewed"
   ]
  },
  {
   "cell_type": "code",
   "execution_count": 277,
   "metadata": {},
   "outputs": [
    {
     "data": {
      "text/plain": [
       "57 ST-7 AV    1820\n",
       "5 AV/59 ST    1260\n",
       "59 ST         1091\n",
       "49 ST          845\n",
       "Name: STATION, dtype: int64"
      ]
     },
     "execution_count": 277,
     "metadata": {},
     "output_type": "execute_result"
    }
   ],
   "source": [
    "df_daily['STATION'].value_counts()"
   ]
  },
  {
   "cell_type": "code",
   "execution_count": 278,
   "metadata": {},
   "outputs": [],
   "source": [
    "#define function to name stations based on STATION column\n",
    "def f(row):\n",
    "    if row['STATION'] == '57 ST-7 AV':\n",
    "        val = '57th St-Seventh Avenue'\n",
    "    elif row['STATION'] == '5 AV/59 ST':\n",
    "        val = '5th Avenue & Central Park'\n",
    "    elif row['STATION'] =='59 ST':\n",
    "        val = '59th Street'\n",
    "    else:\n",
    "        val = '49th St & Times Square'\n",
    "    return val\n",
    "\n",
    "#create new column refers to the station name\n",
    "df_daily['STATION_NAME'] = df_daily.apply(f, axis=1)"
   ]
  },
  {
   "cell_type": "code",
   "execution_count": 284,
   "metadata": {},
   "outputs": [
    {
     "data": {
      "text/plain": [
       "57th St-Seventh Avenue       1820\n",
       "5th Avenue & Central Park    1260\n",
       "59th Street                  1091\n",
       "49th St & Times Square        845\n",
       "Name: STATION_NAME, dtype: int64"
      ]
     },
     "execution_count": 284,
     "metadata": {},
     "output_type": "execute_result"
    }
   ],
   "source": [
    "df_daily['STATION_NAME'].value_counts()"
   ]
  },
  {
   "cell_type": "markdown",
   "metadata": {},
   "source": [
    "**Using SQL to get more statstics**"
   ]
  },
  {
   "cell_type": "code",
   "execution_count": 239,
   "metadata": {},
   "outputs": [],
   "source": [
    "from sqlalchemy import create_engine\n",
    "\n",
    "eng= create_engine('sqlite://', echo=False)\n",
    "df_daily.to_sql(\"mta\", con=eng)"
   ]
  },
  {
   "cell_type": "code",
   "execution_count": 241,
   "metadata": {},
   "outputs": [
    {
     "data": {
      "text/html": [
       "<div>\n",
       "<style scoped>\n",
       "    .dataframe tbody tr th:only-of-type {\n",
       "        vertical-align: middle;\n",
       "    }\n",
       "\n",
       "    .dataframe tbody tr th {\n",
       "        vertical-align: top;\n",
       "    }\n",
       "\n",
       "    .dataframe thead th {\n",
       "        text-align: right;\n",
       "    }\n",
       "</style>\n",
       "<table border=\"1\" class=\"dataframe\">\n",
       "  <thead>\n",
       "    <tr style=\"text-align: right;\">\n",
       "      <th></th>\n",
       "      <th>index</th>\n",
       "      <th>TURNSTILE</th>\n",
       "      <th>DATE</th>\n",
       "      <th>STATION</th>\n",
       "      <th>LINENAME</th>\n",
       "      <th>ENTRIES</th>\n",
       "      <th>EXITS</th>\n",
       "      <th>DAILY_ENTRIES</th>\n",
       "      <th>DAILY_EXITS</th>\n",
       "      <th>DAILY_TRAFFIC</th>\n",
       "      <th>MONTH</th>\n",
       "      <th>DAY</th>\n",
       "    </tr>\n",
       "  </thead>\n",
       "  <tbody>\n",
       "    <tr>\n",
       "      <th>0</th>\n",
       "      <td>1</td>\n",
       "      <td>A002-R051-02-00-00</td>\n",
       "      <td>2021-05-30 00:00:00.000000</td>\n",
       "      <td>59 ST</td>\n",
       "      <td>NQR456W</td>\n",
       "      <td>7579275</td>\n",
       "      <td>1540407.000000</td>\n",
       "      <td>254.000000</td>\n",
       "      <td>0.000000</td>\n",
       "      <td>254.000000</td>\n",
       "      <td>may</td>\n",
       "      <td>Sunday</td>\n",
       "    </tr>\n",
       "    <tr>\n",
       "      <th>1</th>\n",
       "      <td>2</td>\n",
       "      <td>A002-R051-02-00-00</td>\n",
       "      <td>2021-05-31 00:00:00.000000</td>\n",
       "      <td>59 ST</td>\n",
       "      <td>NQR456W</td>\n",
       "      <td>7579593</td>\n",
       "      <td>5480635.000000</td>\n",
       "      <td>318.000000</td>\n",
       "      <td>0.000000</td>\n",
       "      <td>318.000000</td>\n",
       "      <td>may</td>\n",
       "      <td>Monday</td>\n",
       "    </tr>\n",
       "    <tr>\n",
       "      <th>2</th>\n",
       "      <td>3</td>\n",
       "      <td>A002-R051-02-00-00</td>\n",
       "      <td>2021-06-01 00:00:00.000000</td>\n",
       "      <td>59 ST</td>\n",
       "      <td>NQR456W</td>\n",
       "      <td>7580178</td>\n",
       "      <td>2569924.000000</td>\n",
       "      <td>585.000000</td>\n",
       "      <td>0.000000</td>\n",
       "      <td>585.000000</td>\n",
       "      <td>june</td>\n",
       "      <td>Tuesday</td>\n",
       "    </tr>\n",
       "    <tr>\n",
       "      <th>3</th>\n",
       "      <td>4</td>\n",
       "      <td>A002-R051-02-00-00</td>\n",
       "      <td>2021-06-02 00:00:00.000000</td>\n",
       "      <td>59 ST</td>\n",
       "      <td>NQR456W</td>\n",
       "      <td>7580754</td>\n",
       "      <td>90927.000000</td>\n",
       "      <td>576.000000</td>\n",
       "      <td>90927.000000</td>\n",
       "      <td>91503.000000</td>\n",
       "      <td>june</td>\n",
       "      <td>Wednesday</td>\n",
       "    </tr>\n",
       "    <tr>\n",
       "      <th>4</th>\n",
       "      <td>5</td>\n",
       "      <td>A002-R051-02-00-00</td>\n",
       "      <td>2021-06-03 00:00:00.000000</td>\n",
       "      <td>59 ST</td>\n",
       "      <td>NQR456W</td>\n",
       "      <td>7581328</td>\n",
       "      <td>7047411.000000</td>\n",
       "      <td>574.000000</td>\n",
       "      <td>90927.000000</td>\n",
       "      <td>91501.000000</td>\n",
       "      <td>june</td>\n",
       "      <td>Thursday</td>\n",
       "    </tr>\n",
       "  </tbody>\n",
       "</table>\n",
       "</div>"
      ],
      "text/plain": [
       "   index           TURNSTILE                        DATE STATION LINENAME  \\\n",
       "0      1  A002-R051-02-00-00  2021-05-30 00:00:00.000000   59 ST  NQR456W   \n",
       "1      2  A002-R051-02-00-00  2021-05-31 00:00:00.000000   59 ST  NQR456W   \n",
       "2      3  A002-R051-02-00-00  2021-06-01 00:00:00.000000   59 ST  NQR456W   \n",
       "3      4  A002-R051-02-00-00  2021-06-02 00:00:00.000000   59 ST  NQR456W   \n",
       "4      5  A002-R051-02-00-00  2021-06-03 00:00:00.000000   59 ST  NQR456W   \n",
       "\n",
       "   ENTRIES          EXITS  DAILY_ENTRIES  DAILY_EXITS  DAILY_TRAFFIC MONTH  \\\n",
       "0  7579275 1540407.000000     254.000000     0.000000     254.000000   may   \n",
       "1  7579593 5480635.000000     318.000000     0.000000     318.000000   may   \n",
       "2  7580178 2569924.000000     585.000000     0.000000     585.000000  june   \n",
       "3  7580754   90927.000000     576.000000 90927.000000   91503.000000  june   \n",
       "4  7581328 7047411.000000     574.000000 90927.000000   91501.000000  june   \n",
       "\n",
       "         DAY  \n",
       "0     Sunday  \n",
       "1     Monday  \n",
       "2    Tuesday  \n",
       "3  Wednesday  \n",
       "4   Thursday  "
      ]
     },
     "execution_count": 241,
     "metadata": {},
     "output_type": "execute_result"
    }
   ],
   "source": [
    "x=pd.read_sql('SELECT * FROM mta limit 5;', eng)\n",
    "x"
   ]
  },
  {
   "cell_type": "code",
   "execution_count": 248,
   "metadata": {},
   "outputs": [
    {
     "data": {
      "text/html": [
       "<div>\n",
       "<style scoped>\n",
       "    .dataframe tbody tr th:only-of-type {\n",
       "        vertical-align: middle;\n",
       "    }\n",
       "\n",
       "    .dataframe tbody tr th {\n",
       "        vertical-align: top;\n",
       "    }\n",
       "\n",
       "    .dataframe thead th {\n",
       "        text-align: right;\n",
       "    }\n",
       "</style>\n",
       "<table border=\"1\" class=\"dataframe\">\n",
       "  <thead>\n",
       "    <tr style=\"text-align: right;\">\n",
       "      <th></th>\n",
       "      <th>STATION</th>\n",
       "      <th>TRAFFIC</th>\n",
       "    </tr>\n",
       "  </thead>\n",
       "  <tbody>\n",
       "    <tr>\n",
       "      <th>0</th>\n",
       "      <td>57 ST-7 AV</td>\n",
       "      <td>171848931.000000</td>\n",
       "    </tr>\n",
       "    <tr>\n",
       "      <th>1</th>\n",
       "      <td>5 AV/59 ST</td>\n",
       "      <td>122045637.000000</td>\n",
       "    </tr>\n",
       "    <tr>\n",
       "      <th>2</th>\n",
       "      <td>59 ST</td>\n",
       "      <td>102547068.000000</td>\n",
       "    </tr>\n",
       "    <tr>\n",
       "      <th>3</th>\n",
       "      <td>49 ST</td>\n",
       "      <td>75596920.000000</td>\n",
       "    </tr>\n",
       "  </tbody>\n",
       "</table>\n",
       "</div>"
      ],
      "text/plain": [
       "      STATION          TRAFFIC\n",
       "0  57 ST-7 AV 171848931.000000\n",
       "1  5 AV/59 ST 122045637.000000\n",
       "2       59 ST 102547068.000000\n",
       "3       49 ST  75596920.000000"
      ]
     },
     "execution_count": 248,
     "metadata": {},
     "output_type": "execute_result"
    }
   ],
   "source": [
    "st=pd.read_sql('SELECT STATION, sum(DAILY_TRAFFIC) as TRAFFIC FROM mta GROUP BY STATION ORDER BY TRAFFIC DESC limit 4;', eng)\n",
    "st"
   ]
  },
  {
   "cell_type": "markdown",
   "metadata": {},
   "source": [
    "'57 ST-7 AV' station is the most crowded among the 4 stations"
   ]
  },
  {
   "cell_type": "code",
   "execution_count": 253,
   "metadata": {},
   "outputs": [
    {
     "data": {
      "text/html": [
       "<div>\n",
       "<style scoped>\n",
       "    .dataframe tbody tr th:only-of-type {\n",
       "        vertical-align: middle;\n",
       "    }\n",
       "\n",
       "    .dataframe tbody tr th {\n",
       "        vertical-align: top;\n",
       "    }\n",
       "\n",
       "    .dataframe thead th {\n",
       "        text-align: right;\n",
       "    }\n",
       "</style>\n",
       "<table border=\"1\" class=\"dataframe\">\n",
       "  <thead>\n",
       "    <tr style=\"text-align: right;\">\n",
       "      <th></th>\n",
       "      <th>STATION</th>\n",
       "      <th>MONTH</th>\n",
       "      <th>TRAFFIC</th>\n",
       "    </tr>\n",
       "  </thead>\n",
       "  <tbody>\n",
       "    <tr>\n",
       "      <th>0</th>\n",
       "      <td>57 ST-7 AV</td>\n",
       "      <td>may</td>\n",
       "      <td>171848931.000000</td>\n",
       "    </tr>\n",
       "    <tr>\n",
       "      <th>1</th>\n",
       "      <td>5 AV/59 ST</td>\n",
       "      <td>may</td>\n",
       "      <td>122045637.000000</td>\n",
       "    </tr>\n",
       "    <tr>\n",
       "      <th>2</th>\n",
       "      <td>59 ST</td>\n",
       "      <td>may</td>\n",
       "      <td>102547068.000000</td>\n",
       "    </tr>\n",
       "    <tr>\n",
       "      <th>3</th>\n",
       "      <td>49 ST</td>\n",
       "      <td>may</td>\n",
       "      <td>75596920.000000</td>\n",
       "    </tr>\n",
       "  </tbody>\n",
       "</table>\n",
       "</div>"
      ],
      "text/plain": [
       "      STATION MONTH          TRAFFIC\n",
       "0  57 ST-7 AV   may 171848931.000000\n",
       "1  5 AV/59 ST   may 122045637.000000\n",
       "2       59 ST   may 102547068.000000\n",
       "3       49 ST   may  75596920.000000"
      ]
     },
     "execution_count": 253,
     "metadata": {},
     "output_type": "execute_result"
    }
   ],
   "source": [
    "s=pd.read_sql('SELECT STATION,MONTH, sum(DAILY_TRAFFIC) as TRAFFIC FROM mta GROUP BY STATION ORDER BY TRAFFIC DESC;', eng)\n",
    "s"
   ]
  },
  {
   "cell_type": "code",
   "execution_count": 247,
   "metadata": {},
   "outputs": [
    {
     "data": {
      "text/html": [
       "<div>\n",
       "<style scoped>\n",
       "    .dataframe tbody tr th:only-of-type {\n",
       "        vertical-align: middle;\n",
       "    }\n",
       "\n",
       "    .dataframe tbody tr th {\n",
       "        vertical-align: top;\n",
       "    }\n",
       "\n",
       "    .dataframe thead th {\n",
       "        text-align: right;\n",
       "    }\n",
       "</style>\n",
       "<table border=\"1\" class=\"dataframe\">\n",
       "  <thead>\n",
       "    <tr style=\"text-align: right;\">\n",
       "      <th></th>\n",
       "      <th>STATION</th>\n",
       "      <th>DAY</th>\n",
       "      <th>AVG_TRAFFIC</th>\n",
       "    </tr>\n",
       "  </thead>\n",
       "  <tbody>\n",
       "    <tr>\n",
       "      <th>0</th>\n",
       "      <td>5 AV/59 ST</td>\n",
       "      <td>Sunday</td>\n",
       "      <td>108115.868132</td>\n",
       "    </tr>\n",
       "    <tr>\n",
       "      <th>1</th>\n",
       "      <td>49 ST</td>\n",
       "      <td>Friday</td>\n",
       "      <td>107456.450000</td>\n",
       "    </tr>\n",
       "    <tr>\n",
       "      <th>2</th>\n",
       "      <td>5 AV/59 ST</td>\n",
       "      <td>Monday</td>\n",
       "      <td>106913.450549</td>\n",
       "    </tr>\n",
       "    <tr>\n",
       "      <th>3</th>\n",
       "      <td>57 ST-7 AV</td>\n",
       "      <td>Thursday</td>\n",
       "      <td>105682.530769</td>\n",
       "    </tr>\n",
       "  </tbody>\n",
       "</table>\n",
       "</div>"
      ],
      "text/plain": [
       "      STATION       DAY   AVG_TRAFFIC\n",
       "0  5 AV/59 ST    Sunday 108115.868132\n",
       "1       49 ST    Friday 107456.450000\n",
       "2  5 AV/59 ST    Monday 106913.450549\n",
       "3  57 ST-7 AV  Thursday 105682.530769"
      ]
     },
     "execution_count": 247,
     "metadata": {},
     "output_type": "execute_result"
    }
   ],
   "source": [
    "s=pd.read_sql('SELECT STATION, DAY, avg(DAILY_TRAFFIC) as AVG_TRAFFIC FROM mta GROUP BY STATION, DAY ORDER BY AVG_TRAFFIC DESC limit 4;', eng)\n",
    "s"
   ]
  },
  {
   "cell_type": "markdown",
   "metadata": {},
   "source": [
    "Sunday is meanly the busiest day, I believe because it is a vacation day where people mostly visits and gather with their families."
   ]
  },
  {
   "cell_type": "markdown",
   "metadata": {},
   "source": [
    "### Data Visualization"
   ]
  },
  {
   "cell_type": "code",
   "execution_count": 102,
   "metadata": {},
   "outputs": [],
   "source": [
    "# to see numbers on better format\n",
    "pd.set_option('float_format', '{:2f}'.format)"
   ]
  },
  {
   "cell_type": "code",
   "execution_count": 103,
   "metadata": {},
   "outputs": [],
   "source": [
    "# Group by to find trafic for Top 5 stations\n",
    "df_station = df_daily.groupby(['STATION']).DAILY_TRAFFIC.sum().reset_index().sort_values(['DAILY_TRAFFIC'],ascending=False).head()"
   ]
  },
  {
   "cell_type": "code",
   "execution_count": 104,
   "metadata": {},
   "outputs": [],
   "source": [
    "# Group by to find trafic for Bottom 5 stations\n",
    "df_station_tail = df_daily.groupby(['STATION']).DAILY_TRAFFIC.sum().reset_index().sort_values(['DAILY_TRAFFIC'],ascending=False).tail()"
   ]
  },
  {
   "cell_type": "code",
   "execution_count": 105,
   "metadata": {},
   "outputs": [],
   "source": [
    "# Group by to find trafic for each station and Date\n",
    "df_station_day =  df_daily.groupby(['STATION','DATE']).DAILY_TRAFFIC.sum().reset_index()"
   ]
  },
  {
   "cell_type": "code",
   "execution_count": 153,
   "metadata": {},
   "outputs": [],
   "source": [
    "# Group by to find trafic for each station and turnstile\n",
    "df_turn =  df_daily.groupby(['STATION','TURNSTILE']).DAILY_TRAFFIC.sum().reset_index().sort_values(['DAILY_TRAFFIC'],ascending=False)\n",
    "\n",
    "#Filter on mpst crowded station\n",
    "df_turn=df_turn[df_turn[\"STATION\"]==\"57 ST-7 AV\"]"
   ]
  },
  {
   "cell_type": "code",
   "execution_count": 107,
   "metadata": {},
   "outputs": [],
   "source": [
    "# To find the top 4 stations\n",
    "x = df_station.STATION.tolist()"
   ]
  },
  {
   "cell_type": "code",
   "execution_count": 108,
   "metadata": {},
   "outputs": [],
   "source": [
    "# Filter the dataframe for top 5 stations\n",
    "boolean_series = df_station_day.STATION.isin(x)\n",
    "df_station_day = df_station_day[boolean_series]"
   ]
  },
  {
   "cell_type": "code",
   "execution_count": 109,
   "metadata": {
    "scrolled": false
   },
   "outputs": [],
   "source": [
    "# drop the first day since it has a lot of missing entries for trafic\n",
    "df_station_day = df_station_day[ df_station_day['DATE'] != '2021-05-29']"
   ]
  },
  {
   "cell_type": "markdown",
   "metadata": {},
   "source": [
    "**Comparison between the top 4 Stations for 3 months.**"
   ]
  },
  {
   "cell_type": "code",
   "execution_count": 283,
   "metadata": {
    "scrolled": false
   },
   "outputs": [
    {
     "data": {
      "image/png": "[encoded data removed]",
      "text/plain": [
       "<Figure size 1080x360 with 1 Axes>"
      ]
     },
     "metadata": {
      "needs_background": "light"
     },
     "output_type": "display_data"
    }
   ],
   "source": [
    "plt.figure(figsize = [15,5]);\n",
    "axx = sns.lineplot(data=df_station_day,x='DATE',y='DAILY_TRAFFIC',hue='STATION',  ci=None,);\n",
    "plt.xlabel('Date', fontsize = '14');\n",
    "plt.ylabel('# of Riders',  fontsize = '14');\n",
    "plt.title('Daily Traffic for each Date for the Top 4 Station',fontsize = '15');\n",
    "axx.xaxis.set_major_locator(mdates.DayLocator(interval=2))\n",
    "axx.yaxis.set_major_formatter(FormatStrFormatter('%.2i'))\n",
    "plt.xticks(rotation = 90, fontsize = '12');"
   ]
  },
  {
   "cell_type": "markdown",
   "metadata": {},
   "source": [
    "From here we can see that `57 ST-7 AV` station was the busiest station and it reach huge amount of riders at 17/6/2021 and 23/7/2021.\n",
    "\n",
    "So i will prefer posting ads on 57 ST-7 AV station\n"
   ]
  },
  {
   "cell_type": "markdown",
   "metadata": {},
   "source": [
    "**Comparing top 4 stations by their daily traffic**"
   ]
  },
  {
   "cell_type": "code",
   "execution_count": 254,
   "metadata": {
    "scrolled": true
   },
   "outputs": [
    {
     "data": {
      "image/png": "[encoded data removed]",
      "text/plain": [
       "<Figure size 576x360 with 1 Axes>"
      ]
     },
     "metadata": {
      "needs_background": "light"
     },
     "output_type": "display_data"
    }
   ],
   "source": [
    "plt.figure(figsize = [8,5]);\n",
    "ax =sns.barplot(data=df_station,x='STATION',y='DAILY_TRAFFIC',palette=\"Blues_d\",ci=None);\n",
    "plt.xlabel('Stations',  fontsize = '14');\n",
    "plt.ylabel('# Riders',  fontsize = '14');\n",
    "plt.title('Top 4 Stations by total daily traffic',  fontsize = '15');\n",
    "ax.yaxis.set_major_formatter(FormatStrFormatter('%.2i'))\n",
    "plt.xticks(rotation=0, ha='right');\n",
    "\n",
    "# fig, axes = plt.subplots(1, 2)\n",
    "# fig.set_figwidth(20)\n",
    "\n",
    "# axes[0].set_title(\"Top 4 Stations by Total Traffic\",  fontsize = '16')\n",
    "# axes[0].yaxis.set_major_formatter(FormatStrFormatter('%.2i'))\n",
    "# sns.barplot(ax=axes[0],data=df_station,x='STATION',y='DAILY_TRAFFIC', palette=\"Blues_d\" ,ci=None);"
   ]
  },
  {
   "cell_type": "code",
   "execution_count": 259,
   "metadata": {},
   "outputs": [
    {
     "data": {
      "image/png": "[encoded data removed]",
      "text/plain": [
       "<Figure size 1080x360 with 1 Axes>"
      ]
     },
     "metadata": {
      "needs_background": "light"
     },
     "output_type": "display_data"
    }
   ],
   "source": [
    "top_10 =df_daily.groupby(['STATION']).agg({'DAILY_TRAFFIC': sum}).sort_values(by = 'DAILY_TRAFFIC', ascending = False).head(10)\n",
    "\n",
    "fig, ax = plt.subplots(figsize=(15, 5))\n",
    "top_10.sort_values(by = 'DAILY_TRAFFIC',ascending=True).plot(kind='barh', color ='powderblue',ax=ax)\n",
    "ax.set(title='Top 4 Stations by Total Traffic', xlabel='# Riders', ylabel='')\n",
    "ax.legend().set_visible(False)"
   ]
  },
  {
   "cell_type": "markdown",
   "metadata": {},
   "source": [
    "We can ensure from above plots that `57 ST-7 AV` has most daily traffic, hence, it is the most crowded station."
   ]
  },
  {
   "cell_type": "code",
   "execution_count": 260,
   "metadata": {},
   "outputs": [
    {
     "data": {
      "image/png": "[encoded data removed]",
      "text/plain": [
       "<Figure size 1080x360 with 1 Axes>"
      ]
     },
     "metadata": {
      "needs_background": "light"
     },
     "output_type": "display_data"
    }
   ],
   "source": [
    "plt.figure(figsize = [15,5]);\n",
    "ax =sns.barplot(data=df_turn,x='TURNSTILE',y='DAILY_TRAFFIC',palette=\"Blues_d\",ci=None);\n",
    "plt.xlabel('Turnstiles',  fontsize = '14');\n",
    "plt.ylabel('# Riders',  fontsize = '14');\n",
    "plt.title('Riders for each Turnstile at 57 ST-7 AV station',  fontsize = '15');\n",
    "ax.yaxis.set_major_formatter(FormatStrFormatter('%.2i'))\n",
    "plt.xticks(rotation=45, ha='right');"
   ]
  },
  {
   "cell_type": "markdown",
   "metadata": {},
   "source": [
    "The Turnstile `A010-R080-00-00-05` has most Entries and Exits So number of Riders for this Turnstile are greater than other Turnstiles."
   ]
  },
  {
   "cell_type": "code",
   "execution_count": 261,
   "metadata": {},
   "outputs": [
    {
     "data": {
      "text/html": [
       "<div>\n",
       "<style scoped>\n",
       "    .dataframe tbody tr th:only-of-type {\n",
       "        vertical-align: middle;\n",
       "    }\n",
       "\n",
       "    .dataframe tbody tr th {\n",
       "        vertical-align: top;\n",
       "    }\n",
       "\n",
       "    .dataframe thead th {\n",
       "        text-align: right;\n",
       "    }\n",
       "</style>\n",
       "<table border=\"1\" class=\"dataframe\">\n",
       "  <thead>\n",
       "    <tr style=\"text-align: right;\">\n",
       "      <th></th>\n",
       "      <th>TURNSTILE</th>\n",
       "      <th>DATE</th>\n",
       "      <th>STATION</th>\n",
       "      <th>LINENAME</th>\n",
       "      <th>ENTRIES</th>\n",
       "      <th>EXITS</th>\n",
       "      <th>DAILY_ENTRIES</th>\n",
       "      <th>DAILY_EXITS</th>\n",
       "      <th>DAILY_TRAFFIC</th>\n",
       "      <th>MONTH</th>\n",
       "      <th>DAY</th>\n",
       "    </tr>\n",
       "  </thead>\n",
       "  <tbody>\n",
       "    <tr>\n",
       "      <th>1</th>\n",
       "      <td>A002-R051-02-00-00</td>\n",
       "      <td>2021-05-30</td>\n",
       "      <td>59 ST</td>\n",
       "      <td>NQR456W</td>\n",
       "      <td>7579275</td>\n",
       "      <td>1540407.000000</td>\n",
       "      <td>254.000000</td>\n",
       "      <td>0.000000</td>\n",
       "      <td>254.000000</td>\n",
       "      <td>may</td>\n",
       "      <td>Sunday</td>\n",
       "    </tr>\n",
       "    <tr>\n",
       "      <th>2</th>\n",
       "      <td>A002-R051-02-00-00</td>\n",
       "      <td>2021-05-31</td>\n",
       "      <td>59 ST</td>\n",
       "      <td>NQR456W</td>\n",
       "      <td>7579593</td>\n",
       "      <td>5480635.000000</td>\n",
       "      <td>318.000000</td>\n",
       "      <td>0.000000</td>\n",
       "      <td>318.000000</td>\n",
       "      <td>may</td>\n",
       "      <td>Monday</td>\n",
       "    </tr>\n",
       "    <tr>\n",
       "      <th>3</th>\n",
       "      <td>A002-R051-02-00-00</td>\n",
       "      <td>2021-06-01</td>\n",
       "      <td>59 ST</td>\n",
       "      <td>NQR456W</td>\n",
       "      <td>7580178</td>\n",
       "      <td>2569924.000000</td>\n",
       "      <td>585.000000</td>\n",
       "      <td>0.000000</td>\n",
       "      <td>585.000000</td>\n",
       "      <td>june</td>\n",
       "      <td>Tuesday</td>\n",
       "    </tr>\n",
       "  </tbody>\n",
       "</table>\n",
       "</div>"
      ],
      "text/plain": [
       "            TURNSTILE       DATE STATION LINENAME  ENTRIES          EXITS  \\\n",
       "1  A002-R051-02-00-00 2021-05-30   59 ST  NQR456W  7579275 1540407.000000   \n",
       "2  A002-R051-02-00-00 2021-05-31   59 ST  NQR456W  7579593 5480635.000000   \n",
       "3  A002-R051-02-00-00 2021-06-01   59 ST  NQR456W  7580178 2569924.000000   \n",
       "\n",
       "   DAILY_ENTRIES  DAILY_EXITS  DAILY_TRAFFIC MONTH      DAY  \n",
       "1     254.000000     0.000000     254.000000   may   Sunday  \n",
       "2     318.000000     0.000000     318.000000   may   Monday  \n",
       "3     585.000000     0.000000     585.000000  june  Tuesday  "
      ]
     },
     "execution_count": 261,
     "metadata": {},
     "output_type": "execute_result"
    }
   ],
   "source": [
    "df_daily.head(3)"
   ]
  },
  {
   "cell_type": "code",
   "execution_count": 274,
   "metadata": {
    "scrolled": true
   },
   "outputs": [
    {
     "data": {
      "image/png": "[encoded data removed]",
      "text/plain": [
       "<Figure size 1080x360 with 1 Axes>"
      ]
     },
     "metadata": {
      "needs_background": "light"
     },
     "output_type": "display_data"
    }
   ],
   "source": [
    "fig, axs = plt.subplots(nrows=1,figsize=(15,5))\n",
    "\n",
    "sns.barplot(data = df_daily.groupby('DAY').sum().reset_index(), x='DAY', y='DAILY_TRAFFIC', color=\"powderblue\",ax=axs, label=\"Traffic\").set(title='Daily Traffic by Weekday', xticklabels=['Mon','Tue','Wed','Thu','Fri','Sat','Sun'], xlabel='Day', ylabel='# Riders');\n",
    "\n",
    "axs = plt.gca()"
   ]
  },
  {
   "cell_type": "code",
   "execution_count": 275,
   "metadata": {},
   "outputs": [
    {
     "data": {
      "text/plain": [
       "july      1691\n",
       "june      1673\n",
       "august    1485\n",
       "may        167\n",
       "Name: MONTH, dtype: int64"
      ]
     },
     "execution_count": 275,
     "metadata": {},
     "output_type": "execute_result"
    }
   ],
   "source": [
    "df_daily['MONTH'].value_counts()"
   ]
  },
  {
   "cell_type": "code",
   "execution_count": 276,
   "metadata": {
    "scrolled": true
   },
   "outputs": [
    {
     "data": {
      "image/png": "[encoded data removed]",
      "text/plain": [
       "<Figure size 864x360 with 1 Axes>"
      ]
     },
     "metadata": {
      "needs_background": "light"
     },
     "output_type": "display_data"
    }
   ],
   "source": [
    "fig, axs = plt.subplots(figsize=(12,5))\n",
    "\n",
    "sns.barplot(data = df_daily.groupby('MONTH').sum().reset_index(), x='MONTH', y='DAILY_TRAFFIC', color=sns.color_palette()[9],ax=axs, label=\"Traffic\").set(title='Daily Traffic by Month', xticklabels=['June','July','August','May'], xlabel='Month', ylabel='# Riders');\n",
    "\n",
    "axs = plt.gca()"
   ]
  },
  {
   "cell_type": "code",
   "execution_count": 297,
   "metadata": {},
   "outputs": [
    {
     "data": {
      "image/png": "[encoded data removed]",
      "text/plain": [
       "<Figure size 432x288 with 1 Axes>"
      ]
     },
     "metadata": {},
     "output_type": "display_data"
    }
   ],
   "source": [
    "#plot pie chart of day type column\n",
    "mont = df_daily['MONTH'].value_counts()\n",
    "colors=['steelblue','lightskyblue','lightblue','lightcyan']\n",
    "mont.plot.pie(autopct=lambda x: '{:.0f}'.format(x*mont.sum()/100) ,colors=colors, shadow=True, startangle=90, explode=(0, 0.1, 0, 0));"
   ]
  },
  {
   "cell_type": "markdown",
   "metadata": {},
   "source": [
    "The month where people use metro stations the most is July which make sense bacause it usually consider summer vacation in U.S, NYC where people travel and go out with their families and friends more than rest of months, thus they use metro stations more."
   ]
  },
  {
   "cell_type": "code",
   "execution_count": 299,
   "metadata": {},
   "outputs": [
    {
     "data": {
      "image/png": "[encoded data removed]",
      "text/plain": [
       "<Figure size 864x360 with 1 Axes>"
      ]
     },
     "metadata": {
      "needs_background": "light"
     },
     "output_type": "display_data"
    }
   ],
   "source": [
    "fig, axs = plt.subplots(figsize=(12,5))\n",
    "\n",
    "sns.barplot(data = df_daily.groupby('STATION_NAME').sum().reset_index(), x='STATION_NAME', y='DAILY_TRAFFIC', color='lightskyblue',ax=axs, label=\"Traffic\").set(title='Daily Traffic by Place', xticklabels=['57th St-Seventh Avenue','5th Avenue & Central Park','59th Street','49th St & Times Square'], xlabel='Place', ylabel='# Riders');\n",
    "plt.xticks(rotation=45, ha='right');\n",
    "#axs = plt.gca()"
   ]
  },
  {
   "cell_type": "markdown",
   "metadata": {},
   "source": [
    "\"5th Avenue & Central Park\" is the most crowded place and \"49th St & Times Square\" is the second most crowded. hence, we can focus on those places to post our ads."
   ]
  },
  {
   "cell_type": "markdown",
   "metadata": {},
   "source": [
    "## Conclusion"
   ]
  },
  {
   "cell_type": "markdown",
   "metadata": {},
   "source": [
    "> After analyzing MTA data we can conclude the following:\n",
    "   - `57 ST-7 AV` is the most crowded station\n",
    "   - The Turnstile `A010-R080-00-00-05` has most Entries and Exits\n",
    "   - `5th Avenue & Central Park` and `49th St & Times Square` are most crowded places recording to our data\n",
    "   -  Recording to our data, most of riders were visiting metro station at July.\n",
    "   -  The Traffic mostly falls at August\n",
    "   -  Friday is the day where most traffic occur."
   ]
  },
  {
   "cell_type": "markdown",
   "metadata": {},
   "source": [
    "## Limitation\n",
    "\n",
    "> Due to time limitation I couldn't analyze the impact of COVID-19"
   ]
  }
 ],
 "metadata": {
  "kernelspec": {
   "display_name": "Python 3",
   "language": "python",
   "name": "python3"
  },
  "language_info": {
   "codemirror_mode": {
    "name": "ipython",
    "version": 3
   },
   "file_extension": ".py",
   "mimetype": "text/x-python",
   "name": "python",
   "nbconvert_exporter": "python",
   "pygments_lexer": "ipython3",
   "version": "3.8.3"
  }
 },
 "nbformat": 4,
 "nbformat_minor": 5
}
